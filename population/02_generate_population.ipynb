{
 "cells": [
  {
   "cell_type": "markdown",
   "metadata": {},
   "source": [
    "### Load .py file\n",
    "%load 02_generate_population.py \n",
    "\n",
    "### Merge lines\n",
    "Merge all selected lines with Shift + M\n",
    "\n",
    "### Write \n",
    "%%writefile 02_generate_population.py"
   ]
  },
  {
   "cell_type": "code",
   "execution_count": 2,
   "metadata": {},
   "outputs": [
    {
     "name": "stderr",
     "output_type": "stream",
     "text": [
      "/Users/tjark/opt/anaconda3/lib/python3.9/site-packages/geopandas/_compat.py:123: UserWarning: The Shapely GEOS version (3.8.0-CAPI-1.13.1) is incompatible with the GEOS version PyGEOS was compiled with (3.10.1-CAPI-1.16.0). Conversions between both will be slow.\n",
      "  warnings.warn(\n",
      "/var/folders/93/smcvnv_s04v84f_dnqvd4xkw0000gn/T/ipykernel_2826/3750943938.py:4: UserWarning: Shapely 2.0 is installed, but because PyGEOS is also installed, GeoPandas will still use PyGEOS by default for now. To force to use and test Shapely 2.0, you have to set the environment variable USE_PYGEOS=0. You can do this before starting the Python process, or in your code before importing geopandas:\n",
      "\n",
      "import os\n",
      "os.environ['USE_PYGEOS'] = '0'\n",
      "import geopandas\n",
      "\n",
      "In a future release, GeoPandas will switch to using Shapely by default. If you are using PyGEOS directly (calling PyGEOS functions on geometries from GeoPandas), this will then stop working and you are encouraged to migrate from PyGEOS to Shapely 2.0 (https://shapely.readthedocs.io/en/latest/migration_pygeos.html).\n",
      "  import geopandas as gpd\n"
     ]
    }
   ],
   "source": [
    "from sklearn.neighbors import NearestNeighbors\n",
    "from rtree import index\n",
    "from shapely.wkt import loads\n",
    "import geopandas as gpd\n",
    "import matplotlib.pyplot as plt\n",
    "import pandas as pd\n",
    "import numpy as np\n",
    "import contextily as ctx\n",
    "import random\n",
    "import time\n",
    "import os"
   ]
  },
  {
   "cell_type": "code",
   "execution_count": 3,
   "metadata": {},
   "outputs": [
    {
     "data": {
      "text/plain": [
       "'/Users/tjark/Documents/Python/CairoPopulation.nosync/tfc-git/population'"
      ]
     },
     "execution_count": 3,
     "metadata": {},
     "output_type": "execute_result"
    }
   ],
   "source": [
    "pwd"
   ]
  },
  {
   "cell_type": "code",
   "execution_count": 4,
   "metadata": {},
   "outputs": [],
   "source": [
    "#move working directory up to acces data with relative paths\n",
    "os.chdir(\"..\")"
   ]
  },
  {
   "cell_type": "markdown",
   "metadata": {},
   "source": [
    "### Part 1: Scale up individuals based on household weight mean"
   ]
  },
  {
   "cell_type": "code",
   "execution_count": 5,
   "metadata": {},
   "outputs": [],
   "source": [
    "#load individual LFS data of GCR from csv\n",
    "ind = pd.read_csv('data/interim/ind.csv')"
   ]
  },
  {
   "cell_type": "code",
   "execution_count": 6,
   "metadata": {},
   "outputs": [],
   "source": [
    "#load address points within GCR with ADM3_PCODE assigned shapefile \n",
    "gcraddr = gpd.read_file('data/interim/gcrpts.shp')"
   ]
  },
  {
   "cell_type": "code",
   "execution_count": 7,
   "metadata": {},
   "outputs": [
    {
     "data": {
      "text/plain": [
       "1204766"
      ]
     },
     "execution_count": 7,
     "metadata": {},
     "output_type": "execute_result"
    }
   ],
   "source": [
    "len(gcraddr)"
   ]
  },
  {
   "cell_type": "code",
   "execution_count": 6,
   "metadata": {},
   "outputs": [
    {
     "name": "stdout",
     "output_type": "stream",
     "text": [
      "There are 259 ADM3_PCODE areas with LFS dat11 Rue Joliot Curiea points of a total of 489 areas.\n"
     ]
    }
   ],
   "source": [
    "#Count number of different ADM3 areas with LFS data\n",
    "print(\"There are\",ind.groupby('ADM3_PCODE').count().count()[1],\n",
    "      \"ADM3_PCODE areas with LFS dat11 Rue Joliot Curiea points of a total of\",\n",
    "      gcraddr.groupby('ADM3_PCODE').count().count()[1],\"areas.\")"
   ]
  },
  {
   "cell_type": "code",
   "execution_count": 7,
   "metadata": {},
   "outputs": [
    {
     "name": "stderr",
     "output_type": "stream",
     "text": [
      "/var/folders/93/smcvnv_s04v84f_dnqvd4xkw0000gn/T/ipykernel_1761/3045037954.py:2: FutureWarning: The default value of numeric_only in DataFrameGroupBy.mean is deprecated. In a future version, numeric_only will default to False. Either specify numeric_only or select only columns which should be valid for the function.\n",
      "  hhmean = ind.groupby('CASESER').mean().iloc[:,7]\n"
     ]
    }
   ],
   "source": [
    "#calculate mean weight for each household, only keep column of weights\n",
    "hhmean = ind.groupby('CASESER').mean().iloc[:,7]"
   ]
  },
  {
   "cell_type": "code",
   "execution_count": 8,
   "metadata": {},
   "outputs": [],
   "source": [
    "#merge dfs of LFS and mean weights\n",
    "indwght = pd.merge(ind,hhmean,on='CASESER')"
   ]
  },
  {
   "cell_type": "code",
   "execution_count": 9,
   "metadata": {},
   "outputs": [
    {
     "data": {
      "text/html": [
       "<div>\n",
       "<style scoped>\n",
       "    .dataframe tbody tr th:only-of-type {\n",
       "        vertical-align: middle;\n",
       "    }\n",
       "\n",
       "    .dataframe tbody tr th {\n",
       "        vertical-align: top;\n",
       "    }\n",
       "\n",
       "    .dataframe thead th {\n",
       "        text-align: right;\n",
       "    }\n",
       "</style>\n",
       "<table border=\"1\" class=\"dataframe\">\n",
       "  <thead>\n",
       "    <tr style=\"text-align: right;\">\n",
       "      <th></th>\n",
       "      <th>Unnamed: 0.1</th>\n",
       "      <th>Unnamed: 0</th>\n",
       "      <th>COUNTRY</th>\n",
       "      <th>YEAR</th>\n",
       "      <th>ROUND</th>\n",
       "      <th>DTYPE</th>\n",
       "      <th>CASESER</th>\n",
       "      <th>PNUM</th>\n",
       "      <th>PWEIGHT_x</th>\n",
       "      <th>REG</th>\n",
       "      <th>...</th>\n",
       "      <th>SRCHACT_05</th>\n",
       "      <th>SRCHACT_06</th>\n",
       "      <th>SRCHACT_07</th>\n",
       "      <th>SRCHACT_08</th>\n",
       "      <th>SRCHACT_09</th>\n",
       "      <th>SRCHACT_10</th>\n",
       "      <th>SRCHACT_90</th>\n",
       "      <th>NOTSRCH_R</th>\n",
       "      <th>ADM3_PCODE</th>\n",
       "      <th>PWEIGHT_y</th>\n",
       "    </tr>\n",
       "  </thead>\n",
       "  <tbody>\n",
       "    <tr>\n",
       "      <th>0</th>\n",
       "      <td>0</td>\n",
       "      <td>1</td>\n",
       "      <td>818</td>\n",
       "      <td>2018</td>\n",
       "      <td>1</td>\n",
       "      <td>1</td>\n",
       "      <td>10110110150001</td>\n",
       "      <td>1</td>\n",
       "      <td>287.494438</td>\n",
       "      <td>818001</td>\n",
       "      <td>...</td>\n",
       "      <td>NaN</td>\n",
       "      <td>NaN</td>\n",
       "      <td>NaN</td>\n",
       "      <td>NaN</td>\n",
       "      <td>NaN</td>\n",
       "      <td>NaN</td>\n",
       "      <td>NaN</td>\n",
       "      <td>NaN</td>\n",
       "      <td>EG013202</td>\n",
       "      <td>340.944057</td>\n",
       "    </tr>\n",
       "    <tr>\n",
       "      <th>1</th>\n",
       "      <td>1</td>\n",
       "      <td>2</td>\n",
       "      <td>818</td>\n",
       "      <td>2018</td>\n",
       "      <td>1</td>\n",
       "      <td>1</td>\n",
       "      <td>10110110150001</td>\n",
       "      <td>2</td>\n",
       "      <td>403.016385</td>\n",
       "      <td>818001</td>\n",
       "      <td>...</td>\n",
       "      <td>NaN</td>\n",
       "      <td>NaN</td>\n",
       "      <td>NaN</td>\n",
       "      <td>NaN</td>\n",
       "      <td>NaN</td>\n",
       "      <td>NaN</td>\n",
       "      <td>NaN</td>\n",
       "      <td>15.0</td>\n",
       "      <td>EG013202</td>\n",
       "      <td>340.944057</td>\n",
       "    </tr>\n",
       "    <tr>\n",
       "      <th>2</th>\n",
       "      <td>2</td>\n",
       "      <td>3</td>\n",
       "      <td>818</td>\n",
       "      <td>2018</td>\n",
       "      <td>1</td>\n",
       "      <td>1</td>\n",
       "      <td>10110110150001</td>\n",
       "      <td>3</td>\n",
       "      <td>403.016385</td>\n",
       "      <td>818001</td>\n",
       "      <td>...</td>\n",
       "      <td>NaN</td>\n",
       "      <td>NaN</td>\n",
       "      <td>NaN</td>\n",
       "      <td>NaN</td>\n",
       "      <td>NaN</td>\n",
       "      <td>NaN</td>\n",
       "      <td>NaN</td>\n",
       "      <td>15.0</td>\n",
       "      <td>EG013202</td>\n",
       "      <td>340.944057</td>\n",
       "    </tr>\n",
       "    <tr>\n",
       "      <th>3</th>\n",
       "      <td>3</td>\n",
       "      <td>4</td>\n",
       "      <td>818</td>\n",
       "      <td>2018</td>\n",
       "      <td>1</td>\n",
       "      <td>1</td>\n",
       "      <td>10110110150001</td>\n",
       "      <td>4</td>\n",
       "      <td>270.249019</td>\n",
       "      <td>818001</td>\n",
       "      <td>...</td>\n",
       "      <td>NaN</td>\n",
       "      <td>NaN</td>\n",
       "      <td>NaN</td>\n",
       "      <td>NaN</td>\n",
       "      <td>NaN</td>\n",
       "      <td>NaN</td>\n",
       "      <td>NaN</td>\n",
       "      <td>15.0</td>\n",
       "      <td>EG013202</td>\n",
       "      <td>340.944057</td>\n",
       "    </tr>\n",
       "    <tr>\n",
       "      <th>4</th>\n",
       "      <td>4</td>\n",
       "      <td>5</td>\n",
       "      <td>818</td>\n",
       "      <td>2018</td>\n",
       "      <td>1</td>\n",
       "      <td>1</td>\n",
       "      <td>10110110150002</td>\n",
       "      <td>1</td>\n",
       "      <td>367.696135</td>\n",
       "      <td>818001</td>\n",
       "      <td>...</td>\n",
       "      <td>0.0</td>\n",
       "      <td>1.0</td>\n",
       "      <td>0.0</td>\n",
       "      <td>0.0</td>\n",
       "      <td>0.0</td>\n",
       "      <td>0.0</td>\n",
       "      <td>0.0</td>\n",
       "      <td>NaN</td>\n",
       "      <td>EG013202</td>\n",
       "      <td>354.097778</td>\n",
       "    </tr>\n",
       "  </tbody>\n",
       "</table>\n",
       "<p>5 rows × 79 columns</p>\n",
       "</div>"
      ],
      "text/plain": [
       "   Unnamed: 0.1  Unnamed: 0  COUNTRY  YEAR  ROUND  DTYPE         CASESER  \\\n",
       "0             0           1      818  2018      1      1  10110110150001   \n",
       "1             1           2      818  2018      1      1  10110110150001   \n",
       "2             2           3      818  2018      1      1  10110110150001   \n",
       "3             3           4      818  2018      1      1  10110110150001   \n",
       "4             4           5      818  2018      1      1  10110110150002   \n",
       "\n",
       "   PNUM   PWEIGHT_x     REG  ...  SRCHACT_05  SRCHACT_06  SRCHACT_07  \\\n",
       "0     1  287.494438  818001  ...         NaN         NaN         NaN   \n",
       "1     2  403.016385  818001  ...         NaN         NaN         NaN   \n",
       "2     3  403.016385  818001  ...         NaN         NaN         NaN   \n",
       "3     4  270.249019  818001  ...         NaN         NaN         NaN   \n",
       "4     1  367.696135  818001  ...         0.0         1.0         0.0   \n",
       "\n",
       "   SRCHACT_08  SRCHACT_09  SRCHACT_10  SRCHACT_90  NOTSRCH_R  ADM3_PCODE  \\\n",
       "0         NaN         NaN         NaN         NaN        NaN    EG013202   \n",
       "1         NaN         NaN         NaN         NaN       15.0    EG013202   \n",
       "2         NaN         NaN         NaN         NaN       15.0    EG013202   \n",
       "3         NaN         NaN         NaN         NaN       15.0    EG013202   \n",
       "4         0.0         0.0         0.0         0.0        NaN    EG013202   \n",
       "\n",
       "    PWEIGHT_y  \n",
       "0  340.944057  \n",
       "1  340.944057  \n",
       "2  340.944057  \n",
       "3  340.944057  \n",
       "4  354.097778  \n",
       "\n",
       "[5 rows x 79 columns]"
      ]
     },
     "execution_count": 9,
     "metadata": {},
     "output_type": "execute_result"
    }
   ],
   "source": [
    "indwght.head()"
   ]
  },
  {
   "cell_type": "code",
   "execution_count": 10,
   "metadata": {},
   "outputs": [],
   "source": [
    "# define a function to scale up the rows and add new IDs to each nth occurrence\n",
    "def scale_rows(df_group):\n",
    "    # calculate the number of times to repeat each row\n",
    "    weight = df_group['PWEIGHT_y'].iloc[0]\n",
    "    # repeat each row based on the weight column\n",
    "    df_group = df_group.iloc[np.repeat(np.arange(len(df_group)), weight)]\n",
    "    # add new IDs for each new occurrence, restarting for each initial ID\n",
    "    df_group['HHID'] = np.arange(len(df_group)) % weight\n",
    "    return df_group\n",
    "\n",
    "# apply the scaling function to each group of rows with the same ID\n",
    "ind_scaled = indwght.groupby('Unnamed: 0.1').apply(scale_rows)\n",
    "\n",
    "# reset the index of the new dataframe\n",
    "ind_scaled.reset_index(drop=True, inplace=True)"
   ]
  },
  {
   "cell_type": "code",
   "execution_count": 11,
   "metadata": {},
   "outputs": [],
   "source": [
    "ind_reindex = ind_scaled"
   ]
  },
  {
   "cell_type": "code",
   "execution_count": 12,
   "metadata": {},
   "outputs": [],
   "source": [
    "ind_reindex['HHID'] = ind_reindex['HHID'].astype(int).astype(str)"
   ]
  },
  {
   "cell_type": "code",
   "execution_count": 13,
   "metadata": {},
   "outputs": [
    {
     "data": {
      "text/html": [
       "<div>\n",
       "<style scoped>\n",
       "    .dataframe tbody tr th:only-of-type {\n",
       "        vertical-align: middle;\n",
       "    }\n",
       "\n",
       "    .dataframe tbody tr th {\n",
       "        vertical-align: top;\n",
       "    }\n",
       "\n",
       "    .dataframe thead th {\n",
       "        text-align: right;\n",
       "    }\n",
       "</style>\n",
       "<table border=\"1\" class=\"dataframe\">\n",
       "  <thead>\n",
       "    <tr style=\"text-align: right;\">\n",
       "      <th></th>\n",
       "      <th>Unnamed: 0.1</th>\n",
       "      <th>Unnamed: 0</th>\n",
       "      <th>COUNTRY</th>\n",
       "      <th>YEAR</th>\n",
       "      <th>ROUND</th>\n",
       "      <th>DTYPE</th>\n",
       "      <th>CASESER</th>\n",
       "      <th>PNUM</th>\n",
       "      <th>PWEIGHT_x</th>\n",
       "      <th>REG</th>\n",
       "      <th>...</th>\n",
       "      <th>SRCHACT_06</th>\n",
       "      <th>SRCHACT_07</th>\n",
       "      <th>SRCHACT_08</th>\n",
       "      <th>SRCHACT_09</th>\n",
       "      <th>SRCHACT_10</th>\n",
       "      <th>SRCHACT_90</th>\n",
       "      <th>NOTSRCH_R</th>\n",
       "      <th>ADM3_PCODE</th>\n",
       "      <th>PWEIGHT_y</th>\n",
       "      <th>HHID</th>\n",
       "    </tr>\n",
       "  </thead>\n",
       "  <tbody>\n",
       "    <tr>\n",
       "      <th>0</th>\n",
       "      <td>0</td>\n",
       "      <td>1</td>\n",
       "      <td>818</td>\n",
       "      <td>2018</td>\n",
       "      <td>1</td>\n",
       "      <td>1</td>\n",
       "      <td>10110110150001</td>\n",
       "      <td>1</td>\n",
       "      <td>287.494438</td>\n",
       "      <td>818001</td>\n",
       "      <td>...</td>\n",
       "      <td>NaN</td>\n",
       "      <td>NaN</td>\n",
       "      <td>NaN</td>\n",
       "      <td>NaN</td>\n",
       "      <td>NaN</td>\n",
       "      <td>NaN</td>\n",
       "      <td>NaN</td>\n",
       "      <td>EG013202</td>\n",
       "      <td>340.944057</td>\n",
       "      <td>0</td>\n",
       "    </tr>\n",
       "    <tr>\n",
       "      <th>1</th>\n",
       "      <td>0</td>\n",
       "      <td>1</td>\n",
       "      <td>818</td>\n",
       "      <td>2018</td>\n",
       "      <td>1</td>\n",
       "      <td>1</td>\n",
       "      <td>10110110150001</td>\n",
       "      <td>1</td>\n",
       "      <td>287.494438</td>\n",
       "      <td>818001</td>\n",
       "      <td>...</td>\n",
       "      <td>NaN</td>\n",
       "      <td>NaN</td>\n",
       "      <td>NaN</td>\n",
       "      <td>NaN</td>\n",
       "      <td>NaN</td>\n",
       "      <td>NaN</td>\n",
       "      <td>NaN</td>\n",
       "      <td>EG013202</td>\n",
       "      <td>340.944057</td>\n",
       "      <td>1</td>\n",
       "    </tr>\n",
       "    <tr>\n",
       "      <th>2</th>\n",
       "      <td>0</td>\n",
       "      <td>1</td>\n",
       "      <td>818</td>\n",
       "      <td>2018</td>\n",
       "      <td>1</td>\n",
       "      <td>1</td>\n",
       "      <td>10110110150001</td>\n",
       "      <td>1</td>\n",
       "      <td>287.494438</td>\n",
       "      <td>818001</td>\n",
       "      <td>...</td>\n",
       "      <td>NaN</td>\n",
       "      <td>NaN</td>\n",
       "      <td>NaN</td>\n",
       "      <td>NaN</td>\n",
       "      <td>NaN</td>\n",
       "      <td>NaN</td>\n",
       "      <td>NaN</td>\n",
       "      <td>EG013202</td>\n",
       "      <td>340.944057</td>\n",
       "      <td>2</td>\n",
       "    </tr>\n",
       "    <tr>\n",
       "      <th>3</th>\n",
       "      <td>0</td>\n",
       "      <td>1</td>\n",
       "      <td>818</td>\n",
       "      <td>2018</td>\n",
       "      <td>1</td>\n",
       "      <td>1</td>\n",
       "      <td>10110110150001</td>\n",
       "      <td>1</td>\n",
       "      <td>287.494438</td>\n",
       "      <td>818001</td>\n",
       "      <td>...</td>\n",
       "      <td>NaN</td>\n",
       "      <td>NaN</td>\n",
       "      <td>NaN</td>\n",
       "      <td>NaN</td>\n",
       "      <td>NaN</td>\n",
       "      <td>NaN</td>\n",
       "      <td>NaN</td>\n",
       "      <td>EG013202</td>\n",
       "      <td>340.944057</td>\n",
       "      <td>3</td>\n",
       "    </tr>\n",
       "    <tr>\n",
       "      <th>4</th>\n",
       "      <td>0</td>\n",
       "      <td>1</td>\n",
       "      <td>818</td>\n",
       "      <td>2018</td>\n",
       "      <td>1</td>\n",
       "      <td>1</td>\n",
       "      <td>10110110150001</td>\n",
       "      <td>1</td>\n",
       "      <td>287.494438</td>\n",
       "      <td>818001</td>\n",
       "      <td>...</td>\n",
       "      <td>NaN</td>\n",
       "      <td>NaN</td>\n",
       "      <td>NaN</td>\n",
       "      <td>NaN</td>\n",
       "      <td>NaN</td>\n",
       "      <td>NaN</td>\n",
       "      <td>NaN</td>\n",
       "      <td>EG013202</td>\n",
       "      <td>340.944057</td>\n",
       "      <td>4</td>\n",
       "    </tr>\n",
       "  </tbody>\n",
       "</table>\n",
       "<p>5 rows × 80 columns</p>\n",
       "</div>"
      ],
      "text/plain": [
       "   Unnamed: 0.1  Unnamed: 0  COUNTRY  YEAR  ROUND  DTYPE         CASESER  \\\n",
       "0             0           1      818  2018      1      1  10110110150001   \n",
       "1             0           1      818  2018      1      1  10110110150001   \n",
       "2             0           1      818  2018      1      1  10110110150001   \n",
       "3             0           1      818  2018      1      1  10110110150001   \n",
       "4             0           1      818  2018      1      1  10110110150001   \n",
       "\n",
       "   PNUM   PWEIGHT_x     REG  ...  SRCHACT_06  SRCHACT_07  SRCHACT_08  \\\n",
       "0     1  287.494438  818001  ...         NaN         NaN         NaN   \n",
       "1     1  287.494438  818001  ...         NaN         NaN         NaN   \n",
       "2     1  287.494438  818001  ...         NaN         NaN         NaN   \n",
       "3     1  287.494438  818001  ...         NaN         NaN         NaN   \n",
       "4     1  287.494438  818001  ...         NaN         NaN         NaN   \n",
       "\n",
       "   SRCHACT_09  SRCHACT_10  SRCHACT_90  NOTSRCH_R  ADM3_PCODE   PWEIGHT_y  HHID  \n",
       "0         NaN         NaN         NaN        NaN    EG013202  340.944057     0  \n",
       "1         NaN         NaN         NaN        NaN    EG013202  340.944057     1  \n",
       "2         NaN         NaN         NaN        NaN    EG013202  340.944057     2  \n",
       "3         NaN         NaN         NaN        NaN    EG013202  340.944057     3  \n",
       "4         NaN         NaN         NaN        NaN    EG013202  340.944057     4  \n",
       "\n",
       "[5 rows x 80 columns]"
      ]
     },
     "execution_count": 13,
     "metadata": {},
     "output_type": "execute_result"
    }
   ],
   "source": [
    "ind_reindex.head()"
   ]
  },
  {
   "cell_type": "code",
   "execution_count": 14,
   "metadata": {},
   "outputs": [],
   "source": [
    "# Add zeros before ID to always have four digits\n",
    "def replace_value(x):\n",
    "    if len(x) == 1:\n",
    "        return '000'+x\n",
    "    elif len(x) == 2:\n",
    "        return '00'+x\n",
    "    elif len(x) == 3:\n",
    "        return '0'+x\n",
    "    else: \n",
    "        return x\n",
    "\n",
    "# use apply method to apply the custom function to each element in the 'col' column\n",
    "ind_reindex['HHID'] = ind_reindex['HHID'].apply(replace_value)"
   ]
  },
  {
   "cell_type": "code",
   "execution_count": 15,
   "metadata": {},
   "outputs": [],
   "source": [
    "#Create new HHID based on CESASER and new ID from scaling\n",
    "ind_reindex['HHID'] = ind_reindex['CASESER'].astype(str) + ind_reindex['HHID']"
   ]
  },
  {
   "cell_type": "code",
   "execution_count": 16,
   "metadata": {},
   "outputs": [],
   "source": [
    "#Delete all columns not needed\n",
    "#command to show columns as list: ind_reindex.columns.values.tolist()\n",
    "ind_reindex = ind_reindex.drop(columns=['Unnamed: 0.1','Unnamed: 0','COUNTRY','YEAR','ROUND',\n",
    "                                     'PWEIGHT_x','PWEIGHT_y'])"
   ]
  },
  {
   "cell_type": "code",
   "execution_count": 17,
   "metadata": {},
   "outputs": [
    {
     "name": "stdout",
     "output_type": "stream",
     "text": [
      "20672421\n"
     ]
    },
    {
     "data": {
      "text/html": [
       "<div>\n",
       "<style scoped>\n",
       "    .dataframe tbody tr th:only-of-type {\n",
       "        vertical-align: middle;\n",
       "    }\n",
       "\n",
       "    .dataframe tbody tr th {\n",
       "        vertical-align: top;\n",
       "    }\n",
       "\n",
       "    .dataframe thead th {\n",
       "        text-align: right;\n",
       "    }\n",
       "</style>\n",
       "<table border=\"1\" class=\"dataframe\">\n",
       "  <thead>\n",
       "    <tr style=\"text-align: right;\">\n",
       "      <th></th>\n",
       "      <th>DTYPE</th>\n",
       "      <th>CASESER</th>\n",
       "      <th>PNUM</th>\n",
       "      <th>REG</th>\n",
       "      <th>AREA</th>\n",
       "      <th>AREA_S</th>\n",
       "      <th>RURURB</th>\n",
       "      <th>AGE</th>\n",
       "      <th>SEX</th>\n",
       "      <th>MART</th>\n",
       "      <th>...</th>\n",
       "      <th>SRCHACT_05</th>\n",
       "      <th>SRCHACT_06</th>\n",
       "      <th>SRCHACT_07</th>\n",
       "      <th>SRCHACT_08</th>\n",
       "      <th>SRCHACT_09</th>\n",
       "      <th>SRCHACT_10</th>\n",
       "      <th>SRCHACT_90</th>\n",
       "      <th>NOTSRCH_R</th>\n",
       "      <th>ADM3_PCODE</th>\n",
       "      <th>HHID</th>\n",
       "    </tr>\n",
       "  </thead>\n",
       "  <tbody>\n",
       "    <tr>\n",
       "      <th>0</th>\n",
       "      <td>1</td>\n",
       "      <td>10110110150001</td>\n",
       "      <td>1</td>\n",
       "      <td>818001</td>\n",
       "      <td>8180132</td>\n",
       "      <td>818013202</td>\n",
       "      <td>1</td>\n",
       "      <td>49</td>\n",
       "      <td>2</td>\n",
       "      <td>5.0</td>\n",
       "      <td>...</td>\n",
       "      <td>NaN</td>\n",
       "      <td>NaN</td>\n",
       "      <td>NaN</td>\n",
       "      <td>NaN</td>\n",
       "      <td>NaN</td>\n",
       "      <td>NaN</td>\n",
       "      <td>NaN</td>\n",
       "      <td>NaN</td>\n",
       "      <td>EG013202</td>\n",
       "      <td>101101101500010000</td>\n",
       "    </tr>\n",
       "    <tr>\n",
       "      <th>1</th>\n",
       "      <td>1</td>\n",
       "      <td>10110110150001</td>\n",
       "      <td>1</td>\n",
       "      <td>818001</td>\n",
       "      <td>8180132</td>\n",
       "      <td>818013202</td>\n",
       "      <td>1</td>\n",
       "      <td>49</td>\n",
       "      <td>2</td>\n",
       "      <td>5.0</td>\n",
       "      <td>...</td>\n",
       "      <td>NaN</td>\n",
       "      <td>NaN</td>\n",
       "      <td>NaN</td>\n",
       "      <td>NaN</td>\n",
       "      <td>NaN</td>\n",
       "      <td>NaN</td>\n",
       "      <td>NaN</td>\n",
       "      <td>NaN</td>\n",
       "      <td>EG013202</td>\n",
       "      <td>101101101500010001</td>\n",
       "    </tr>\n",
       "    <tr>\n",
       "      <th>2</th>\n",
       "      <td>1</td>\n",
       "      <td>10110110150001</td>\n",
       "      <td>1</td>\n",
       "      <td>818001</td>\n",
       "      <td>8180132</td>\n",
       "      <td>818013202</td>\n",
       "      <td>1</td>\n",
       "      <td>49</td>\n",
       "      <td>2</td>\n",
       "      <td>5.0</td>\n",
       "      <td>...</td>\n",
       "      <td>NaN</td>\n",
       "      <td>NaN</td>\n",
       "      <td>NaN</td>\n",
       "      <td>NaN</td>\n",
       "      <td>NaN</td>\n",
       "      <td>NaN</td>\n",
       "      <td>NaN</td>\n",
       "      <td>NaN</td>\n",
       "      <td>EG013202</td>\n",
       "      <td>101101101500010002</td>\n",
       "    </tr>\n",
       "    <tr>\n",
       "      <th>3</th>\n",
       "      <td>1</td>\n",
       "      <td>10110110150001</td>\n",
       "      <td>1</td>\n",
       "      <td>818001</td>\n",
       "      <td>8180132</td>\n",
       "      <td>818013202</td>\n",
       "      <td>1</td>\n",
       "      <td>49</td>\n",
       "      <td>2</td>\n",
       "      <td>5.0</td>\n",
       "      <td>...</td>\n",
       "      <td>NaN</td>\n",
       "      <td>NaN</td>\n",
       "      <td>NaN</td>\n",
       "      <td>NaN</td>\n",
       "      <td>NaN</td>\n",
       "      <td>NaN</td>\n",
       "      <td>NaN</td>\n",
       "      <td>NaN</td>\n",
       "      <td>EG013202</td>\n",
       "      <td>101101101500010003</td>\n",
       "    </tr>\n",
       "    <tr>\n",
       "      <th>4</th>\n",
       "      <td>1</td>\n",
       "      <td>10110110150001</td>\n",
       "      <td>1</td>\n",
       "      <td>818001</td>\n",
       "      <td>8180132</td>\n",
       "      <td>818013202</td>\n",
       "      <td>1</td>\n",
       "      <td>49</td>\n",
       "      <td>2</td>\n",
       "      <td>5.0</td>\n",
       "      <td>...</td>\n",
       "      <td>NaN</td>\n",
       "      <td>NaN</td>\n",
       "      <td>NaN</td>\n",
       "      <td>NaN</td>\n",
       "      <td>NaN</td>\n",
       "      <td>NaN</td>\n",
       "      <td>NaN</td>\n",
       "      <td>NaN</td>\n",
       "      <td>EG013202</td>\n",
       "      <td>101101101500010004</td>\n",
       "    </tr>\n",
       "  </tbody>\n",
       "</table>\n",
       "<p>5 rows × 73 columns</p>\n",
       "</div>"
      ],
      "text/plain": [
       "   DTYPE         CASESER  PNUM     REG     AREA     AREA_S  RURURB  AGE  SEX  \\\n",
       "0      1  10110110150001     1  818001  8180132  818013202       1   49    2   \n",
       "1      1  10110110150001     1  818001  8180132  818013202       1   49    2   \n",
       "2      1  10110110150001     1  818001  8180132  818013202       1   49    2   \n",
       "3      1  10110110150001     1  818001  8180132  818013202       1   49    2   \n",
       "4      1  10110110150001     1  818001  8180132  818013202       1   49    2   \n",
       "\n",
       "   MART  ...  SRCHACT_05  SRCHACT_06  SRCHACT_07  SRCHACT_08  SRCHACT_09  \\\n",
       "0   5.0  ...         NaN         NaN         NaN         NaN         NaN   \n",
       "1   5.0  ...         NaN         NaN         NaN         NaN         NaN   \n",
       "2   5.0  ...         NaN         NaN         NaN         NaN         NaN   \n",
       "3   5.0  ...         NaN         NaN         NaN         NaN         NaN   \n",
       "4   5.0  ...         NaN         NaN         NaN         NaN         NaN   \n",
       "\n",
       "   SRCHACT_10  SRCHACT_90  NOTSRCH_R  ADM3_PCODE                HHID  \n",
       "0         NaN         NaN        NaN    EG013202  101101101500010000  \n",
       "1         NaN         NaN        NaN    EG013202  101101101500010001  \n",
       "2         NaN         NaN        NaN    EG013202  101101101500010002  \n",
       "3         NaN         NaN        NaN    EG013202  101101101500010003  \n",
       "4         NaN         NaN        NaN    EG013202  101101101500010004  \n",
       "\n",
       "[5 rows x 73 columns]"
      ]
     },
     "execution_count": 17,
     "metadata": {},
     "output_type": "execute_result"
    }
   ],
   "source": [
    "print(len(ind_reindex))\n",
    "ind_reindex.head()"
   ]
  },
  {
   "cell_type": "code",
   "execution_count": 24,
   "metadata": {},
   "outputs": [],
   "source": [
    "hhids = ind_reindex[['AGE','SEX','ATTSCH','ADM3_PCODE','HHID']]"
   ]
  },
  {
   "cell_type": "markdown",
   "metadata": {},
   "source": [
    "### Part 2: Assign random locations to each household"
   ]
  },
  {
   "cell_type": "code",
   "execution_count": 25,
   "metadata": {
    "scrolled": true
   },
   "outputs": [
    {
     "data": {
      "text/html": [
       "<div>\n",
       "<style scoped>\n",
       "    .dataframe tbody tr th:only-of-type {\n",
       "        vertical-align: middle;\n",
       "    }\n",
       "\n",
       "    .dataframe tbody tr th {\n",
       "        vertical-align: top;\n",
       "    }\n",
       "\n",
       "    .dataframe thead th {\n",
       "        text-align: right;\n",
       "    }\n",
       "</style>\n",
       "<table border=\"1\" class=\"dataframe\">\n",
       "  <thead>\n",
       "    <tr style=\"text-align: right;\">\n",
       "      <th></th>\n",
       "      <th>gid</th>\n",
       "      <th>gov_name</th>\n",
       "      <th>sec_name_a</th>\n",
       "      <th>name</th>\n",
       "      <th>density</th>\n",
       "      <th>area_hect</th>\n",
       "      <th>population</th>\n",
       "      <th>pop_percent</th>\n",
       "      <th>geometry</th>\n",
       "      <th>pop_total</th>\n",
       "    </tr>\n",
       "  </thead>\n",
       "  <tbody>\n",
       "    <tr>\n",
       "      <th>0</th>\n",
       "      <td>2</td>\n",
       "      <td>القاهره</td>\n",
       "      <td>قسم حلوان</td>\n",
       "      <td>Qesm Helwan</td>\n",
       "      <td>7383</td>\n",
       "      <td>56</td>\n",
       "      <td>413448</td>\n",
       "      <td>0.030</td>\n",
       "      <td>MULTIPOLYGON (((31.34027 29.87526, 31.34032 29...</td>\n",
       "      <td>620173.0</td>\n",
       "    </tr>\n",
       "    <tr>\n",
       "      <th>1</th>\n",
       "      <td>246</td>\n",
       "      <td>الجيزه</td>\n",
       "      <td>مركز البدرشين</td>\n",
       "      <td>Markaz El Badrashin</td>\n",
       "      <td>2961</td>\n",
       "      <td>135</td>\n",
       "      <td>399735</td>\n",
       "      <td>0.029</td>\n",
       "      <td>MULTIPOLYGON (((31.21578 29.91131, 31.21585 29...</td>\n",
       "      <td>599500.0</td>\n",
       "    </tr>\n",
       "    <tr>\n",
       "      <th>2</th>\n",
       "      <td>3</td>\n",
       "      <td>القاهره</td>\n",
       "      <td>قسم المعصره</td>\n",
       "      <td>Qesm El Masara</td>\n",
       "      <td>11787</td>\n",
       "      <td>14</td>\n",
       "      <td>165018</td>\n",
       "      <td>0.012</td>\n",
       "      <td>MULTIPOLYGON (((31.28030 29.91904, 31.28033 29...</td>\n",
       "      <td>248069.0</td>\n",
       "    </tr>\n",
       "  </tbody>\n",
       "</table>\n",
       "</div>"
      ],
      "text/plain": [
       "   gid gov_name     sec_name_a                 name  density  area_hect  \\\n",
       "0    2  القاهره      قسم حلوان          Qesm Helwan     7383         56   \n",
       "1  246   الجيزه  مركز البدرشين  Markaz El Badrashin     2961        135   \n",
       "2    3  القاهره    قسم المعصره       Qesm El Masara    11787         14   \n",
       "\n",
       "   population  pop_percent                                           geometry  \\\n",
       "0      413448        0.030  MULTIPOLYGON (((31.34027 29.87526, 31.34032 29...   \n",
       "1      399735        0.029  MULTIPOLYGON (((31.21578 29.91131, 31.21585 29...   \n",
       "2      165018        0.012  MULTIPOLYGON (((31.28030 29.91904, 31.28033 29...   \n",
       "\n",
       "   pop_total  \n",
       "0   620173.0  \n",
       "1   599500.0  \n",
       "2   248069.0  "
      ]
     },
     "execution_count": 25,
     "metadata": {},
     "output_type": "execute_result"
    }
   ],
   "source": [
    "areas = gpd.read_file('data/raw/eg_admin_boundaries/tfc_adm2_bounds_gcr.geojson')\n",
    "areas['pop_total'] = round(20672421 * areas['pop_percent'])\n",
    "areas.head(3)"
   ]
  },
  {
   "cell_type": "code",
   "execution_count": 26,
   "metadata": {},
   "outputs": [
    {
     "name": "stderr",
     "output_type": "stream",
     "text": [
      "/var/folders/93/smcvnv_s04v84f_dnqvd4xkw0000gn/T/ipykernel_1761/2487757249.py:4: UserWarning: Geometry is in a geographic CRS. Results from 'centroid' are likely incorrect. Use 'GeoSeries.to_crs()' to re-project geometries to a projected CRS before this operation.\n",
      "\n",
      "  adm3_centroids = gpd.GeoDataFrame(geometry=adm3.centroid)\n"
     ]
    }
   ],
   "source": [
    "# Read the adm3 shapefile and reproject to EPSG:4326\n",
    "adm3 = gpd.read_file('data/raw/eg_admin_boundaries/egy_admbnda_adm3_capmas_20170421.shp').to_crs(\"EPSG:4326\")\n",
    "# Create a new GeoDataFrame adm3_centroids with the centroids of the reprojected geometries\n",
    "adm3_centroids = gpd.GeoDataFrame(geometry=adm3.centroid)\n",
    "# Merge the attributes from adm3 back to adm3_centroids using the index\n",
    "adm3_centroids = adm3_centroids.merge(adm3, left_index=True, right_index=True)\n",
    "# Convert back to GeoDataFrame\n",
    "adm3_centroids = gpd.GeoDataFrame(adm3_centroids, geometry='geometry_x',crs=adm3.crs)"
   ]
  },
  {
   "cell_type": "code",
   "execution_count": 27,
   "metadata": {},
   "outputs": [],
   "source": [
    "adm3_centroids = adm3_centroids[adm3_centroids['ADM3_PCODE'].isin(hhids['ADM3_PCODE'].unique())]"
   ]
  },
  {
   "cell_type": "code",
   "execution_count": 28,
   "metadata": {},
   "outputs": [
    {
     "data": {
      "image/png": "[encoded data removed]",
      "text/plain": [
       "<Figure size 720x720 with 2 Axes>"
      ]
     },
     "metadata": {
      "needs_background": "light"
     },
     "output_type": "display_data"
    }
   ],
   "source": [
    "# Plot the GeoDataFrame with graduated colors\n",
    "fig, ax = plt.subplots(figsize=(10, 10))\n",
    "areas.plot(column='density', cmap='YlOrRd', linewidth=0.8, ax=ax, edgecolor='0.8', legend=True)\n",
    "\n",
    "# Plot the points from adm3_centroids on the same plot\n",
    "adm3_centroids.plot(ax=ax, color='black', markersize=5)\n",
    "\n",
    "# Set plot title and axis labels\n",
    "plt.title('Population Percentage')\n",
    "plt.xlabel('Longitude')\n",
    "plt.ylabel('Latitude')\n",
    "\n",
    "plt.show()"
   ]
  },
  {
   "cell_type": "code",
   "execution_count": 29,
   "metadata": {},
   "outputs": [],
   "source": [
    "# Number of nearest neighbors to find\n",
    "k = 5\n",
    "\n",
    "# Create a Nearest Neighbors model\n",
    "nn = NearestNeighbors(n_neighbors=k)\n",
    "\n",
    "# Fit the model with the coordinates of adm3_centroids\n",
    "nn.fit(adm3_centroids.geometry.apply(lambda x: (x.x, x.y)).tolist())\n",
    "\n",
    "# Find the k nearest neighbors for each polygon in areas\n",
    "nearest_indices = nn.kneighbors(areas.geometry.apply(lambda x: (x.centroid.x, x.centroid.y)).tolist(), return_distance=False)\n",
    "\n",
    "# Retrieve the ADM3_PCODE values for the nearest points\n",
    "nearest_pcodes = [adm3_centroids.iloc[indices]['ADM3_PCODE'].tolist() for indices in nearest_indices]\n",
    "\n",
    "# Add the ADM3_PCODE values as a new column in areas\n",
    "areas['Nearest_PCODE'] = nearest_pcodes"
   ]
  },
  {
   "cell_type": "markdown",
   "metadata": {},
   "source": [
    "## Prep addresses with gid from ADM2 layer"
   ]
  },
  {
   "cell_type": "code",
   "execution_count": 30,
   "metadata": {},
   "outputs": [],
   "source": [
    "# load addresses \n",
    "gcr_addresses = gpd.read_file('data/interim/gcr_addresses.shp')\n",
    "gcr_addresses = gcr_addresses.to_crs('EPSG:4326')\n",
    "gcr_addresses = gcr_addresses['geometry']\n",
    "gcr_addresses = gpd.GeoDataFrame(geometry=gcr_addresses)"
   ]
  },
  {
   "cell_type": "code",
   "execution_count": 31,
   "metadata": {},
   "outputs": [
    {
     "name": "stdout",
     "output_type": "stream",
     "text": [
      "<class 'geopandas.geodataframe.GeoDataFrame'>\n",
      "RangeIndex: 1845588 entries, 0 to 1845587\n",
      "Data columns (total 1 columns):\n",
      " #   Column    Dtype   \n",
      "---  ------    -----   \n",
      " 0   geometry  geometry\n",
      "dtypes: geometry(1)\n",
      "memory usage: 14.1 MB\n",
      "None\n",
      "EPSG:4326\n",
      "______________\n",
      "                    geometry\n",
      "0  POINT (31.21181 29.98708)\n",
      "1  POINT (31.32804 30.09647)\n",
      "2  POINT (31.38019 30.07878)\n",
      "3  POINT (31.12789 29.98676)\n",
      "4  POINT (31.23849 30.04761)\n"
     ]
    }
   ],
   "source": [
    "# print key info \n",
    "print(gcr_addresses.info())\n",
    "print(gcr_addresses.crs)\n",
    "print('______________')\n",
    "print(gcr_addresses.head())"
   ]
  },
  {
   "cell_type": "code",
   "execution_count": 32,
   "metadata": {},
   "outputs": [
    {
     "data": {
      "text/html": [
       "<div>\n",
       "<style scoped>\n",
       "    .dataframe tbody tr th:only-of-type {\n",
       "        vertical-align: middle;\n",
       "    }\n",
       "\n",
       "    .dataframe tbody tr th {\n",
       "        vertical-align: top;\n",
       "    }\n",
       "\n",
       "    .dataframe thead th {\n",
       "        text-align: right;\n",
       "    }\n",
       "</style>\n",
       "<table border=\"1\" class=\"dataframe\">\n",
       "  <thead>\n",
       "    <tr style=\"text-align: right;\">\n",
       "      <th></th>\n",
       "      <th>geometry</th>\n",
       "      <th>gid</th>\n",
       "    </tr>\n",
       "  </thead>\n",
       "  <tbody>\n",
       "    <tr>\n",
       "      <th>0</th>\n",
       "      <td>POINT (31.21181 29.98708)</td>\n",
       "      <td>239.0</td>\n",
       "    </tr>\n",
       "    <tr>\n",
       "      <th>1</th>\n",
       "      <td>POINT (31.32804 30.09647)</td>\n",
       "      <td>39.0</td>\n",
       "    </tr>\n",
       "    <tr>\n",
       "      <th>2</th>\n",
       "      <td>POINT (31.38019 30.07878)</td>\n",
       "      <td>40.0</td>\n",
       "    </tr>\n",
       "  </tbody>\n",
       "</table>\n",
       "</div>"
      ],
      "text/plain": [
       "                    geometry    gid\n",
       "0  POINT (31.21181 29.98708)  239.0\n",
       "1  POINT (31.32804 30.09647)   39.0\n",
       "2  POINT (31.38019 30.07878)   40.0"
      ]
     },
     "execution_count": 32,
     "metadata": {},
     "output_type": "execute_result"
    }
   ],
   "source": [
    "# prep data for areas\n",
    "areas_temp = areas[['gid','geometry']]\n",
    "# Perform the spatial join\n",
    "joined_data = gpd.sjoin(gcr_addresses, areas_temp, how='left', predicate='intersects')\n",
    "# Extract the 'gid' values from the joined polygons\n",
    "joined_gid = joined_data['gid']\n",
    "# Add the 'gid' values to the points dataset\n",
    "gcr_addresses['gid'] = joined_gid\n",
    "# print head\n",
    "gcr_addresses.head(3)"
   ]
  },
  {
   "cell_type": "markdown",
   "metadata": {},
   "source": [
    "## 1) Create one row for each individual per area\n",
    "## 2) choose HHIDs \n",
    "HHIDs had to be scaled to make sure that sampling is representative. Each time, from five closest ADM3 areas is chosen due to data gaps"
   ]
  },
  {
   "cell_type": "code",
   "execution_count": 33,
   "metadata": {},
   "outputs": [
    {
     "data": {
      "text/html": [
       "<div>\n",
       "<style scoped>\n",
       "    .dataframe tbody tr th:only-of-type {\n",
       "        vertical-align: middle;\n",
       "    }\n",
       "\n",
       "    .dataframe tbody tr th {\n",
       "        vertical-align: top;\n",
       "    }\n",
       "\n",
       "    .dataframe thead th {\n",
       "        text-align: right;\n",
       "    }\n",
       "</style>\n",
       "<table border=\"1\" class=\"dataframe\">\n",
       "  <thead>\n",
       "    <tr style=\"text-align: right;\">\n",
       "      <th></th>\n",
       "      <th>AGE</th>\n",
       "      <th>SEX</th>\n",
       "      <th>ATTSCH</th>\n",
       "      <th>ADM3_PCODE</th>\n",
       "      <th>HHID</th>\n",
       "    </tr>\n",
       "  </thead>\n",
       "  <tbody>\n",
       "    <tr>\n",
       "      <th>0</th>\n",
       "      <td>49</td>\n",
       "      <td>2</td>\n",
       "      <td>0.0</td>\n",
       "      <td>EG013202</td>\n",
       "      <td>101101101500010000</td>\n",
       "    </tr>\n",
       "    <tr>\n",
       "      <th>1</th>\n",
       "      <td>49</td>\n",
       "      <td>2</td>\n",
       "      <td>0.0</td>\n",
       "      <td>EG013202</td>\n",
       "      <td>101101101500010001</td>\n",
       "    </tr>\n",
       "    <tr>\n",
       "      <th>2</th>\n",
       "      <td>49</td>\n",
       "      <td>2</td>\n",
       "      <td>0.0</td>\n",
       "      <td>EG013202</td>\n",
       "      <td>101101101500010002</td>\n",
       "    </tr>\n",
       "  </tbody>\n",
       "</table>\n",
       "</div>"
      ],
      "text/plain": [
       "   AGE  SEX  ATTSCH ADM3_PCODE                HHID\n",
       "0   49    2     0.0   EG013202  101101101500010000\n",
       "1   49    2     0.0   EG013202  101101101500010001\n",
       "2   49    2     0.0   EG013202  101101101500010002"
      ]
     },
     "execution_count": 33,
     "metadata": {},
     "output_type": "execute_result"
    }
   ],
   "source": [
    "hhids.head(3)"
   ]
  },
  {
   "cell_type": "markdown",
   "metadata": {},
   "source": [
    "#### Scale the areas database times the number of inhabitants per area"
   ]
  },
  {
   "cell_type": "code",
   "execution_count": 34,
   "metadata": {
    "scrolled": true
   },
   "outputs": [
    {
     "data": {
      "text/html": [
       "<div>\n",
       "<style scoped>\n",
       "    .dataframe tbody tr th:only-of-type {\n",
       "        vertical-align: middle;\n",
       "    }\n",
       "\n",
       "    .dataframe tbody tr th {\n",
       "        vertical-align: top;\n",
       "    }\n",
       "\n",
       "    .dataframe thead th {\n",
       "        text-align: right;\n",
       "    }\n",
       "</style>\n",
       "<table border=\"1\" class=\"dataframe\">\n",
       "  <thead>\n",
       "    <tr style=\"text-align: right;\">\n",
       "      <th></th>\n",
       "      <th>gid</th>\n",
       "      <th>Nearest_PCODE</th>\n",
       "    </tr>\n",
       "  </thead>\n",
       "  <tbody>\n",
       "    <tr>\n",
       "      <th>0</th>\n",
       "      <td>2</td>\n",
       "      <td>[EG010201, EG010207, EG010208, EG010205, EG010...</td>\n",
       "    </tr>\n",
       "    <tr>\n",
       "      <th>1</th>\n",
       "      <td>2</td>\n",
       "      <td>[EG010201, EG010207, EG010208, EG010205, EG010...</td>\n",
       "    </tr>\n",
       "    <tr>\n",
       "      <th>2</th>\n",
       "      <td>2</td>\n",
       "      <td>[EG010201, EG010207, EG010208, EG010205, EG010...</td>\n",
       "    </tr>\n",
       "    <tr>\n",
       "      <th>3</th>\n",
       "      <td>2</td>\n",
       "      <td>[EG010201, EG010207, EG010208, EG010205, EG010...</td>\n",
       "    </tr>\n",
       "    <tr>\n",
       "      <th>4</th>\n",
       "      <td>2</td>\n",
       "      <td>[EG010201, EG010207, EG010208, EG010205, EG010...</td>\n",
       "    </tr>\n",
       "  </tbody>\n",
       "</table>\n",
       "</div>"
      ],
      "text/plain": [
       "   gid                                      Nearest_PCODE\n",
       "0    2  [EG010201, EG010207, EG010208, EG010205, EG010...\n",
       "1    2  [EG010201, EG010207, EG010208, EG010205, EG010...\n",
       "2    2  [EG010201, EG010207, EG010208, EG010205, EG010...\n",
       "3    2  [EG010201, EG010207, EG010208, EG010205, EG010...\n",
       "4    2  [EG010201, EG010207, EG010208, EG010205, EG010..."
      ]
     },
     "execution_count": 34,
     "metadata": {},
     "output_type": "execute_result"
    }
   ],
   "source": [
    "df = areas[['gid','Nearest_PCODE','pop_total']]\n",
    "scaled_df = df.loc[df.index.repeat(df['pop_total'])].reset_index(drop=True)\n",
    "scaled_df = scaled_df[['gid','Nearest_PCODE']]\n",
    "scaled_df.head()"
   ]
  },
  {
   "cell_type": "markdown",
   "metadata": {},
   "source": [
    "#### Attach one HHID from one of five closest ADM3_PCODE values to each row"
   ]
  },
  {
   "cell_type": "code",
   "execution_count": 35,
   "metadata": {},
   "outputs": [],
   "source": [
    "df = scaled_df.copy()\n",
    "\n",
    "# Create a dictionary mapping 'ADM3_PCODE' to a list of corresponding 'HHID' values\n",
    "hhid_dict = hhids.groupby('ADM3_PCODE')['HHID'].apply(list).to_dict()\n",
    "\n",
    "# Lambda function\n",
    "df['HHID'] = df['Nearest_PCODE'].apply(lambda x: random.choice(hhid_dict.get(x[0], [])) if isinstance(x, list) else None)"
   ]
  },
  {
   "cell_type": "code",
   "execution_count": 36,
   "metadata": {},
   "outputs": [
    {
     "data": {
      "text/html": [
       "<div>\n",
       "<style scoped>\n",
       "    .dataframe tbody tr th:only-of-type {\n",
       "        vertical-align: middle;\n",
       "    }\n",
       "\n",
       "    .dataframe tbody tr th {\n",
       "        vertical-align: top;\n",
       "    }\n",
       "\n",
       "    .dataframe thead th {\n",
       "        text-align: right;\n",
       "    }\n",
       "</style>\n",
       "<table border=\"1\" class=\"dataframe\">\n",
       "  <thead>\n",
       "    <tr style=\"text-align: right;\">\n",
       "      <th></th>\n",
       "      <th>gid</th>\n",
       "      <th>Nearest_PCODE</th>\n",
       "      <th>HHID</th>\n",
       "    </tr>\n",
       "  </thead>\n",
       "  <tbody>\n",
       "    <tr>\n",
       "      <th>0</th>\n",
       "      <td>2</td>\n",
       "      <td>[EG010201, EG010207, EG010208, EG010205, EG010...</td>\n",
       "      <td>108301163300160076</td>\n",
       "    </tr>\n",
       "    <tr>\n",
       "      <th>1</th>\n",
       "      <td>2</td>\n",
       "      <td>[EG010201, EG010207, EG010208, EG010205, EG010...</td>\n",
       "      <td>208301163400100223</td>\n",
       "    </tr>\n",
       "    <tr>\n",
       "      <th>2</th>\n",
       "      <td>2</td>\n",
       "      <td>[EG010201, EG010207, EG010208, EG010205, EG010...</td>\n",
       "      <td>108301163300030163</td>\n",
       "    </tr>\n",
       "    <tr>\n",
       "      <th>3</th>\n",
       "      <td>2</td>\n",
       "      <td>[EG010201, EG010207, EG010208, EG010205, EG010...</td>\n",
       "      <td>202101163400140127</td>\n",
       "    </tr>\n",
       "    <tr>\n",
       "      <th>4</th>\n",
       "      <td>2</td>\n",
       "      <td>[EG010201, EG010207, EG010208, EG010205, EG010...</td>\n",
       "      <td>108301163300050244</td>\n",
       "    </tr>\n",
       "  </tbody>\n",
       "</table>\n",
       "</div>"
      ],
      "text/plain": [
       "   gid                                      Nearest_PCODE                HHID\n",
       "0    2  [EG010201, EG010207, EG010208, EG010205, EG010...  108301163300160076\n",
       "1    2  [EG010201, EG010207, EG010208, EG010205, EG010...  208301163400100223\n",
       "2    2  [EG010201, EG010207, EG010208, EG010205, EG010...  108301163300030163\n",
       "3    2  [EG010201, EG010207, EG010208, EG010205, EG010...  202101163400140127\n",
       "4    2  [EG010201, EG010207, EG010208, EG010205, EG010...  108301163300050244"
      ]
     },
     "execution_count": 36,
     "metadata": {},
     "output_type": "execute_result"
    }
   ],
   "source": [
    "df.head()"
   ]
  },
  {
   "cell_type": "code",
   "execution_count": 37,
   "metadata": {},
   "outputs": [
    {
     "name": "stdout",
     "output_type": "stream",
     "text": [
      "20651746\n",
      "<class 'pandas.core.frame.DataFrame'>\n",
      "RangeIndex: 20651746 entries, 0 to 20651745\n",
      "Data columns (total 3 columns):\n",
      " #   Column         Dtype \n",
      "---  ------         ----- \n",
      " 0   gid            int64 \n",
      " 1   Nearest_PCODE  object\n",
      " 2   HHID           object\n",
      "dtypes: int64(1), object(2)\n",
      "memory usage: 472.7+ MB\n",
      "None\n",
      "–––––––––––––––––\n",
      "   gid                                      Nearest_PCODE                HHID\n",
      "0    2  [EG010201, EG010207, EG010208, EG010205, EG010...  108301163300160076\n",
      "1    2  [EG010201, EG010207, EG010208, EG010205, EG010...  208301163400100223\n",
      "2    2  [EG010201, EG010207, EG010208, EG010205, EG010...  108301163300030163\n"
     ]
    }
   ],
   "source": [
    "print(len(df))\n",
    "print(df.info())\n",
    "print('–––––––––––––––––')\n",
    "print(df.head(3))"
   ]
  },
  {
   "cell_type": "markdown",
   "metadata": {},
   "source": [
    "#### Attach household data"
   ]
  },
  {
   "cell_type": "code",
   "execution_count": 60,
   "metadata": {},
   "outputs": [],
   "source": [
    "HH_values = ind_reindex[['HHID','AGE','SEX','ATTSCH']]"
   ]
  },
  {
   "cell_type": "code",
   "execution_count": 53,
   "metadata": {},
   "outputs": [],
   "source": [
    "df = df.reset_index()"
   ]
  },
  {
   "cell_type": "code",
   "execution_count": 54,
   "metadata": {},
   "outputs": [
    {
     "data": {
      "text/plain": [
       "20651746"
      ]
     },
     "execution_count": 54,
     "metadata": {},
     "output_type": "execute_result"
    }
   ],
   "source": [
    "len(df)"
   ]
  },
  {
   "cell_type": "code",
   "execution_count": 63,
   "metadata": {},
   "outputs": [],
   "source": [
    "HHs = pd.merge(df, HH_values, on='HHID', how='left')"
   ]
  },
  {
   "cell_type": "code",
   "execution_count": 64,
   "metadata": {},
   "outputs": [
    {
     "data": {
      "text/html": [
       "<div>\n",
       "<style scoped>\n",
       "    .dataframe tbody tr th:only-of-type {\n",
       "        vertical-align: middle;\n",
       "    }\n",
       "\n",
       "    .dataframe tbody tr th {\n",
       "        vertical-align: top;\n",
       "    }\n",
       "\n",
       "    .dataframe thead th {\n",
       "        text-align: right;\n",
       "    }\n",
       "</style>\n",
       "<table border=\"1\" class=\"dataframe\">\n",
       "  <thead>\n",
       "    <tr style=\"text-align: right;\">\n",
       "      <th></th>\n",
       "      <th>index</th>\n",
       "      <th>gid</th>\n",
       "      <th>Nearest_PCODE</th>\n",
       "      <th>HHID</th>\n",
       "      <th>AGE</th>\n",
       "      <th>SEX</th>\n",
       "      <th>ATTSCH</th>\n",
       "    </tr>\n",
       "  </thead>\n",
       "  <tbody>\n",
       "    <tr>\n",
       "      <th>0</th>\n",
       "      <td>0</td>\n",
       "      <td>2</td>\n",
       "      <td>[EG010201, EG010207, EG010208, EG010205, EG010...</td>\n",
       "      <td>108301163300160076</td>\n",
       "      <td>50</td>\n",
       "      <td>1</td>\n",
       "      <td>0.0</td>\n",
       "    </tr>\n",
       "    <tr>\n",
       "      <th>1</th>\n",
       "      <td>0</td>\n",
       "      <td>2</td>\n",
       "      <td>[EG010201, EG010207, EG010208, EG010205, EG010...</td>\n",
       "      <td>108301163300160076</td>\n",
       "      <td>50</td>\n",
       "      <td>2</td>\n",
       "      <td>0.0</td>\n",
       "    </tr>\n",
       "    <tr>\n",
       "      <th>2</th>\n",
       "      <td>0</td>\n",
       "      <td>2</td>\n",
       "      <td>[EG010201, EG010207, EG010208, EG010205, EG010...</td>\n",
       "      <td>108301163300160076</td>\n",
       "      <td>19</td>\n",
       "      <td>1</td>\n",
       "      <td>1.0</td>\n",
       "    </tr>\n",
       "    <tr>\n",
       "      <th>3</th>\n",
       "      <td>0</td>\n",
       "      <td>2</td>\n",
       "      <td>[EG010201, EG010207, EG010208, EG010205, EG010...</td>\n",
       "      <td>108301163300160076</td>\n",
       "      <td>83</td>\n",
       "      <td>2</td>\n",
       "      <td>0.0</td>\n",
       "    </tr>\n",
       "    <tr>\n",
       "      <th>4</th>\n",
       "      <td>1</td>\n",
       "      <td>2</td>\n",
       "      <td>[EG010201, EG010207, EG010208, EG010205, EG010...</td>\n",
       "      <td>208301163400100223</td>\n",
       "      <td>38</td>\n",
       "      <td>1</td>\n",
       "      <td>0.0</td>\n",
       "    </tr>\n",
       "    <tr>\n",
       "      <th>...</th>\n",
       "      <td>...</td>\n",
       "      <td>...</td>\n",
       "      <td>...</td>\n",
       "      <td>...</td>\n",
       "      <td>...</td>\n",
       "      <td>...</td>\n",
       "      <td>...</td>\n",
       "    </tr>\n",
       "    <tr>\n",
       "      <th>96129502</th>\n",
       "      <td>20651744</td>\n",
       "      <td>14</td>\n",
       "      <td>[EG011412, EG010806, EG010910, EG011517, EG010...</td>\n",
       "      <td>207301134800140086</td>\n",
       "      <td>35</td>\n",
       "      <td>1</td>\n",
       "      <td>0.0</td>\n",
       "    </tr>\n",
       "    <tr>\n",
       "      <th>96129503</th>\n",
       "      <td>20651745</td>\n",
       "      <td>14</td>\n",
       "      <td>[EG011412, EG010806, EG010910, EG011517, EG010...</td>\n",
       "      <td>207301134800130330</td>\n",
       "      <td>48</td>\n",
       "      <td>2</td>\n",
       "      <td>0.0</td>\n",
       "    </tr>\n",
       "    <tr>\n",
       "      <th>96129504</th>\n",
       "      <td>20651745</td>\n",
       "      <td>14</td>\n",
       "      <td>[EG011412, EG010806, EG010910, EG011517, EG010...</td>\n",
       "      <td>207301134800130330</td>\n",
       "      <td>24</td>\n",
       "      <td>1</td>\n",
       "      <td>0.0</td>\n",
       "    </tr>\n",
       "    <tr>\n",
       "      <th>96129505</th>\n",
       "      <td>20651745</td>\n",
       "      <td>14</td>\n",
       "      <td>[EG011412, EG010806, EG010910, EG011517, EG010...</td>\n",
       "      <td>207301134800130330</td>\n",
       "      <td>21</td>\n",
       "      <td>1</td>\n",
       "      <td>1.0</td>\n",
       "    </tr>\n",
       "    <tr>\n",
       "      <th>96129506</th>\n",
       "      <td>20651745</td>\n",
       "      <td>14</td>\n",
       "      <td>[EG011412, EG010806, EG010910, EG011517, EG010...</td>\n",
       "      <td>207301134800130330</td>\n",
       "      <td>19</td>\n",
       "      <td>2</td>\n",
       "      <td>1.0</td>\n",
       "    </tr>\n",
       "  </tbody>\n",
       "</table>\n",
       "<p>96129507 rows × 7 columns</p>\n",
       "</div>"
      ],
      "text/plain": [
       "             index  gid                                      Nearest_PCODE  \\\n",
       "0                0    2  [EG010201, EG010207, EG010208, EG010205, EG010...   \n",
       "1                0    2  [EG010201, EG010207, EG010208, EG010205, EG010...   \n",
       "2                0    2  [EG010201, EG010207, EG010208, EG010205, EG010...   \n",
       "3                0    2  [EG010201, EG010207, EG010208, EG010205, EG010...   \n",
       "4                1    2  [EG010201, EG010207, EG010208, EG010205, EG010...   \n",
       "...            ...  ...                                                ...   \n",
       "96129502  20651744   14  [EG011412, EG010806, EG010910, EG011517, EG010...   \n",
       "96129503  20651745   14  [EG011412, EG010806, EG010910, EG011517, EG010...   \n",
       "96129504  20651745   14  [EG011412, EG010806, EG010910, EG011517, EG010...   \n",
       "96129505  20651745   14  [EG011412, EG010806, EG010910, EG011517, EG010...   \n",
       "96129506  20651745   14  [EG011412, EG010806, EG010910, EG011517, EG010...   \n",
       "\n",
       "                        HHID  AGE  SEX  ATTSCH  \n",
       "0         108301163300160076   50    1     0.0  \n",
       "1         108301163300160076   50    2     0.0  \n",
       "2         108301163300160076   19    1     1.0  \n",
       "3         108301163300160076   83    2     0.0  \n",
       "4         208301163400100223   38    1     0.0  \n",
       "...                      ...  ...  ...     ...  \n",
       "96129502  207301134800140086   35    1     0.0  \n",
       "96129503  207301134800130330   48    2     0.0  \n",
       "96129504  207301134800130330   24    1     0.0  \n",
       "96129505  207301134800130330   21    1     1.0  \n",
       "96129506  207301134800130330   19    2     1.0  \n",
       "\n",
       "[96129507 rows x 7 columns]"
      ]
     },
     "execution_count": 64,
     "metadata": {},
     "output_type": "execute_result"
    }
   ],
   "source": [
    "HHs"
   ]
  },
  {
   "cell_type": "code",
   "execution_count": 66,
   "metadata": {},
   "outputs": [],
   "source": [
    "# attempt to faster way than the one below\n",
    "HHs = HHs.groupby('index').sample(n=1).reset_index(drop=True)"
   ]
  },
  {
   "cell_type": "code",
   "execution_count": 69,
   "metadata": {},
   "outputs": [
    {
     "data": {
      "text/html": [
       "<div>\n",
       "<style scoped>\n",
       "    .dataframe tbody tr th:only-of-type {\n",
       "        vertical-align: middle;\n",
       "    }\n",
       "\n",
       "    .dataframe tbody tr th {\n",
       "        vertical-align: top;\n",
       "    }\n",
       "\n",
       "    .dataframe thead th {\n",
       "        text-align: right;\n",
       "    }\n",
       "</style>\n",
       "<table border=\"1\" class=\"dataframe\">\n",
       "  <thead>\n",
       "    <tr style=\"text-align: right;\">\n",
       "      <th></th>\n",
       "      <th>gid</th>\n",
       "      <th>HHID</th>\n",
       "      <th>AGE</th>\n",
       "      <th>SEX</th>\n",
       "      <th>ATTSCH</th>\n",
       "    </tr>\n",
       "  </thead>\n",
       "  <tbody>\n",
       "    <tr>\n",
       "      <th>0</th>\n",
       "      <td>2</td>\n",
       "      <td>108301163300160076</td>\n",
       "      <td>83</td>\n",
       "      <td>2</td>\n",
       "      <td>0.0</td>\n",
       "    </tr>\n",
       "    <tr>\n",
       "      <th>1</th>\n",
       "      <td>2</td>\n",
       "      <td>208301163400100223</td>\n",
       "      <td>32</td>\n",
       "      <td>2</td>\n",
       "      <td>0.0</td>\n",
       "    </tr>\n",
       "    <tr>\n",
       "      <th>2</th>\n",
       "      <td>2</td>\n",
       "      <td>108301163300030163</td>\n",
       "      <td>34</td>\n",
       "      <td>2</td>\n",
       "      <td>0.0</td>\n",
       "    </tr>\n",
       "  </tbody>\n",
       "</table>\n",
       "</div>"
      ],
      "text/plain": [
       "   gid                HHID  AGE  SEX  ATTSCH\n",
       "0    2  108301163300160076   83    2     0.0\n",
       "1    2  208301163400100223   32    2     0.0\n",
       "2    2  108301163300030163   34    2     0.0"
      ]
     },
     "execution_count": 69,
     "metadata": {},
     "output_type": "execute_result"
    }
   ],
   "source": [
    "HHs = HHs[['gid','HHID','AGE','SEX','ATTSCH']]\n",
    "HHs.head(3)"
   ]
  },
  {
   "cell_type": "code",
   "execution_count": 68,
   "metadata": {},
   "outputs": [
    {
     "data": {
      "text/plain": [
       "20651746"
      ]
     },
     "execution_count": 68,
     "metadata": {},
     "output_type": "execute_result"
    }
   ],
   "source": [
    "len(HHs)"
   ]
  },
  {
   "cell_type": "code",
   "execution_count": 450,
   "metadata": {},
   "outputs": [],
   "source": [
    "# Replace NAs of ATTSCH with same distribution (62% not in school) with 1 and 0s"
   ]
  },
  {
   "cell_type": "code",
   "execution_count": 70,
   "metadata": {},
   "outputs": [],
   "source": [
    "HHs['ATTSCH'] = HHs['ATTSCH'].fillna(pd.Series(np.random.choice([0, 1], size=len(HHs), p=[0.62, 1-0.62])))"
   ]
  },
  {
   "cell_type": "markdown",
   "metadata": {},
   "source": [
    "#### Attach addresses"
   ]
  },
  {
   "cell_type": "code",
   "execution_count": 71,
   "metadata": {},
   "outputs": [],
   "source": [
    "# delete NAs from gid \n",
    "gcr_addresses.dropna(subset=['gid'], inplace=True)"
   ]
  },
  {
   "cell_type": "code",
   "execution_count": 72,
   "metadata": {},
   "outputs": [],
   "source": [
    "# convert gid to integrers for comparison\n",
    "gcr_addresses['gid'] = gcr_addresses['gid'].astype(int)"
   ]
  },
  {
   "cell_type": "code",
   "execution_count": 73,
   "metadata": {},
   "outputs": [
    {
     "data": {
      "text/html": [
       "<div>\n",
       "<style scoped>\n",
       "    .dataframe tbody tr th:only-of-type {\n",
       "        vertical-align: middle;\n",
       "    }\n",
       "\n",
       "    .dataframe tbody tr th {\n",
       "        vertical-align: top;\n",
       "    }\n",
       "\n",
       "    .dataframe thead th {\n",
       "        text-align: right;\n",
       "    }\n",
       "</style>\n",
       "<table border=\"1\" class=\"dataframe\">\n",
       "  <thead>\n",
       "    <tr style=\"text-align: right;\">\n",
       "      <th></th>\n",
       "      <th>geometry</th>\n",
       "      <th>gid</th>\n",
       "    </tr>\n",
       "  </thead>\n",
       "  <tbody>\n",
       "    <tr>\n",
       "      <th>0</th>\n",
       "      <td>POINT (31.21181 29.98708)</td>\n",
       "      <td>239</td>\n",
       "    </tr>\n",
       "    <tr>\n",
       "      <th>1</th>\n",
       "      <td>POINT (31.32804 30.09647)</td>\n",
       "      <td>39</td>\n",
       "    </tr>\n",
       "    <tr>\n",
       "      <th>2</th>\n",
       "      <td>POINT (31.38019 30.07878)</td>\n",
       "      <td>40</td>\n",
       "    </tr>\n",
       "  </tbody>\n",
       "</table>\n",
       "</div>"
      ],
      "text/plain": [
       "                    geometry  gid\n",
       "0  POINT (31.21181 29.98708)  239\n",
       "1  POINT (31.32804 30.09647)   39\n",
       "2  POINT (31.38019 30.07878)   40"
      ]
     },
     "execution_count": 73,
     "metadata": {},
     "output_type": "execute_result"
    }
   ],
   "source": [
    "gcr_addresses.head(3)"
   ]
  },
  {
   "cell_type": "code",
   "execution_count": 74,
   "metadata": {},
   "outputs": [],
   "source": [
    "# Create a dictionary mapping gid values to lists of random geometries\n",
    "geometry_dict = gcr_addresses.groupby('gid')['geometry'].apply(list).to_dict()"
   ]
  },
  {
   "cell_type": "code",
   "execution_count": 501,
   "metadata": {},
   "outputs": [],
   "source": [
    "# HHs_test = HHs.head(250)"
   ]
  },
  {
   "cell_type": "code",
   "execution_count": 77,
   "metadata": {},
   "outputs": [],
   "source": [
    "HHs['geometry'] = HHs['gid'].apply(lambda x: random.choice(geometry_dict.get(x, []))\n",
    "                                        if isinstance(x, int) else None\n",
    "                                        if (i + 1) % 100000 == 0 else None)\n"
   ]
  },
  {
   "cell_type": "code",
   "execution_count": 79,
   "metadata": {},
   "outputs": [
    {
     "data": {
      "text/html": [
       "<div>\n",
       "<style scoped>\n",
       "    .dataframe tbody tr th:only-of-type {\n",
       "        vertical-align: middle;\n",
       "    }\n",
       "\n",
       "    .dataframe tbody tr th {\n",
       "        vertical-align: top;\n",
       "    }\n",
       "\n",
       "    .dataframe thead th {\n",
       "        text-align: right;\n",
       "    }\n",
       "</style>\n",
       "<table border=\"1\" class=\"dataframe\">\n",
       "  <thead>\n",
       "    <tr style=\"text-align: right;\">\n",
       "      <th></th>\n",
       "      <th>gid</th>\n",
       "      <th>HHID</th>\n",
       "      <th>AGE</th>\n",
       "      <th>SEX</th>\n",
       "      <th>ATTSCH</th>\n",
       "      <th>geometry</th>\n",
       "    </tr>\n",
       "  </thead>\n",
       "  <tbody>\n",
       "    <tr>\n",
       "      <th>0</th>\n",
       "      <td>2</td>\n",
       "      <td>108301163300160076</td>\n",
       "      <td>83</td>\n",
       "      <td>2</td>\n",
       "      <td>0.0</td>\n",
       "      <td>POINT (31.33143 29.84543)</td>\n",
       "    </tr>\n",
       "    <tr>\n",
       "      <th>1</th>\n",
       "      <td>2</td>\n",
       "      <td>208301163400100223</td>\n",
       "      <td>32</td>\n",
       "      <td>2</td>\n",
       "      <td>0.0</td>\n",
       "      <td>POINT (31.31387 29.81446)</td>\n",
       "    </tr>\n",
       "    <tr>\n",
       "      <th>2</th>\n",
       "      <td>2</td>\n",
       "      <td>108301163300030163</td>\n",
       "      <td>34</td>\n",
       "      <td>2</td>\n",
       "      <td>0.0</td>\n",
       "      <td>POINT (31.30752 29.86069)</td>\n",
       "    </tr>\n",
       "  </tbody>\n",
       "</table>\n",
       "</div>"
      ],
      "text/plain": [
       "   gid                HHID  AGE  SEX  ATTSCH                   geometry\n",
       "0    2  108301163300160076   83    2     0.0  POINT (31.33143 29.84543)\n",
       "1    2  208301163400100223   32    2     0.0  POINT (31.31387 29.81446)\n",
       "2    2  108301163300030163   34    2     0.0  POINT (31.30752 29.86069)"
      ]
     },
     "execution_count": 79,
     "metadata": {},
     "output_type": "execute_result"
    }
   ],
   "source": [
    "HHs.head(3)"
   ]
  },
  {
   "cell_type": "code",
   "execution_count": 78,
   "metadata": {},
   "outputs": [],
   "source": [
    "HHs_loc = gpd.GeoDataFrame(HHs, geometry='geometry')"
   ]
  },
  {
   "cell_type": "code",
   "execution_count": 80,
   "metadata": {},
   "outputs": [
    {
     "name": "stdout",
     "output_type": "stream",
     "text": [
      "<class 'geopandas.geodataframe.GeoDataFrame'>\n",
      "RangeIndex: 20651746 entries, 0 to 20651745\n",
      "Data columns (total 6 columns):\n",
      " #   Column    Dtype   \n",
      "---  ------    -----   \n",
      " 0   gid       int64   \n",
      " 1   HHID      object  \n",
      " 2   AGE       int64   \n",
      " 3   SEX       int64   \n",
      " 4   ATTSCH    float64 \n",
      " 5   geometry  geometry\n",
      "dtypes: float64(1), geometry(1), int64(3), object(1)\n",
      "memory usage: 945.4+ MB\n"
     ]
    }
   ],
   "source": [
    "HHs_loc.info()"
   ]
  },
  {
   "cell_type": "code",
   "execution_count": 82,
   "metadata": {},
   "outputs": [],
   "source": [
    "HHs_loc.to_csv('data/interim/scaled_pop_loc.csv')"
   ]
  }
 ],
 "metadata": {
  "kernelspec": {
   "display_name": "Python 3 (ipykernel)",
   "language": "python",
   "name": "python3"
  },
  "language_info": {
   "codemirror_mode": {
    "name": "ipython",
    "version": 3
   },
   "file_extension": ".py",
   "mimetype": "text/x-python",
   "name": "python",
   "nbconvert_exporter": "python",
   "pygments_lexer": "ipython3",
   "version": "3.9.13"
  },
  "vscode": {
   "interpreter": {
    "hash": "e7370f93d1d0cde622a1f8e1c04877d8463912d04d973331ad4851f04de6915a"
   }
  }
 },
 "nbformat": 4,
 "nbformat_minor": 2
}
