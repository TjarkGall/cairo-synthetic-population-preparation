{
 "cells": [
  {
   "cell_type": "code",
   "execution_count": 1,
   "id": "3d236b43",
   "metadata": {},
   "outputs": [
    {
     "name": "stderr",
     "output_type": "stream",
     "text": [
      "/Users/tjark/opt/anaconda3/lib/python3.9/site-packages/geopandas/_compat.py:123: UserWarning: The Shapely GEOS version (3.11.1-CAPI-1.17.1) is incompatible with the GEOS version PyGEOS was compiled with (3.10.1-CAPI-1.16.0). Conversions between both will be slow.\n",
      "  warnings.warn(\n",
      "/var/folders/93/smcvnv_s04v84f_dnqvd4xkw0000gn/T/ipykernel_17644/2429105346.py:2: UserWarning: Shapely 2.0 is installed, but because PyGEOS is also installed, GeoPandas will still use PyGEOS by default for now. To force to use and test Shapely 2.0, you have to set the environment variable USE_PYGEOS=0. You can do this before starting the Python process, or in your code before importing geopandas:\n",
      "\n",
      "import os\n",
      "os.environ['USE_PYGEOS'] = '0'\n",
      "import geopandas\n",
      "\n",
      "In a future release, GeoPandas will switch to using Shapely by default. If you are using PyGEOS directly (calling PyGEOS functions on geometries from GeoPandas), this will then stop working and you are encouraged to migrate from PyGEOS to Shapely 2.0 (https://shapely.readthedocs.io/en/latest/migration_pygeos.html).\n",
      "  import geopandas as gpd\n"
     ]
    }
   ],
   "source": [
    "import pandas as pd\n",
    "import geopandas as gpd\n",
    "import os\n",
    "from shapely.geometry import Point, Polygon"
   ]
  },
  {
   "cell_type": "code",
   "execution_count": 4,
   "id": "359ca933",
   "metadata": {},
   "outputs": [
    {
     "data": {
      "text/plain": [
       "'/Users/tjark/Documents/Python/CairoPopulation.nosync/tfc-git'"
      ]
     },
     "execution_count": 4,
     "metadata": {},
     "output_type": "execute_result"
    }
   ],
   "source": [
    "pwd"
   ]
  },
  {
   "cell_type": "code",
   "execution_count": 3,
   "id": "1ca21443",
   "metadata": {},
   "outputs": [],
   "source": [
    "#move working directory up to acces data with relative paths\n",
    "os.chdir(\"..\")"
   ]
  },
  {
   "cell_type": "markdown",
   "id": "63489a3b",
   "metadata": {},
   "source": [
    "## Read Greater Cairo Region addresses, buffer & disolve"
   ]
  },
  {
   "cell_type": "code",
   "execution_count": 5,
   "id": "a5460c06",
   "metadata": {},
   "outputs": [],
   "source": [
    "# Load the point shapefile\n",
    "address_points = gpd.read_file('data/raw/osm/addresses/GCR_addresses.gpkg')"
   ]
  },
  {
   "cell_type": "code",
   "execution_count": 6,
   "id": "74a09a00",
   "metadata": {},
   "outputs": [],
   "source": [
    "# Convert the point geometry to a projected coordinate system\n",
    "address_points = address_points.to_crs('EPSG:32636')"
   ]
  },
  {
   "cell_type": "code",
   "execution_count": 7,
   "id": "328618b5",
   "metadata": {},
   "outputs": [],
   "source": [
    "# Buffer the points with a 50m radius\n",
    "buffered_address_points = address_points.buffer(50)"
   ]
  },
  {
   "cell_type": "code",
   "execution_count": 8,
   "id": "79d801a9",
   "metadata": {},
   "outputs": [],
   "source": [
    "# Convert the buffered polygons back to a GeoDataFrame\n",
    "buffered_address_points = gpd.GeoDataFrame(geometry=buffered_address_points, crs='EPSG:32636')"
   ]
  },
  {
   "cell_type": "code",
   "execution_count": 9,
   "id": "de84004e",
   "metadata": {},
   "outputs": [],
   "source": [
    "# Dissolve the buffered polygons\n",
    "address_points_area = buffered_address_points.dissolve()"
   ]
  },
  {
   "cell_type": "markdown",
   "id": "e9950bfd",
   "metadata": {},
   "source": [
    "## Read Google open building centre points, filter by confidence interval, verify if inside previous polygon, merge"
   ]
  },
  {
   "cell_type": "code",
   "execution_count": 10,
   "id": "b0d7afa5",
   "metadata": {},
   "outputs": [],
   "source": [
    "# Load the polygon data from the CSV file\n",
    "building_points = gpd.read_file('data/raw/open-buildings/open_buildings_centroids.shp')"
   ]
  },
  {
   "cell_type": "code",
   "execution_count": 11,
   "id": "d9aa30c6",
   "metadata": {
    "scrolled": true
   },
   "outputs": [
    {
     "data": {
      "text/html": [
       "<div>\n",
       "<style scoped>\n",
       "    .dataframe tbody tr th:only-of-type {\n",
       "        vertical-align: middle;\n",
       "    }\n",
       "\n",
       "    .dataframe tbody tr th {\n",
       "        vertical-align: top;\n",
       "    }\n",
       "\n",
       "    .dataframe thead th {\n",
       "        text-align: right;\n",
       "    }\n",
       "</style>\n",
       "<table border=\"1\" class=\"dataframe\">\n",
       "  <thead>\n",
       "    <tr style=\"text-align: right;\">\n",
       "      <th></th>\n",
       "      <th>field_1</th>\n",
       "      <th>latitude</th>\n",
       "      <th>longitude</th>\n",
       "      <th>area_in_me</th>\n",
       "      <th>confidence</th>\n",
       "      <th>full_plus_</th>\n",
       "      <th>geometry</th>\n",
       "    </tr>\n",
       "  </thead>\n",
       "  <tbody>\n",
       "    <tr>\n",
       "      <th>0</th>\n",
       "      <td>1</td>\n",
       "      <td>30.015059</td>\n",
       "      <td>31.427508</td>\n",
       "      <td>196.8340</td>\n",
       "      <td>0.7601</td>\n",
       "      <td>8G2H2C8H+22C7</td>\n",
       "      <td>POINT (31.42751 30.01506)</td>\n",
       "    </tr>\n",
       "    <tr>\n",
       "      <th>1</th>\n",
       "      <td>2</td>\n",
       "      <td>30.166752</td>\n",
       "      <td>31.316216</td>\n",
       "      <td>114.5702</td>\n",
       "      <td>0.7637</td>\n",
       "      <td>8G2H5888+PF45</td>\n",
       "      <td>POINT (31.31622 30.16675)</td>\n",
       "    </tr>\n",
       "    <tr>\n",
       "      <th>2</th>\n",
       "      <td>3</td>\n",
       "      <td>30.034948</td>\n",
       "      <td>31.189803</td>\n",
       "      <td>274.7086</td>\n",
       "      <td>0.6305</td>\n",
       "      <td>8G2H25MQ+XWFW</td>\n",
       "      <td>POINT (31.18980 30.03495)</td>\n",
       "    </tr>\n",
       "    <tr>\n",
       "      <th>3</th>\n",
       "      <td>4</td>\n",
       "      <td>30.129182</td>\n",
       "      <td>31.791867</td>\n",
       "      <td>465.7075</td>\n",
       "      <td>0.6922</td>\n",
       "      <td>8G2H4QHR+MPH8</td>\n",
       "      <td>POINT (31.79187 30.12918)</td>\n",
       "    </tr>\n",
       "    <tr>\n",
       "      <th>4</th>\n",
       "      <td>5</td>\n",
       "      <td>30.264915</td>\n",
       "      <td>31.262874</td>\n",
       "      <td>83.7047</td>\n",
       "      <td>0.6138</td>\n",
       "      <td>8G2H7777+X49Q</td>\n",
       "      <td>POINT (31.26287 30.26492)</td>\n",
       "    </tr>\n",
       "  </tbody>\n",
       "</table>\n",
       "</div>"
      ],
      "text/plain": [
       "   field_1   latitude  longitude  area_in_me  confidence     full_plus_  \\\n",
       "0        1  30.015059  31.427508    196.8340      0.7601  8G2H2C8H+22C7   \n",
       "1        2  30.166752  31.316216    114.5702      0.7637  8G2H5888+PF45   \n",
       "2        3  30.034948  31.189803    274.7086      0.6305  8G2H25MQ+XWFW   \n",
       "3        4  30.129182  31.791867    465.7075      0.6922  8G2H4QHR+MPH8   \n",
       "4        5  30.264915  31.262874     83.7047      0.6138  8G2H7777+X49Q   \n",
       "\n",
       "                    geometry  \n",
       "0  POINT (31.42751 30.01506)  \n",
       "1  POINT (31.31622 30.16675)  \n",
       "2  POINT (31.18980 30.03495)  \n",
       "3  POINT (31.79187 30.12918)  \n",
       "4  POINT (31.26287 30.26492)  "
      ]
     },
     "execution_count": 11,
     "metadata": {},
     "output_type": "execute_result"
    }
   ],
   "source": [
    "building_points.head()"
   ]
  },
  {
   "cell_type": "code",
   "execution_count": 12,
   "id": "19234fb6",
   "metadata": {},
   "outputs": [],
   "source": [
    "# Delete buildings smaller than 40 squaremeters and confidence unter 0.7\n",
    "building_points = building_points[building_points['area_in_me'] >= 40]\n",
    "building_points = building_points[building_points['confidence'] >= 0.70]"
   ]
  },
  {
   "cell_type": "code",
   "execution_count": 13,
   "id": "e68ac743",
   "metadata": {},
   "outputs": [],
   "source": [
    "# Check if the center points are within the dissolved polygon\n",
    "center_points_within = building_points.within(address_points_area.unary_union)"
   ]
  },
  {
   "cell_type": "code",
   "execution_count": 14,
   "id": "9aa7d7f6",
   "metadata": {},
   "outputs": [],
   "source": [
    "# Delete center points within the dissolved polygon\n",
    "filtered_center_points = building_points[~center_points_within]"
   ]
  },
  {
   "cell_type": "code",
   "execution_count": 15,
   "id": "72131bae",
   "metadata": {},
   "outputs": [
    {
     "data": {
      "text/html": [
       "<div>\n",
       "<style scoped>\n",
       "    .dataframe tbody tr th:only-of-type {\n",
       "        vertical-align: middle;\n",
       "    }\n",
       "\n",
       "    .dataframe tbody tr th {\n",
       "        vertical-align: top;\n",
       "    }\n",
       "\n",
       "    .dataframe thead th {\n",
       "        text-align: right;\n",
       "    }\n",
       "</style>\n",
       "<table border=\"1\" class=\"dataframe\">\n",
       "  <thead>\n",
       "    <tr style=\"text-align: right;\">\n",
       "      <th></th>\n",
       "      <th>field_1</th>\n",
       "      <th>latitude</th>\n",
       "      <th>longitude</th>\n",
       "      <th>area_in_me</th>\n",
       "      <th>confidence</th>\n",
       "      <th>full_plus_</th>\n",
       "      <th>geometry</th>\n",
       "    </tr>\n",
       "  </thead>\n",
       "  <tbody>\n",
       "    <tr>\n",
       "      <th>0</th>\n",
       "      <td>1</td>\n",
       "      <td>30.015059</td>\n",
       "      <td>31.427508</td>\n",
       "      <td>196.8340</td>\n",
       "      <td>0.7601</td>\n",
       "      <td>8G2H2C8H+22C7</td>\n",
       "      <td>POINT (31.42751 30.01506)</td>\n",
       "    </tr>\n",
       "    <tr>\n",
       "      <th>1</th>\n",
       "      <td>2</td>\n",
       "      <td>30.166752</td>\n",
       "      <td>31.316216</td>\n",
       "      <td>114.5702</td>\n",
       "      <td>0.7637</td>\n",
       "      <td>8G2H5888+PF45</td>\n",
       "      <td>POINT (31.31622 30.16675)</td>\n",
       "    </tr>\n",
       "    <tr>\n",
       "      <th>5</th>\n",
       "      <td>6</td>\n",
       "      <td>29.963043</td>\n",
       "      <td>30.965676</td>\n",
       "      <td>104.7066</td>\n",
       "      <td>0.8485</td>\n",
       "      <td>7GXGXX78+677P</td>\n",
       "      <td>POINT (30.96568 29.96304)</td>\n",
       "    </tr>\n",
       "    <tr>\n",
       "      <th>6</th>\n",
       "      <td>7</td>\n",
       "      <td>30.355839</td>\n",
       "      <td>30.871322</td>\n",
       "      <td>186.6883</td>\n",
       "      <td>0.7822</td>\n",
       "      <td>8G2G9V4C+8GPF</td>\n",
       "      <td>POINT (30.87132 30.35584)</td>\n",
       "    </tr>\n",
       "    <tr>\n",
       "      <th>7</th>\n",
       "      <td>8</td>\n",
       "      <td>30.128563</td>\n",
       "      <td>31.288532</td>\n",
       "      <td>80.0793</td>\n",
       "      <td>0.8252</td>\n",
       "      <td>8G2H47HQ+CCFC</td>\n",
       "      <td>POINT (31.28853 30.12856)</td>\n",
       "    </tr>\n",
       "  </tbody>\n",
       "</table>\n",
       "</div>"
      ],
      "text/plain": [
       "   field_1   latitude  longitude  area_in_me  confidence     full_plus_  \\\n",
       "0        1  30.015059  31.427508    196.8340      0.7601  8G2H2C8H+22C7   \n",
       "1        2  30.166752  31.316216    114.5702      0.7637  8G2H5888+PF45   \n",
       "5        6  29.963043  30.965676    104.7066      0.8485  7GXGXX78+677P   \n",
       "6        7  30.355839  30.871322    186.6883      0.7822  8G2G9V4C+8GPF   \n",
       "7        8  30.128563  31.288532     80.0793      0.8252  8G2H47HQ+CCFC   \n",
       "\n",
       "                    geometry  \n",
       "0  POINT (31.42751 30.01506)  \n",
       "1  POINT (31.31622 30.16675)  \n",
       "5  POINT (30.96568 29.96304)  \n",
       "6  POINT (30.87132 30.35584)  \n",
       "7  POINT (31.28853 30.12856)  "
      ]
     },
     "execution_count": 15,
     "metadata": {},
     "output_type": "execute_result"
    }
   ],
   "source": [
    "filtered_center_points.head()"
   ]
  },
  {
   "cell_type": "code",
   "execution_count": 16,
   "id": "8d3f34a9",
   "metadata": {},
   "outputs": [],
   "source": [
    "filtered_center_points = filtered_center_points.to_crs('EPSG:32636')"
   ]
  },
  {
   "cell_type": "code",
   "execution_count": 17,
   "id": "2a70c4e7",
   "metadata": {},
   "outputs": [],
   "source": [
    "joined_points = pd.concat([address_points, filtered_center_points])"
   ]
  },
  {
   "cell_type": "code",
   "execution_count": 18,
   "id": "af10f0fe",
   "metadata": {
    "scrolled": false
   },
   "outputs": [
    {
     "data": {
      "text/html": [
       "<div>\n",
       "<style scoped>\n",
       "    .dataframe tbody tr th:only-of-type {\n",
       "        vertical-align: middle;\n",
       "    }\n",
       "\n",
       "    .dataframe tbody tr th {\n",
       "        vertical-align: top;\n",
       "    }\n",
       "\n",
       "    .dataframe thead th {\n",
       "        text-align: right;\n",
       "    }\n",
       "</style>\n",
       "<table border=\"1\" class=\"dataframe\">\n",
       "  <thead>\n",
       "    <tr style=\"text-align: right;\">\n",
       "      <th></th>\n",
       "      <th>osm_id</th>\n",
       "      <th>addr:street</th>\n",
       "      <th>name</th>\n",
       "      <th>building</th>\n",
       "      <th>addr:housenumber</th>\n",
       "      <th>geometry</th>\n",
       "      <th>field_1</th>\n",
       "      <th>latitude</th>\n",
       "      <th>longitude</th>\n",
       "      <th>area_in_me</th>\n",
       "      <th>confidence</th>\n",
       "      <th>full_plus_</th>\n",
       "    </tr>\n",
       "  </thead>\n",
       "  <tbody>\n",
       "    <tr>\n",
       "      <th>0</th>\n",
       "      <td>27565120.0</td>\n",
       "      <td>NaN</td>\n",
       "      <td>الجيزة</td>\n",
       "      <td>NaN</td>\n",
       "      <td>NaN</td>\n",
       "      <td>POINT (327496.394 3318698.896)</td>\n",
       "      <td>NaN</td>\n",
       "      <td>NaN</td>\n",
       "      <td>NaN</td>\n",
       "      <td>NaN</td>\n",
       "      <td>NaN</td>\n",
       "      <td>NaN</td>\n",
       "    </tr>\n",
       "    <tr>\n",
       "      <th>1</th>\n",
       "      <td>31353319.0</td>\n",
       "      <td>NaN</td>\n",
       "      <td>بنها</td>\n",
       "      <td>NaN</td>\n",
       "      <td>NaN</td>\n",
       "      <td>POINT (325660.622 3371436.563)</td>\n",
       "      <td>NaN</td>\n",
       "      <td>NaN</td>\n",
       "      <td>NaN</td>\n",
       "      <td>NaN</td>\n",
       "      <td>NaN</td>\n",
       "      <td>NaN</td>\n",
       "    </tr>\n",
       "    <tr>\n",
       "      <th>2</th>\n",
       "      <td>32538015.0</td>\n",
       "      <td>NaN</td>\n",
       "      <td>ميدان الجامع</td>\n",
       "      <td>NaN</td>\n",
       "      <td>NaN</td>\n",
       "      <td>POINT (338887.930 3330654.143)</td>\n",
       "      <td>NaN</td>\n",
       "      <td>NaN</td>\n",
       "      <td>NaN</td>\n",
       "      <td>NaN</td>\n",
       "      <td>NaN</td>\n",
       "      <td>NaN</td>\n",
       "    </tr>\n",
       "    <tr>\n",
       "      <th>3</th>\n",
       "      <td>33471021.0</td>\n",
       "      <td>NaN</td>\n",
       "      <td>شل</td>\n",
       "      <td>NaN</td>\n",
       "      <td>NaN</td>\n",
       "      <td>POINT (343885.722 3328620.551)</td>\n",
       "      <td>NaN</td>\n",
       "      <td>NaN</td>\n",
       "      <td>NaN</td>\n",
       "      <td>NaN</td>\n",
       "      <td>NaN</td>\n",
       "      <td>NaN</td>\n",
       "    </tr>\n",
       "    <tr>\n",
       "      <th>4</th>\n",
       "      <td>34712107.0</td>\n",
       "      <td>NaN</td>\n",
       "      <td>Misr Petrol</td>\n",
       "      <td>NaN</td>\n",
       "      <td>NaN</td>\n",
       "      <td>POINT (319399.108 3318793.667)</td>\n",
       "      <td>NaN</td>\n",
       "      <td>NaN</td>\n",
       "      <td>NaN</td>\n",
       "      <td>NaN</td>\n",
       "      <td>NaN</td>\n",
       "      <td>NaN</td>\n",
       "    </tr>\n",
       "  </tbody>\n",
       "</table>\n",
       "</div>"
      ],
      "text/plain": [
       "       osm_id addr:street          name building addr:housenumber  \\\n",
       "0  27565120.0         NaN        الجيزة      NaN              NaN   \n",
       "1  31353319.0         NaN          بنها      NaN              NaN   \n",
       "2  32538015.0         NaN  ميدان الجامع      NaN              NaN   \n",
       "3  33471021.0         NaN            شل      NaN              NaN   \n",
       "4  34712107.0         NaN   Misr Petrol      NaN              NaN   \n",
       "\n",
       "                         geometry  field_1  latitude  longitude  area_in_me  \\\n",
       "0  POINT (327496.394 3318698.896)      NaN       NaN        NaN         NaN   \n",
       "1  POINT (325660.622 3371436.563)      NaN       NaN        NaN         NaN   \n",
       "2  POINT (338887.930 3330654.143)      NaN       NaN        NaN         NaN   \n",
       "3  POINT (343885.722 3328620.551)      NaN       NaN        NaN         NaN   \n",
       "4  POINT (319399.108 3318793.667)      NaN       NaN        NaN         NaN   \n",
       "\n",
       "   confidence full_plus_  \n",
       "0         NaN        NaN  \n",
       "1         NaN        NaN  \n",
       "2         NaN        NaN  \n",
       "3         NaN        NaN  \n",
       "4         NaN        NaN  "
      ]
     },
     "execution_count": 18,
     "metadata": {},
     "output_type": "execute_result"
    }
   ],
   "source": [
    "joined_points.head()"
   ]
  },
  {
   "cell_type": "markdown",
   "id": "b12d0f65",
   "metadata": {},
   "source": [
    "## Keep only points within defined GCR"
   ]
  },
  {
   "cell_type": "code",
   "execution_count": 19,
   "id": "604653e7",
   "metadata": {},
   "outputs": [],
   "source": [
    "# Load the point shapefile\n",
    "gcr_boundary = gpd.read_file('data/raw/eg_admin_boundaries/tfc_gcr_bounds.geojson')"
   ]
  },
  {
   "cell_type": "code",
   "execution_count": 20,
   "id": "7811da38",
   "metadata": {},
   "outputs": [],
   "source": [
    "gcr_boundary = gcr_boundary.to_crs('EPSG:32636')"
   ]
  },
  {
   "cell_type": "code",
   "execution_count": 21,
   "id": "a3bc3248",
   "metadata": {},
   "outputs": [],
   "source": [
    "# Check if the joined points are within the gcr bounds polygon\n",
    "joined_points_within = joined_points.within(gcr_boundary.unary_union)"
   ]
  },
  {
   "cell_type": "code",
   "execution_count": 22,
   "id": "1691a72e",
   "metadata": {},
   "outputs": [
    {
     "data": {
      "text/plain": [
       "0     True\n",
       "1    False\n",
       "2     True\n",
       "3     True\n",
       "4     True\n",
       "dtype: bool"
      ]
     },
     "execution_count": 22,
     "metadata": {},
     "output_type": "execute_result"
    }
   ],
   "source": [
    "joined_points_within.head()"
   ]
  },
  {
   "cell_type": "code",
   "execution_count": 23,
   "id": "3f3c6ea8",
   "metadata": {},
   "outputs": [],
   "source": [
    "# Delete joined points outside the gcr bounds polygon\n",
    "gcr_addresses = joined_points[joined_points_within]"
   ]
  },
  {
   "cell_type": "code",
   "execution_count": 24,
   "id": "11847eb8",
   "metadata": {},
   "outputs": [
    {
     "name": "stderr",
     "output_type": "stream",
     "text": [
      "/var/folders/93/smcvnv_s04v84f_dnqvd4xkw0000gn/T/ipykernel_17644/1137287895.py:2: UserWarning: Column names longer than 10 characters will be truncated when saved to ESRI Shapefile.\n",
      "  gcr_addresses.to_file('data/interim/gcr_addresses.shp')\n"
     ]
    }
   ],
   "source": [
    "# Save the joined points to a new shapefile\n",
    "gcr_addresses.to_file('data/interim/gcr_addresses.shp')"
   ]
  }
 ],
 "metadata": {
  "kernelspec": {
   "display_name": "Python 3 (ipykernel)",
   "language": "python",
   "name": "python3"
  },
  "language_info": {
   "codemirror_mode": {
    "name": "ipython",
    "version": 3
   },
   "file_extension": ".py",
   "mimetype": "text/x-python",
   "name": "python",
   "nbconvert_exporter": "python",
   "pygments_lexer": "ipython3",
   "version": "3.9.13"
  }
 },
 "nbformat": 4,
 "nbformat_minor": 5
}
