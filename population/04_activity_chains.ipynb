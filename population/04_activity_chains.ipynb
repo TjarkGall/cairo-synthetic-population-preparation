{
 "cells": [
  {
   "cell_type": "code",
   "execution_count": 1,
   "id": "d4ef5127",
   "metadata": {},
   "outputs": [
    {
     "name": "stderr",
     "output_type": "stream",
     "text": [
      "/Users/tjark/opt/anaconda3/lib/python3.9/site-packages/geopandas/_compat.py:123: UserWarning: The Shapely GEOS version (3.8.0-CAPI-1.13.1) is incompatible with the GEOS version PyGEOS was compiled with (3.10.1-CAPI-1.16.0). Conversions between both will be slow.\n",
      "  warnings.warn(\n",
      "/var/folders/93/smcvnv_s04v84f_dnqvd4xkw0000gn/T/ipykernel_2854/2621361718.py:3: UserWarning: Shapely 2.0 is installed, but because PyGEOS is also installed, GeoPandas will still use PyGEOS by default for now. To force to use and test Shapely 2.0, you have to set the environment variable USE_PYGEOS=0. You can do this before starting the Python process, or in your code before importing geopandas:\n",
      "\n",
      "import os\n",
      "os.environ['USE_PYGEOS'] = '0'\n",
      "import geopandas\n",
      "\n",
      "In a future release, GeoPandas will switch to using Shapely by default. If you are using PyGEOS directly (calling PyGEOS functions on geometries from GeoPandas), this will then stop working and you are encouraged to migrate from PyGEOS to Shapely 2.0 (https://shapely.readthedocs.io/en/latest/migration_pygeos.html).\n",
      "  import geopandas as gpd\n"
     ]
    }
   ],
   "source": [
    "import pandas as pd\n",
    "import numpy as np\n",
    "import geopandas as gpd\n",
    "import os\n",
    "from datetime import datetime\n",
    "from geopy.distance import geodesic\n",
    "import matplotlib.pyplot as plt"
   ]
  },
  {
   "cell_type": "markdown",
   "id": "caac4168",
   "metadata": {},
   "source": [
    "# Objective and approach of this notebook"
   ]
  },
  {
   "cell_type": "code",
   "execution_count": 3,
   "id": "5ad6e929",
   "metadata": {},
   "outputs": [],
   "source": [
    "# load maptis data and separate in number of trips on previous day and trips\n",
    "# match types of trips with day profiles to create number of\n",
    "# profiles linked to socio-economic profles"
   ]
  },
  {
   "cell_type": "code",
   "execution_count": 2,
   "id": "a57a1180",
   "metadata": {},
   "outputs": [
    {
     "data": {
      "text/plain": [
       "'/Users/tjark/Documents/Python/CairoPopulation.nosync/tfc-git/population'"
      ]
     },
     "execution_count": 2,
     "metadata": {},
     "output_type": "execute_result"
    }
   ],
   "source": [
    "pwd"
   ]
  },
  {
   "cell_type": "code",
   "execution_count": 3,
   "id": "b048b32e",
   "metadata": {},
   "outputs": [],
   "source": [
    "#move working directory up to acces data with relative paths\n",
    "os.chdir(\"..\")"
   ]
  },
  {
   "cell_type": "markdown",
   "id": "2aab1e39",
   "metadata": {},
   "source": [
    "### Load data"
   ]
  },
  {
   "cell_type": "code",
   "execution_count": 4,
   "id": "62feb20d",
   "metadata": {},
   "outputs": [],
   "source": [
    "# Read the GeoJSON file into a GeoDataFrame\n",
    "god = gpd.read_file('data/raw/maptis/od_surveys/OD_surveys_cleaned_epsg_4326.geojson')\n",
    "# Convert the GeoDataFrame to a regular pandas DataFrame\n",
    "od = god.drop(columns='geometry')\n",
    "\n",
    "# Read the GeoJSON file into a GeoDataFrame\n",
    "gti = gpd.read_file('data/raw/maptis/ti_surveys/TI_surveys_cleaned_epsg_4326.geojson')\n",
    "# Convert the GeoDataFrame to a regular pandas DataFrame\n",
    "ti = gti.drop(columns='geometry')\n"
   ]
  },
  {
   "cell_type": "code",
   "execution_count": 5,
   "id": "ee4ab62a",
   "metadata": {},
   "outputs": [
    {
     "data": {
      "text/plain": [
       "9739"
      ]
     },
     "execution_count": 5,
     "metadata": {},
     "output_type": "execute_result"
    }
   ],
   "source": [
    "len(god)"
   ]
  },
  {
   "cell_type": "code",
   "execution_count": 6,
   "id": "d4904167",
   "metadata": {},
   "outputs": [
    {
     "data": {
      "text/plain": [
       "2146"
      ]
     },
     "execution_count": 6,
     "metadata": {},
     "output_type": "execute_result"
    }
   ],
   "source": [
    "len(gti)"
   ]
  },
  {
   "cell_type": "code",
   "execution_count": 5,
   "id": "b130f1e8",
   "metadata": {},
   "outputs": [
    {
     "data": {
      "text/html": [
       "<div>\n",
       "<style scoped>\n",
       "    .dataframe tbody tr th:only-of-type {\n",
       "        vertical-align: middle;\n",
       "    }\n",
       "\n",
       "    .dataframe tbody tr th {\n",
       "        vertical-align: top;\n",
       "    }\n",
       "\n",
       "    .dataframe thead th {\n",
       "        text-align: right;\n",
       "    }\n",
       "</style>\n",
       "<table border=\"1\" class=\"dataframe\">\n",
       "  <thead>\n",
       "    <tr style=\"text-align: right;\">\n",
       "      <th></th>\n",
       "      <th>id</th>\n",
       "      <th>submitted_at</th>\n",
       "      <th>origin_x</th>\n",
       "      <th>origin_y</th>\n",
       "      <th>destination_x</th>\n",
       "      <th>destination_y</th>\n",
       "      <th>age</th>\n",
       "      <th>gender</th>\n",
       "      <th>income</th>\n",
       "      <th>occupation</th>\n",
       "      <th>...</th>\n",
       "      <th>transfers</th>\n",
       "      <th>transfers_no_walking</th>\n",
       "      <th>has_private_motorcycle</th>\n",
       "      <th>has_ride_hailing_account</th>\n",
       "      <th>has_metro_subscription_card</th>\n",
       "      <th>has_cta_subscription_card</th>\n",
       "      <th>has_none</th>\n",
       "      <th>has_private_car</th>\n",
       "      <th>has_bicycle</th>\n",
       "      <th>has_mm_subscription_card</th>\n",
       "    </tr>\n",
       "  </thead>\n",
       "  <tbody>\n",
       "    <tr>\n",
       "      <th>0</th>\n",
       "      <td>6rjWwPcoWi-mEJL4pSmgH</td>\n",
       "      <td>2021-02-03 13:39:05.290000+00:00</td>\n",
       "      <td>31.324623</td>\n",
       "      <td>30.100202</td>\n",
       "      <td>31.246314</td>\n",
       "      <td>30.085274</td>\n",
       "      <td>26-35</td>\n",
       "      <td>female</td>\n",
       "      <td>4001-6000</td>\n",
       "      <td>working</td>\n",
       "      <td>...</td>\n",
       "      <td>0.0</td>\n",
       "      <td>0.0</td>\n",
       "      <td>0.0</td>\n",
       "      <td>1.0</td>\n",
       "      <td>0.0</td>\n",
       "      <td>0.0</td>\n",
       "      <td>0.0</td>\n",
       "      <td>0.0</td>\n",
       "      <td>0.0</td>\n",
       "      <td>0.0</td>\n",
       "    </tr>\n",
       "  </tbody>\n",
       "</table>\n",
       "<p>1 rows × 42 columns</p>\n",
       "</div>"
      ],
      "text/plain": [
       "                      id                     submitted_at   origin_x  \\\n",
       "0  6rjWwPcoWi-mEJL4pSmgH 2021-02-03 13:39:05.290000+00:00  31.324623   \n",
       "\n",
       "    origin_y  destination_x  destination_y    age  gender     income  \\\n",
       "0  30.100202      31.246314      30.085274  26-35  female  4001-6000   \n",
       "\n",
       "  occupation  ... transfers transfers_no_walking has_private_motorcycle  \\\n",
       "0    working  ...       0.0                  0.0                    0.0   \n",
       "\n",
       "  has_ride_hailing_account  has_metro_subscription_card  \\\n",
       "0                      1.0                          0.0   \n",
       "\n",
       "   has_cta_subscription_card  has_none  has_private_car  has_bicycle  \\\n",
       "0                        0.0       0.0              0.0          0.0   \n",
       "\n",
       "   has_mm_subscription_card  \n",
       "0                       0.0  \n",
       "\n",
       "[1 rows x 42 columns]"
      ]
     },
     "execution_count": 5,
     "metadata": {},
     "output_type": "execute_result"
    }
   ],
   "source": [
    "od.head(1)"
   ]
  },
  {
   "cell_type": "code",
   "execution_count": 6,
   "id": "1ac3d5ed",
   "metadata": {},
   "outputs": [
    {
     "data": {
      "text/html": [
       "<div>\n",
       "<style scoped>\n",
       "    .dataframe tbody tr th:only-of-type {\n",
       "        vertical-align: middle;\n",
       "    }\n",
       "\n",
       "    .dataframe tbody tr th {\n",
       "        vertical-align: top;\n",
       "    }\n",
       "\n",
       "    .dataframe thead th {\n",
       "        text-align: right;\n",
       "    }\n",
       "</style>\n",
       "<table border=\"1\" class=\"dataframe\">\n",
       "  <thead>\n",
       "    <tr style=\"text-align: right;\">\n",
       "      <th></th>\n",
       "      <th>id</th>\n",
       "      <th>submitted_at</th>\n",
       "      <th>origin_x</th>\n",
       "      <th>origin_y</th>\n",
       "      <th>destination_x</th>\n",
       "      <th>destination_y</th>\n",
       "      <th>age</th>\n",
       "      <th>gender</th>\n",
       "      <th>income</th>\n",
       "      <th>trip_cost</th>\n",
       "      <th>...</th>\n",
       "      <th>rate_trip_comfort</th>\n",
       "      <th>rate_trip_duration</th>\n",
       "      <th>rate_trip_not_safe</th>\n",
       "      <th>rate_trip_transfers</th>\n",
       "      <th>rate_vehicle_not_safe</th>\n",
       "      <th>rate_trip_waiting_time</th>\n",
       "      <th>rate_trip_available_time</th>\n",
       "      <th>flag_cost</th>\n",
       "      <th>flag_trip_duration</th>\n",
       "      <th>flag_wait_walk_time</th>\n",
       "    </tr>\n",
       "  </thead>\n",
       "  <tbody>\n",
       "    <tr>\n",
       "      <th>0</th>\n",
       "      <td>V-v3RrflsABmNaq1qtzeQ</td>\n",
       "      <td>2021-03-21 10:33:09.943000+00:00</td>\n",
       "      <td>31.333333</td>\n",
       "      <td>29.85</td>\n",
       "      <td>31.256141</td>\n",
       "      <td>29.963136</td>\n",
       "      <td>26-35</td>\n",
       "      <td>male</td>\n",
       "      <td>no_answer</td>\n",
       "      <td>5.0</td>\n",
       "      <td>...</td>\n",
       "      <td>NaN</td>\n",
       "      <td>NaN</td>\n",
       "      <td>NaN</td>\n",
       "      <td>NaN</td>\n",
       "      <td>NaN</td>\n",
       "      <td>NaN</td>\n",
       "      <td>NaN</td>\n",
       "      <td>0.0</td>\n",
       "      <td>0.0</td>\n",
       "      <td>0.0</td>\n",
       "    </tr>\n",
       "  </tbody>\n",
       "</table>\n",
       "<p>1 rows × 104 columns</p>\n",
       "</div>"
      ],
      "text/plain": [
       "                      id                     submitted_at   origin_x  \\\n",
       "0  V-v3RrflsABmNaq1qtzeQ 2021-03-21 10:33:09.943000+00:00  31.333333   \n",
       "\n",
       "   origin_y  destination_x  destination_y    age gender     income  trip_cost  \\\n",
       "0     29.85      31.256141      29.963136  26-35   male  no_answer        5.0   \n",
       "\n",
       "   ... rate_trip_comfort rate_trip_duration rate_trip_not_safe  \\\n",
       "0  ...               NaN                NaN                NaN   \n",
       "\n",
       "  rate_trip_transfers rate_vehicle_not_safe rate_trip_waiting_time  \\\n",
       "0                 NaN                   NaN                    NaN   \n",
       "\n",
       "  rate_trip_available_time  flag_cost  flag_trip_duration  flag_wait_walk_time  \n",
       "0                      NaN        0.0                 0.0                  0.0  \n",
       "\n",
       "[1 rows x 104 columns]"
      ]
     },
     "execution_count": 6,
     "metadata": {},
     "output_type": "execute_result"
    }
   ],
   "source": [
    "ti.head(1)"
   ]
  },
  {
   "cell_type": "markdown",
   "id": "4418175c",
   "metadata": {},
   "source": [
    "### Calculate distance from coordinates"
   ]
  },
  {
   "cell_type": "code",
   "execution_count": 10,
   "id": "396b511b",
   "metadata": {},
   "outputs": [],
   "source": [
    "# Define a function to calculate the distance between two coordinates\n",
    "def calculate_distance(row):\n",
    "    origin = (row['origin_y'], row['origin_x'])\n",
    "    destination = (row['destination_y'], row['destination_x'])\n",
    "    return geodesic(origin, destination).kilometers\n",
    "\n",
    "# Apply the calculate_distance function to each row of the DataFrame\n",
    "od['distance'] = od.apply(calculate_distance, axis=1)\n",
    "ti['distance'] = ti.apply(calculate_distance, axis=1)"
   ]
  },
  {
   "cell_type": "markdown",
   "id": "6f66f447",
   "metadata": {},
   "source": [
    "### Filter by weekday/weekend in Egypt (Sunday-Thursday)"
   ]
  },
  {
   "cell_type": "code",
   "execution_count": 11,
   "id": "5f847cd3",
   "metadata": {
    "scrolled": true
   },
   "outputs": [],
   "source": [
    "# Convert the 'submitted_at' column to datetime format\n",
    "od['submitted_at'] = pd.to_datetime(od['submitted_at'])\n",
    "\n",
    "# Extract the day of the week as a number (0 for Monday, 1 for Tuesday, and so on)\n",
    "od['day_of_week'] = od['submitted_at'].dt.dayofweek\n",
    "\n",
    "# Filter the DataFrame to include only Sunday, Monday, Tuesday, Wednesday, or Thursday\n",
    "od_week = od[od['day_of_week'].isin([6, 0, 1, 2, 3])]"
   ]
  },
  {
   "cell_type": "code",
   "execution_count": 12,
   "id": "4d8b5a79",
   "metadata": {},
   "outputs": [],
   "source": [
    "# Convert the 'submitted_at' column to datetime format\n",
    "ti['submitted_at'] = pd.to_datetime(ti['submitted_at'])\n",
    "\n",
    "# Extract the day of the week as a number (0 for Monday, 1 for Tuesday, and so on)\n",
    "ti['day_of_week'] = ti['submitted_at'].dt.dayofweek\n",
    "\n",
    "# Filter the DataFrame to include only Sunday, Monday, Tuesday, Wednesday, or Thursday\n",
    "ti_week = ti[ti['day_of_week'].isin([6, 0, 1, 2, 3])]"
   ]
  },
  {
   "cell_type": "code",
   "execution_count": 13,
   "id": "9eab3f98",
   "metadata": {},
   "outputs": [],
   "source": [
    "# Convert the 'submitted_at' column to datetime format\n",
    "ti['submitted_at'] = pd.to_datetime(ti['submitted_at'])\n",
    "\n",
    "# Extract the day of the week as a number (0 for Monday, 1 for Tuesday, and so on)\n",
    "ti['day_of_week'] = ti['submitted_at'].dt.dayofweek\n",
    "\n",
    "# Filter the DataFrame to include only Monday, Tuesday, Wednesday, Thursday, and Friday for\n",
    "# references to number of trips on previous day (weekday)\n",
    "ti_week_prev = ti[ti['day_of_week'].isin([0, 1, 2, 3, 4])]"
   ]
  },
  {
   "cell_type": "code",
   "execution_count": 14,
   "id": "9f063f4a",
   "metadata": {},
   "outputs": [
    {
     "data": {
      "text/html": [
       "<div>\n",
       "<style scoped>\n",
       "    .dataframe tbody tr th:only-of-type {\n",
       "        vertical-align: middle;\n",
       "    }\n",
       "\n",
       "    .dataframe tbody tr th {\n",
       "        vertical-align: top;\n",
       "    }\n",
       "\n",
       "    .dataframe thead th {\n",
       "        text-align: right;\n",
       "    }\n",
       "</style>\n",
       "<table border=\"1\" class=\"dataframe\">\n",
       "  <thead>\n",
       "    <tr style=\"text-align: right;\">\n",
       "      <th></th>\n",
       "      <th>id</th>\n",
       "      <th>submitted_at</th>\n",
       "      <th>origin_x</th>\n",
       "      <th>origin_y</th>\n",
       "      <th>destination_x</th>\n",
       "      <th>destination_y</th>\n",
       "      <th>age</th>\n",
       "      <th>gender</th>\n",
       "      <th>income</th>\n",
       "      <th>occupation</th>\n",
       "      <th>...</th>\n",
       "      <th>has_private_motorcycle</th>\n",
       "      <th>has_ride_hailing_account</th>\n",
       "      <th>has_metro_subscription_card</th>\n",
       "      <th>has_cta_subscription_card</th>\n",
       "      <th>has_none</th>\n",
       "      <th>has_private_car</th>\n",
       "      <th>has_bicycle</th>\n",
       "      <th>has_mm_subscription_card</th>\n",
       "      <th>distance</th>\n",
       "      <th>day_of_week</th>\n",
       "    </tr>\n",
       "  </thead>\n",
       "  <tbody>\n",
       "    <tr>\n",
       "      <th>0</th>\n",
       "      <td>6rjWwPcoWi-mEJL4pSmgH</td>\n",
       "      <td>2021-02-03 13:39:05.290000+00:00</td>\n",
       "      <td>31.324623</td>\n",
       "      <td>30.100202</td>\n",
       "      <td>31.246314</td>\n",
       "      <td>30.085274</td>\n",
       "      <td>26-35</td>\n",
       "      <td>female</td>\n",
       "      <td>4001-6000</td>\n",
       "      <td>working</td>\n",
       "      <td>...</td>\n",
       "      <td>0.0</td>\n",
       "      <td>1.0</td>\n",
       "      <td>0.0</td>\n",
       "      <td>0.0</td>\n",
       "      <td>0.0</td>\n",
       "      <td>0.0</td>\n",
       "      <td>0.0</td>\n",
       "      <td>0.0</td>\n",
       "      <td>7.727921</td>\n",
       "      <td>2</td>\n",
       "    </tr>\n",
       "    <tr>\n",
       "      <th>1</th>\n",
       "      <td>Mq5Gj8QIEciwWwc7LRsrF</td>\n",
       "      <td>2021-02-03 14:11:06.250000+00:00</td>\n",
       "      <td>31.152811</td>\n",
       "      <td>29.992433</td>\n",
       "      <td>31.201973</td>\n",
       "      <td>29.951972</td>\n",
       "      <td>36-45</td>\n",
       "      <td>male</td>\n",
       "      <td>no_answer</td>\n",
       "      <td>working</td>\n",
       "      <td>...</td>\n",
       "      <td>1.0</td>\n",
       "      <td>0.0</td>\n",
       "      <td>0.0</td>\n",
       "      <td>0.0</td>\n",
       "      <td>0.0</td>\n",
       "      <td>0.0</td>\n",
       "      <td>0.0</td>\n",
       "      <td>0.0</td>\n",
       "      <td>6.529161</td>\n",
       "      <td>2</td>\n",
       "    </tr>\n",
       "    <tr>\n",
       "      <th>2</th>\n",
       "      <td>WB9I66oaMQB8y7W92FrWl</td>\n",
       "      <td>2021-02-03 13:58:15.958000+00:00</td>\n",
       "      <td>31.322394</td>\n",
       "      <td>30.098643</td>\n",
       "      <td>31.240064</td>\n",
       "      <td>30.054885</td>\n",
       "      <td>18-25</td>\n",
       "      <td>female</td>\n",
       "      <td>no_answer</td>\n",
       "      <td>only_a_student</td>\n",
       "      <td>...</td>\n",
       "      <td>0.0</td>\n",
       "      <td>1.0</td>\n",
       "      <td>0.0</td>\n",
       "      <td>0.0</td>\n",
       "      <td>0.0</td>\n",
       "      <td>0.0</td>\n",
       "      <td>0.0</td>\n",
       "      <td>0.0</td>\n",
       "      <td>9.302396</td>\n",
       "      <td>2</td>\n",
       "    </tr>\n",
       "  </tbody>\n",
       "</table>\n",
       "<p>3 rows × 44 columns</p>\n",
       "</div>"
      ],
      "text/plain": [
       "                      id                     submitted_at   origin_x  \\\n",
       "0  6rjWwPcoWi-mEJL4pSmgH 2021-02-03 13:39:05.290000+00:00  31.324623   \n",
       "1  Mq5Gj8QIEciwWwc7LRsrF 2021-02-03 14:11:06.250000+00:00  31.152811   \n",
       "2  WB9I66oaMQB8y7W92FrWl 2021-02-03 13:58:15.958000+00:00  31.322394   \n",
       "\n",
       "    origin_y  destination_x  destination_y    age  gender     income  \\\n",
       "0  30.100202      31.246314      30.085274  26-35  female  4001-6000   \n",
       "1  29.992433      31.201973      29.951972  36-45    male  no_answer   \n",
       "2  30.098643      31.240064      30.054885  18-25  female  no_answer   \n",
       "\n",
       "       occupation  ... has_private_motorcycle has_ride_hailing_account  \\\n",
       "0         working  ...                    0.0                      1.0   \n",
       "1         working  ...                    1.0                      0.0   \n",
       "2  only_a_student  ...                    0.0                      1.0   \n",
       "\n",
       "  has_metro_subscription_card has_cta_subscription_card  has_none  \\\n",
       "0                         0.0                       0.0       0.0   \n",
       "1                         0.0                       0.0       0.0   \n",
       "2                         0.0                       0.0       0.0   \n",
       "\n",
       "   has_private_car  has_bicycle  has_mm_subscription_card  distance  \\\n",
       "0              0.0          0.0                       0.0  7.727921   \n",
       "1              0.0          0.0                       0.0  6.529161   \n",
       "2              0.0          0.0                       0.0  9.302396   \n",
       "\n",
       "   day_of_week  \n",
       "0            2  \n",
       "1            2  \n",
       "2            2  \n",
       "\n",
       "[3 rows x 44 columns]"
      ]
     },
     "execution_count": 14,
     "metadata": {},
     "output_type": "execute_result"
    }
   ],
   "source": [
    "od_week.head(3)"
   ]
  },
  {
   "cell_type": "code",
   "execution_count": 15,
   "id": "54d8384e",
   "metadata": {},
   "outputs": [
    {
     "data": {
      "text/html": [
       "<div>\n",
       "<style scoped>\n",
       "    .dataframe tbody tr th:only-of-type {\n",
       "        vertical-align: middle;\n",
       "    }\n",
       "\n",
       "    .dataframe tbody tr th {\n",
       "        vertical-align: top;\n",
       "    }\n",
       "\n",
       "    .dataframe thead th {\n",
       "        text-align: right;\n",
       "    }\n",
       "</style>\n",
       "<table border=\"1\" class=\"dataframe\">\n",
       "  <thead>\n",
       "    <tr style=\"text-align: right;\">\n",
       "      <th></th>\n",
       "      <th>id</th>\n",
       "      <th>submitted_at</th>\n",
       "      <th>origin_x</th>\n",
       "      <th>origin_y</th>\n",
       "      <th>destination_x</th>\n",
       "      <th>destination_y</th>\n",
       "      <th>age</th>\n",
       "      <th>gender</th>\n",
       "      <th>income</th>\n",
       "      <th>trip_cost</th>\n",
       "      <th>...</th>\n",
       "      <th>rate_trip_not_safe</th>\n",
       "      <th>rate_trip_transfers</th>\n",
       "      <th>rate_vehicle_not_safe</th>\n",
       "      <th>rate_trip_waiting_time</th>\n",
       "      <th>rate_trip_available_time</th>\n",
       "      <th>flag_cost</th>\n",
       "      <th>flag_trip_duration</th>\n",
       "      <th>flag_wait_walk_time</th>\n",
       "      <th>distance</th>\n",
       "      <th>day_of_week</th>\n",
       "    </tr>\n",
       "  </thead>\n",
       "  <tbody>\n",
       "    <tr>\n",
       "      <th>0</th>\n",
       "      <td>V-v3RrflsABmNaq1qtzeQ</td>\n",
       "      <td>2021-03-21 10:33:09.943000+00:00</td>\n",
       "      <td>31.333333</td>\n",
       "      <td>29.850000</td>\n",
       "      <td>31.256141</td>\n",
       "      <td>29.963136</td>\n",
       "      <td>26-35</td>\n",
       "      <td>male</td>\n",
       "      <td>no_answer</td>\n",
       "      <td>5.0</td>\n",
       "      <td>...</td>\n",
       "      <td>NaN</td>\n",
       "      <td>NaN</td>\n",
       "      <td>NaN</td>\n",
       "      <td>NaN</td>\n",
       "      <td>NaN</td>\n",
       "      <td>0.0</td>\n",
       "      <td>0.0</td>\n",
       "      <td>0.0</td>\n",
       "      <td>14.589661</td>\n",
       "      <td>6</td>\n",
       "    </tr>\n",
       "    <tr>\n",
       "      <th>1</th>\n",
       "      <td>hV6fpFrwiAUUMxXnYLxVo</td>\n",
       "      <td>2021-03-21 10:35:26.012000+00:00</td>\n",
       "      <td>31.213243</td>\n",
       "      <td>30.014782</td>\n",
       "      <td>31.273581</td>\n",
       "      <td>29.946330</td>\n",
       "      <td>36-45</td>\n",
       "      <td>male</td>\n",
       "      <td>4001-6000</td>\n",
       "      <td>12.0</td>\n",
       "      <td>...</td>\n",
       "      <td>NaN</td>\n",
       "      <td>NaN</td>\n",
       "      <td>NaN</td>\n",
       "      <td>NaN</td>\n",
       "      <td>NaN</td>\n",
       "      <td>0.0</td>\n",
       "      <td>0.0</td>\n",
       "      <td>0.0</td>\n",
       "      <td>9.564749</td>\n",
       "      <td>6</td>\n",
       "    </tr>\n",
       "    <tr>\n",
       "      <th>2</th>\n",
       "      <td>drcwYXoWCTYiEYZh9WqOf</td>\n",
       "      <td>2021-03-21 10:50:00.074000+00:00</td>\n",
       "      <td>31.247675</td>\n",
       "      <td>29.976166</td>\n",
       "      <td>31.263750</td>\n",
       "      <td>29.963951</td>\n",
       "      <td>26-35</td>\n",
       "      <td>male</td>\n",
       "      <td>6001-8000</td>\n",
       "      <td>5.0</td>\n",
       "      <td>...</td>\n",
       "      <td>NaN</td>\n",
       "      <td>NaN</td>\n",
       "      <td>NaN</td>\n",
       "      <td>NaN</td>\n",
       "      <td>NaN</td>\n",
       "      <td>0.0</td>\n",
       "      <td>0.0</td>\n",
       "      <td>0.0</td>\n",
       "      <td>2.059247</td>\n",
       "      <td>6</td>\n",
       "    </tr>\n",
       "  </tbody>\n",
       "</table>\n",
       "<p>3 rows × 106 columns</p>\n",
       "</div>"
      ],
      "text/plain": [
       "                      id                     submitted_at   origin_x  \\\n",
       "0  V-v3RrflsABmNaq1qtzeQ 2021-03-21 10:33:09.943000+00:00  31.333333   \n",
       "1  hV6fpFrwiAUUMxXnYLxVo 2021-03-21 10:35:26.012000+00:00  31.213243   \n",
       "2  drcwYXoWCTYiEYZh9WqOf 2021-03-21 10:50:00.074000+00:00  31.247675   \n",
       "\n",
       "    origin_y  destination_x  destination_y    age gender     income  \\\n",
       "0  29.850000      31.256141      29.963136  26-35   male  no_answer   \n",
       "1  30.014782      31.273581      29.946330  36-45   male  4001-6000   \n",
       "2  29.976166      31.263750      29.963951  26-35   male  6001-8000   \n",
       "\n",
       "   trip_cost  ... rate_trip_not_safe rate_trip_transfers  \\\n",
       "0        5.0  ...                NaN                 NaN   \n",
       "1       12.0  ...                NaN                 NaN   \n",
       "2        5.0  ...                NaN                 NaN   \n",
       "\n",
       "  rate_vehicle_not_safe rate_trip_waiting_time rate_trip_available_time  \\\n",
       "0                   NaN                    NaN                      NaN   \n",
       "1                   NaN                    NaN                      NaN   \n",
       "2                   NaN                    NaN                      NaN   \n",
       "\n",
       "  flag_cost flag_trip_duration  flag_wait_walk_time   distance  day_of_week  \n",
       "0       0.0                0.0                  0.0  14.589661            6  \n",
       "1       0.0                0.0                  0.0   9.564749            6  \n",
       "2       0.0                0.0                  0.0   2.059247            6  \n",
       "\n",
       "[3 rows x 106 columns]"
      ]
     },
     "execution_count": 15,
     "metadata": {},
     "output_type": "execute_result"
    }
   ],
   "source": [
    "ti_week.head(3)"
   ]
  },
  {
   "cell_type": "code",
   "execution_count": 16,
   "id": "298ae178",
   "metadata": {},
   "outputs": [
    {
     "data": {
      "text/html": [
       "<div>\n",
       "<style scoped>\n",
       "    .dataframe tbody tr th:only-of-type {\n",
       "        vertical-align: middle;\n",
       "    }\n",
       "\n",
       "    .dataframe tbody tr th {\n",
       "        vertical-align: top;\n",
       "    }\n",
       "\n",
       "    .dataframe thead th {\n",
       "        text-align: right;\n",
       "    }\n",
       "</style>\n",
       "<table border=\"1\" class=\"dataframe\">\n",
       "  <thead>\n",
       "    <tr style=\"text-align: right;\">\n",
       "      <th></th>\n",
       "      <th>id</th>\n",
       "      <th>submitted_at</th>\n",
       "      <th>origin_x</th>\n",
       "      <th>origin_y</th>\n",
       "      <th>destination_x</th>\n",
       "      <th>destination_y</th>\n",
       "      <th>age</th>\n",
       "      <th>gender</th>\n",
       "      <th>income</th>\n",
       "      <th>trip_cost</th>\n",
       "      <th>...</th>\n",
       "      <th>rate_trip_not_safe</th>\n",
       "      <th>rate_trip_transfers</th>\n",
       "      <th>rate_vehicle_not_safe</th>\n",
       "      <th>rate_trip_waiting_time</th>\n",
       "      <th>rate_trip_available_time</th>\n",
       "      <th>flag_cost</th>\n",
       "      <th>flag_trip_duration</th>\n",
       "      <th>flag_wait_walk_time</th>\n",
       "      <th>distance</th>\n",
       "      <th>day_of_week</th>\n",
       "    </tr>\n",
       "  </thead>\n",
       "  <tbody>\n",
       "    <tr>\n",
       "      <th>6</th>\n",
       "      <td>Ju6puL5UPvZbMEx0F_3mX</td>\n",
       "      <td>2021-03-22 09:52:45.052000+00:00</td>\n",
       "      <td>31.342205</td>\n",
       "      <td>30.052118</td>\n",
       "      <td>31.204258</td>\n",
       "      <td>30.010035</td>\n",
       "      <td>18-25</td>\n",
       "      <td>female</td>\n",
       "      <td>no_answer</td>\n",
       "      <td>5.0</td>\n",
       "      <td>...</td>\n",
       "      <td>NaN</td>\n",
       "      <td>NaN</td>\n",
       "      <td>NaN</td>\n",
       "      <td>NaN</td>\n",
       "      <td>NaN</td>\n",
       "      <td>0.0</td>\n",
       "      <td>0.0</td>\n",
       "      <td>0.0</td>\n",
       "      <td>14.099867</td>\n",
       "      <td>0</td>\n",
       "    </tr>\n",
       "    <tr>\n",
       "      <th>10</th>\n",
       "      <td>VU_EEwc3-0C-bQJ_YfNt6</td>\n",
       "      <td>2021-03-22 09:51:21.993000+00:00</td>\n",
       "      <td>31.221680</td>\n",
       "      <td>30.075123</td>\n",
       "      <td>31.249974</td>\n",
       "      <td>30.050991</td>\n",
       "      <td>56-65</td>\n",
       "      <td>male</td>\n",
       "      <td>2001-4000</td>\n",
       "      <td>7.5</td>\n",
       "      <td>...</td>\n",
       "      <td>NaN</td>\n",
       "      <td>NaN</td>\n",
       "      <td>NaN</td>\n",
       "      <td>NaN</td>\n",
       "      <td>NaN</td>\n",
       "      <td>0.0</td>\n",
       "      <td>0.0</td>\n",
       "      <td>0.0</td>\n",
       "      <td>3.820922</td>\n",
       "      <td>0</td>\n",
       "    </tr>\n",
       "    <tr>\n",
       "      <th>16</th>\n",
       "      <td>QUSsLdiNLh0BFlmSQt4mi</td>\n",
       "      <td>2021-03-22 06:51:28.190000+00:00</td>\n",
       "      <td>31.101015</td>\n",
       "      <td>29.081941</td>\n",
       "      <td>31.268411</td>\n",
       "      <td>29.987550</td>\n",
       "      <td>46-55</td>\n",
       "      <td>female</td>\n",
       "      <td>no_answer</td>\n",
       "      <td>20.0</td>\n",
       "      <td>...</td>\n",
       "      <td>NaN</td>\n",
       "      <td>NaN</td>\n",
       "      <td>NaN</td>\n",
       "      <td>NaN</td>\n",
       "      <td>NaN</td>\n",
       "      <td>0.0</td>\n",
       "      <td>0.0</td>\n",
       "      <td>0.0</td>\n",
       "      <td>101.684777</td>\n",
       "      <td>0</td>\n",
       "    </tr>\n",
       "  </tbody>\n",
       "</table>\n",
       "<p>3 rows × 106 columns</p>\n",
       "</div>"
      ],
      "text/plain": [
       "                       id                     submitted_at   origin_x  \\\n",
       "6   Ju6puL5UPvZbMEx0F_3mX 2021-03-22 09:52:45.052000+00:00  31.342205   \n",
       "10  VU_EEwc3-0C-bQJ_YfNt6 2021-03-22 09:51:21.993000+00:00  31.221680   \n",
       "16  QUSsLdiNLh0BFlmSQt4mi 2021-03-22 06:51:28.190000+00:00  31.101015   \n",
       "\n",
       "     origin_y  destination_x  destination_y    age  gender     income  \\\n",
       "6   30.052118      31.204258      30.010035  18-25  female  no_answer   \n",
       "10  30.075123      31.249974      30.050991  56-65    male  2001-4000   \n",
       "16  29.081941      31.268411      29.987550  46-55  female  no_answer   \n",
       "\n",
       "    trip_cost  ... rate_trip_not_safe rate_trip_transfers  \\\n",
       "6         5.0  ...                NaN                 NaN   \n",
       "10        7.5  ...                NaN                 NaN   \n",
       "16       20.0  ...                NaN                 NaN   \n",
       "\n",
       "   rate_vehicle_not_safe rate_trip_waiting_time rate_trip_available_time  \\\n",
       "6                    NaN                    NaN                      NaN   \n",
       "10                   NaN                    NaN                      NaN   \n",
       "16                   NaN                    NaN                      NaN   \n",
       "\n",
       "   flag_cost flag_trip_duration  flag_wait_walk_time    distance  day_of_week  \n",
       "6        0.0                0.0                  0.0   14.099867            0  \n",
       "10       0.0                0.0                  0.0    3.820922            0  \n",
       "16       0.0                0.0                  0.0  101.684777            0  \n",
       "\n",
       "[3 rows x 106 columns]"
      ]
     },
     "execution_count": 16,
     "metadata": {},
     "output_type": "execute_result"
    }
   ],
   "source": [
    "ti_week_prev.head(3)"
   ]
  },
  {
   "cell_type": "code",
   "execution_count": 17,
   "id": "e3f634ee",
   "metadata": {},
   "outputs": [
    {
     "data": {
      "text/plain": [
       "9739"
      ]
     },
     "execution_count": 17,
     "metadata": {},
     "output_type": "execute_result"
    }
   ],
   "source": [
    "# Number of weekday entries for origin-destination\n",
    "len(od_week)"
   ]
  },
  {
   "cell_type": "code",
   "execution_count": 18,
   "id": "6455067a",
   "metadata": {},
   "outputs": [
    {
     "data": {
      "text/plain": [
       "2146"
      ]
     },
     "execution_count": 18,
     "metadata": {},
     "output_type": "execute_result"
    }
   ],
   "source": [
    "# Number of weekday entries for traveller interviews\n",
    "len(ti_week)"
   ]
  },
  {
   "cell_type": "code",
   "execution_count": 19,
   "id": "53e017b1",
   "metadata": {},
   "outputs": [
    {
     "data": {
      "text/plain": [
       "1665"
      ]
     },
     "execution_count": 19,
     "metadata": {},
     "output_type": "execute_result"
    }
   ],
   "source": [
    "# Number of entries for traveller interviews where previous days are weekdays\n",
    "len(ti_week_prev)"
   ]
  },
  {
   "cell_type": "code",
   "execution_count": null,
   "id": "f9445bfc",
   "metadata": {},
   "outputs": [],
   "source": [
    "# Meaning of days\n",
    "# 0 = Monday\n",
    "# 1 = Tuesday\n",
    "# 2 = Wednesday\n",
    "# 3 = Thursday\n",
    "# 4 = Friday\n",
    "# 5 = Saturday\n",
    "# 6 = Sunday"
   ]
  },
  {
   "cell_type": "code",
   "execution_count": 20,
   "id": "6cc3694c",
   "metadata": {},
   "outputs": [
    {
     "data": {
      "text/plain": [
       "2    2467\n",
       "0    2390\n",
       "1    1937\n",
       "3    1593\n",
       "6    1352\n",
       "Name: day_of_week, dtype: int64"
      ]
     },
     "execution_count": 20,
     "metadata": {},
     "output_type": "execute_result"
    }
   ],
   "source": [
    "od_week['day_of_week'].value_counts()"
   ]
  },
  {
   "cell_type": "markdown",
   "id": "2cb78619",
   "metadata": {},
   "source": [
    "## Create traveller profiles based on each number of trips on previous day"
   ]
  },
  {
   "cell_type": "code",
   "execution_count": 21,
   "id": "4f3f9d78",
   "metadata": {},
   "outputs": [],
   "source": [
    "# Filter all values with values of over 6 trips on previous day\n",
    "ti_week_prev = ti_week_prev[ti_week_prev['trips_count'].isin(['0', '1', '2', '3', '4', '5', '6'])]"
   ]
  },
  {
   "cell_type": "code",
   "execution_count": 22,
   "id": "6ab90d20",
   "metadata": {},
   "outputs": [
    {
     "data": {
      "text/plain": [
       "2    754\n",
       "0    237\n",
       "4    226\n",
       "3    182\n",
       "1    171\n",
       "5     39\n",
       "6     26\n",
       "Name: trips_count, dtype: int64"
      ]
     },
     "execution_count": 22,
     "metadata": {},
     "output_type": "execute_result"
    }
   ],
   "source": [
    "ti_week_prev['trips_count'].value_counts()"
   ]
  },
  {
   "cell_type": "code",
   "execution_count": 23,
   "id": "fb2768cd",
   "metadata": {},
   "outputs": [],
   "source": [
    "# Filter nA values and keep 0 or 1 for vehicles\n",
    "condition = ti_week_prev['vehicle_owned'].isin(['1', '2', '3', '4'])\n",
    "new_values = np.where(condition, 1, ti_week_prev['vehicle_owned'])\n",
    "ti_week_prev['vehicle_owned'] = new_values\n",
    "ti_week_prev = ti_week_prev[ti_week_prev['vehicle_owned'].isin(['0',1])]\n",
    "ti_week_prev['vehicle_owned'] = ti_week_prev['vehicle_owned'].astype(int)"
   ]
  },
  {
   "cell_type": "code",
   "execution_count": 24,
   "id": "4ca4609c",
   "metadata": {},
   "outputs": [
    {
     "data": {
      "text/plain": [
       "0    1089\n",
       "1     543\n",
       "Name: vehicle_owned, dtype: int64"
      ]
     },
     "execution_count": 24,
     "metadata": {},
     "output_type": "execute_result"
    }
   ],
   "source": [
    "ti_week_prev['vehicle_owned'].value_counts()"
   ]
  },
  {
   "cell_type": "code",
   "execution_count": 25,
   "id": "fac05f04",
   "metadata": {},
   "outputs": [
    {
     "data": {
      "text/plain": [
       "26-35    517\n",
       "36-45    476\n",
       "18-25    279\n",
       "46-55    247\n",
       "56-65     77\n",
       ">18       24\n",
       "66-75     11\n",
       "<75        1\n",
       "Name: age, dtype: int64"
      ]
     },
     "execution_count": 25,
     "metadata": {},
     "output_type": "execute_result"
    }
   ],
   "source": [
    "ti_week_prev['age'].value_counts()"
   ]
  },
  {
   "cell_type": "code",
   "execution_count": 26,
   "id": "e9ab3b0f",
   "metadata": {},
   "outputs": [
    {
     "data": {
      "text/plain": [
       "6       female\n",
       "10        male\n",
       "16      female\n",
       "17      female\n",
       "18        male\n",
       "         ...  \n",
       "2141    female\n",
       "2142      male\n",
       "2143      male\n",
       "2144      male\n",
       "2145      male\n",
       "Name: gender, Length: 1632, dtype: object"
      ]
     },
     "execution_count": 26,
     "metadata": {},
     "output_type": "execute_result"
    }
   ],
   "source": [
    "ti_week_prev['gender']"
   ]
  },
  {
   "cell_type": "code",
   "execution_count": 27,
   "id": "a2bc531d",
   "metadata": {},
   "outputs": [],
   "source": [
    "# filter distances over 100 km to exclude trips outside of Cairo\n",
    "ti_week_prev = ti_week_prev[ti_week_prev['distance'] <= 100]"
   ]
  },
  {
   "cell_type": "code",
   "execution_count": 28,
   "id": "698c390f",
   "metadata": {},
   "outputs": [],
   "source": [
    "base_profiles = ti_week_prev[['age','gender','vehicle_owned','trips_count']]"
   ]
  },
  {
   "cell_type": "code",
   "execution_count": 29,
   "id": "ddac5cf6",
   "metadata": {},
   "outputs": [
    {
     "data": {
      "text/html": [
       "<div>\n",
       "<style scoped>\n",
       "    .dataframe tbody tr th:only-of-type {\n",
       "        vertical-align: middle;\n",
       "    }\n",
       "\n",
       "    .dataframe tbody tr th {\n",
       "        vertical-align: top;\n",
       "    }\n",
       "\n",
       "    .dataframe thead th {\n",
       "        text-align: right;\n",
       "    }\n",
       "</style>\n",
       "<table border=\"1\" class=\"dataframe\">\n",
       "  <thead>\n",
       "    <tr style=\"text-align: right;\">\n",
       "      <th></th>\n",
       "      <th>profile_id</th>\n",
       "      <th>age</th>\n",
       "      <th>gender</th>\n",
       "      <th>vehicle_owned</th>\n",
       "      <th>trips_count</th>\n",
       "    </tr>\n",
       "  </thead>\n",
       "  <tbody>\n",
       "    <tr>\n",
       "      <th>6</th>\n",
       "      <td>0</td>\n",
       "      <td>18-25</td>\n",
       "      <td>female</td>\n",
       "      <td>0</td>\n",
       "      <td>0</td>\n",
       "    </tr>\n",
       "    <tr>\n",
       "      <th>10</th>\n",
       "      <td>1</td>\n",
       "      <td>56-65</td>\n",
       "      <td>male</td>\n",
       "      <td>0</td>\n",
       "      <td>2</td>\n",
       "    </tr>\n",
       "    <tr>\n",
       "      <th>17</th>\n",
       "      <td>2</td>\n",
       "      <td>18-25</td>\n",
       "      <td>female</td>\n",
       "      <td>0</td>\n",
       "      <td>3</td>\n",
       "    </tr>\n",
       "  </tbody>\n",
       "</table>\n",
       "</div>"
      ],
      "text/plain": [
       "    profile_id    age  gender  vehicle_owned trips_count\n",
       "6            0  18-25  female              0           0\n",
       "10           1  56-65    male              0           2\n",
       "17           2  18-25  female              0           3"
      ]
     },
     "execution_count": 29,
     "metadata": {},
     "output_type": "execute_result"
    }
   ],
   "source": [
    "base_profiles.insert(0, 'profile_id', range(0, len(base_profiles)))\n",
    "base_profiles.head(3)"
   ]
  },
  {
   "cell_type": "markdown",
   "id": "5c9496ba",
   "metadata": {},
   "source": [
    "## Merge all trip database"
   ]
  },
  {
   "cell_type": "code",
   "execution_count": 30,
   "id": "091d90e9",
   "metadata": {},
   "outputs": [],
   "source": [
    "ti_week = ti_week[['age','gender','distance','trip_purpose']]"
   ]
  },
  {
   "cell_type": "code",
   "execution_count": 31,
   "id": "54495394",
   "metadata": {},
   "outputs": [],
   "source": [
    "od_week = od_week[['age','gender','distance','trip_purpose']]"
   ]
  },
  {
   "cell_type": "code",
   "execution_count": 32,
   "id": "b559bdda",
   "metadata": {},
   "outputs": [
    {
     "data": {
      "text/html": [
       "<div>\n",
       "<style scoped>\n",
       "    .dataframe tbody tr th:only-of-type {\n",
       "        vertical-align: middle;\n",
       "    }\n",
       "\n",
       "    .dataframe tbody tr th {\n",
       "        vertical-align: top;\n",
       "    }\n",
       "\n",
       "    .dataframe thead th {\n",
       "        text-align: right;\n",
       "    }\n",
       "</style>\n",
       "<table border=\"1\" class=\"dataframe\">\n",
       "  <thead>\n",
       "    <tr style=\"text-align: right;\">\n",
       "      <th></th>\n",
       "      <th>age</th>\n",
       "      <th>gender</th>\n",
       "      <th>distance</th>\n",
       "      <th>trip_purpose</th>\n",
       "    </tr>\n",
       "  </thead>\n",
       "  <tbody>\n",
       "    <tr>\n",
       "      <th>0</th>\n",
       "      <td>26-35</td>\n",
       "      <td>male</td>\n",
       "      <td>14.589661</td>\n",
       "      <td>personal</td>\n",
       "    </tr>\n",
       "  </tbody>\n",
       "</table>\n",
       "</div>"
      ],
      "text/plain": [
       "     age gender   distance trip_purpose\n",
       "0  26-35   male  14.589661     personal"
      ]
     },
     "execution_count": 32,
     "metadata": {},
     "output_type": "execute_result"
    }
   ],
   "source": [
    "ti_week.head(1)"
   ]
  },
  {
   "cell_type": "code",
   "execution_count": 33,
   "id": "36f031ba",
   "metadata": {},
   "outputs": [
    {
     "data": {
      "text/html": [
       "<div>\n",
       "<style scoped>\n",
       "    .dataframe tbody tr th:only-of-type {\n",
       "        vertical-align: middle;\n",
       "    }\n",
       "\n",
       "    .dataframe tbody tr th {\n",
       "        vertical-align: top;\n",
       "    }\n",
       "\n",
       "    .dataframe thead th {\n",
       "        text-align: right;\n",
       "    }\n",
       "</style>\n",
       "<table border=\"1\" class=\"dataframe\">\n",
       "  <thead>\n",
       "    <tr style=\"text-align: right;\">\n",
       "      <th></th>\n",
       "      <th>age</th>\n",
       "      <th>gender</th>\n",
       "      <th>distance</th>\n",
       "      <th>trip_purpose</th>\n",
       "    </tr>\n",
       "  </thead>\n",
       "  <tbody>\n",
       "    <tr>\n",
       "      <th>0</th>\n",
       "      <td>26-35</td>\n",
       "      <td>female</td>\n",
       "      <td>7.727921</td>\n",
       "      <td>work</td>\n",
       "    </tr>\n",
       "  </tbody>\n",
       "</table>\n",
       "</div>"
      ],
      "text/plain": [
       "     age  gender  distance trip_purpose\n",
       "0  26-35  female  7.727921         work"
      ]
     },
     "execution_count": 33,
     "metadata": {},
     "output_type": "execute_result"
    }
   ],
   "source": [
    "od_week.head(1)"
   ]
  },
  {
   "cell_type": "code",
   "execution_count": 34,
   "id": "62475f85",
   "metadata": {},
   "outputs": [],
   "source": [
    "trips = pd.concat([od_week, ti_week])"
   ]
  },
  {
   "cell_type": "code",
   "execution_count": 35,
   "id": "9f476463",
   "metadata": {},
   "outputs": [],
   "source": [
    "trips.insert(0, 'id', range(0, len(trips)))"
   ]
  },
  {
   "cell_type": "code",
   "execution_count": 36,
   "id": "979e633c",
   "metadata": {},
   "outputs": [
    {
     "data": {
      "text/html": [
       "<div>\n",
       "<style scoped>\n",
       "    .dataframe tbody tr th:only-of-type {\n",
       "        vertical-align: middle;\n",
       "    }\n",
       "\n",
       "    .dataframe tbody tr th {\n",
       "        vertical-align: top;\n",
       "    }\n",
       "\n",
       "    .dataframe thead th {\n",
       "        text-align: right;\n",
       "    }\n",
       "</style>\n",
       "<table border=\"1\" class=\"dataframe\">\n",
       "  <thead>\n",
       "    <tr style=\"text-align: right;\">\n",
       "      <th></th>\n",
       "      <th>id</th>\n",
       "      <th>age</th>\n",
       "      <th>gender</th>\n",
       "      <th>distance</th>\n",
       "      <th>trip_purpose</th>\n",
       "    </tr>\n",
       "  </thead>\n",
       "  <tbody>\n",
       "    <tr>\n",
       "      <th>0</th>\n",
       "      <td>0</td>\n",
       "      <td>26-35</td>\n",
       "      <td>female</td>\n",
       "      <td>7.727921</td>\n",
       "      <td>work</td>\n",
       "    </tr>\n",
       "    <tr>\n",
       "      <th>1</th>\n",
       "      <td>1</td>\n",
       "      <td>36-45</td>\n",
       "      <td>male</td>\n",
       "      <td>6.529161</td>\n",
       "      <td>work</td>\n",
       "    </tr>\n",
       "    <tr>\n",
       "      <th>2</th>\n",
       "      <td>2</td>\n",
       "      <td>18-25</td>\n",
       "      <td>female</td>\n",
       "      <td>9.302396</td>\n",
       "      <td>personal</td>\n",
       "    </tr>\n",
       "  </tbody>\n",
       "</table>\n",
       "</div>"
      ],
      "text/plain": [
       "   id    age  gender  distance trip_purpose\n",
       "0   0  26-35  female  7.727921         work\n",
       "1   1  36-45    male  6.529161         work\n",
       "2   2  18-25  female  9.302396     personal"
      ]
     },
     "execution_count": 36,
     "metadata": {},
     "output_type": "execute_result"
    }
   ],
   "source": [
    "trips.head(3)"
   ]
  },
  {
   "cell_type": "markdown",
   "id": "c1af776c",
   "metadata": {},
   "source": [
    "## Randomnly choose trips and assign to profiles"
   ]
  },
  {
   "cell_type": "code",
   "execution_count": 37,
   "id": "bbb986ba",
   "metadata": {},
   "outputs": [
    {
     "data": {
      "text/plain": [
       "2    741\n",
       "0    227\n",
       "4    225\n",
       "3    181\n",
       "1    168\n",
       "5     37\n",
       "6     26\n",
       "Name: trips_count, dtype: int64"
      ]
     },
     "execution_count": 37,
     "metadata": {},
     "output_type": "execute_result"
    }
   ],
   "source": [
    "base_profiles['trips_count'].value_counts()"
   ]
  },
  {
   "cell_type": "markdown",
   "id": "bc0fe27d",
   "metadata": {},
   "source": [
    "### Minimum percentage of people staying at home"
   ]
  },
  {
   "cell_type": "code",
   "execution_count": 38,
   "id": "06b0ea5f",
   "metadata": {},
   "outputs": [
    {
     "data": {
      "text/plain": [
       "0.14143302180685358"
      ]
     },
     "execution_count": 38,
     "metadata": {},
     "output_type": "execute_result"
    }
   ],
   "source": [
    "len(base_profiles[base_profiles['trips_count'] == '0']) / len(base_profiles)"
   ]
  },
  {
   "cell_type": "code",
   "execution_count": 39,
   "id": "cdd7c9d7",
   "metadata": {},
   "outputs": [
    {
     "data": {
      "text/html": [
       "<div>\n",
       "<style scoped>\n",
       "    .dataframe tbody tr th:only-of-type {\n",
       "        vertical-align: middle;\n",
       "    }\n",
       "\n",
       "    .dataframe tbody tr th {\n",
       "        vertical-align: top;\n",
       "    }\n",
       "\n",
       "    .dataframe thead th {\n",
       "        text-align: right;\n",
       "    }\n",
       "</style>\n",
       "<table border=\"1\" class=\"dataframe\">\n",
       "  <thead>\n",
       "    <tr style=\"text-align: right;\">\n",
       "      <th></th>\n",
       "      <th>profile_id</th>\n",
       "      <th>age</th>\n",
       "      <th>gender</th>\n",
       "      <th>vehicle_owned</th>\n",
       "      <th>trips_count</th>\n",
       "    </tr>\n",
       "  </thead>\n",
       "  <tbody>\n",
       "    <tr>\n",
       "      <th>6</th>\n",
       "      <td>0</td>\n",
       "      <td>18-25</td>\n",
       "      <td>female</td>\n",
       "      <td>0</td>\n",
       "      <td>0</td>\n",
       "    </tr>\n",
       "    <tr>\n",
       "      <th>10</th>\n",
       "      <td>1</td>\n",
       "      <td>56-65</td>\n",
       "      <td>male</td>\n",
       "      <td>0</td>\n",
       "      <td>2</td>\n",
       "    </tr>\n",
       "    <tr>\n",
       "      <th>17</th>\n",
       "      <td>2</td>\n",
       "      <td>18-25</td>\n",
       "      <td>female</td>\n",
       "      <td>0</td>\n",
       "      <td>3</td>\n",
       "    </tr>\n",
       "    <tr>\n",
       "      <th>18</th>\n",
       "      <td>3</td>\n",
       "      <td>26-35</td>\n",
       "      <td>male</td>\n",
       "      <td>0</td>\n",
       "      <td>2</td>\n",
       "    </tr>\n",
       "    <tr>\n",
       "      <th>19</th>\n",
       "      <td>4</td>\n",
       "      <td>36-45</td>\n",
       "      <td>male</td>\n",
       "      <td>0</td>\n",
       "      <td>2</td>\n",
       "    </tr>\n",
       "  </tbody>\n",
       "</table>\n",
       "</div>"
      ],
      "text/plain": [
       "    profile_id    age  gender  vehicle_owned trips_count\n",
       "6            0  18-25  female              0           0\n",
       "10           1  56-65    male              0           2\n",
       "17           2  18-25  female              0           3\n",
       "18           3  26-35    male              0           2\n",
       "19           4  36-45    male              0           2"
      ]
     },
     "execution_count": 39,
     "metadata": {},
     "output_type": "execute_result"
    }
   ],
   "source": [
    "base_profiles.head()"
   ]
  },
  {
   "cell_type": "code",
   "execution_count": 108,
   "id": "3a331c18",
   "metadata": {},
   "outputs": [
    {
     "name": "stderr",
     "output_type": "stream",
     "text": [
      "/var/folders/93/smcvnv_s04v84f_dnqvd4xkw0000gn/T/ipykernel_3497/1473799396.py:1: SettingWithCopyWarning: \n",
      "A value is trying to be set on a copy of a slice from a DataFrame.\n",
      "Try using .loc[row_indexer,col_indexer] = value instead\n",
      "\n",
      "See the caveats in the documentation: https://pandas.pydata.org/pandas-docs/stable/user_guide/indexing.html#returning-a-view-versus-a-copy\n",
      "  base_profiles['trips_count'] = base_profiles['trips_count'].astype(int)\n",
      "/var/folders/93/smcvnv_s04v84f_dnqvd4xkw0000gn/T/ipykernel_3497/1473799396.py:2: SettingWithCopyWarning: \n",
      "A value is trying to be set on a copy of a slice from a DataFrame.\n",
      "Try using .loc[row_indexer,col_indexer] = value instead\n",
      "\n",
      "See the caveats in the documentation: https://pandas.pydata.org/pandas-docs/stable/user_guide/indexing.html#returning-a-view-versus-a-copy\n",
      "  base_profiles['activities'] = 0  # Initialize 'activities' column with default value\n"
     ]
    }
   ],
   "source": [
    "base_profiles['trips_count'] = base_profiles['trips_count'].astype(int)\n",
    "base_profiles['activities'] = 0  # Initialize 'activities' column with default value\n",
    "\n",
    "# Set values based on 'trip_count'\n",
    "base_profiles.loc[base_profiles['trips_count'] == 0, 'activities'] = 0\n",
    "base_profiles.loc[base_profiles['trips_count'] == 1, 'activities'] = 1\n",
    "base_profiles.loc[base_profiles['trips_count'] > 1, 'activities'] = base_profiles['trips_count'] - 1"
   ]
  },
  {
   "cell_type": "code",
   "execution_count": 143,
   "id": "58d7575d",
   "metadata": {},
   "outputs": [],
   "source": [
    "base_profiles.to_csv('data/interim/activitychains/base_profiles.csv')"
   ]
  },
  {
   "cell_type": "code",
   "execution_count": 120,
   "id": "cffedeb6",
   "metadata": {},
   "outputs": [],
   "source": [
    "scaled_base_profiles = base_profiles.loc[base_profiles.index.repeat(base_profiles['activities'])]\n",
    "# Create the 'activity_id' column\n",
    "scaled_base_profiles['act_id'] = scaled_base_profiles.groupby(scaled_base_profiles.index).cumcount() + 1\n",
    "# Reset the index of the scaled DataFrame\n",
    "scaled_base_profiles = scaled_base_profiles.reset_index(drop=True)\n",
    "scaled_base_profiles['act_id'] = scaled_base_profiles['profile_id'].astype(str) + '.' + scaled_base_profiles['act_id'].astype(str)"
   ]
  },
  {
   "cell_type": "code",
   "execution_count": 122,
   "id": "a8aff5e6",
   "metadata": {},
   "outputs": [
    {
     "data": {
      "text/html": [
       "<div>\n",
       "<style scoped>\n",
       "    .dataframe tbody tr th:only-of-type {\n",
       "        vertical-align: middle;\n",
       "    }\n",
       "\n",
       "    .dataframe tbody tr th {\n",
       "        vertical-align: top;\n",
       "    }\n",
       "\n",
       "    .dataframe thead th {\n",
       "        text-align: right;\n",
       "    }\n",
       "</style>\n",
       "<table border=\"1\" class=\"dataframe\">\n",
       "  <thead>\n",
       "    <tr style=\"text-align: right;\">\n",
       "      <th></th>\n",
       "      <th>profile_id</th>\n",
       "      <th>age</th>\n",
       "      <th>gender</th>\n",
       "      <th>vehicle_owned</th>\n",
       "      <th>trips_count</th>\n",
       "      <th>activities</th>\n",
       "      <th>act_id</th>\n",
       "    </tr>\n",
       "  </thead>\n",
       "  <tbody>\n",
       "    <tr>\n",
       "      <th>0</th>\n",
       "      <td>1</td>\n",
       "      <td>56-65</td>\n",
       "      <td>male</td>\n",
       "      <td>0</td>\n",
       "      <td>2</td>\n",
       "      <td>1</td>\n",
       "      <td>1.1</td>\n",
       "    </tr>\n",
       "    <tr>\n",
       "      <th>1</th>\n",
       "      <td>2</td>\n",
       "      <td>18-25</td>\n",
       "      <td>female</td>\n",
       "      <td>0</td>\n",
       "      <td>3</td>\n",
       "      <td>2</td>\n",
       "      <td>2.1</td>\n",
       "    </tr>\n",
       "    <tr>\n",
       "      <th>2</th>\n",
       "      <td>2</td>\n",
       "      <td>18-25</td>\n",
       "      <td>female</td>\n",
       "      <td>0</td>\n",
       "      <td>3</td>\n",
       "      <td>2</td>\n",
       "      <td>2.2</td>\n",
       "    </tr>\n",
       "  </tbody>\n",
       "</table>\n",
       "</div>"
      ],
      "text/plain": [
       "   profile_id    age  gender  vehicle_owned  trips_count  activities act_id\n",
       "0           1  56-65    male              0            2           1    1.1\n",
       "1           2  18-25  female              0            3           2    2.1\n",
       "2           2  18-25  female              0            3           2    2.2"
      ]
     },
     "execution_count": 122,
     "metadata": {},
     "output_type": "execute_result"
    }
   ],
   "source": [
    "scaled_base_profiles.head(3)"
   ]
  },
  {
   "cell_type": "code",
   "execution_count": 42,
   "id": "1947dd21",
   "metadata": {},
   "outputs": [
    {
     "data": {
      "text/html": [
       "<div>\n",
       "<style scoped>\n",
       "    .dataframe tbody tr th:only-of-type {\n",
       "        vertical-align: middle;\n",
       "    }\n",
       "\n",
       "    .dataframe tbody tr th {\n",
       "        vertical-align: top;\n",
       "    }\n",
       "\n",
       "    .dataframe thead th {\n",
       "        text-align: right;\n",
       "    }\n",
       "</style>\n",
       "<table border=\"1\" class=\"dataframe\">\n",
       "  <thead>\n",
       "    <tr style=\"text-align: right;\">\n",
       "      <th></th>\n",
       "      <th>id</th>\n",
       "      <th>age</th>\n",
       "      <th>gender</th>\n",
       "      <th>distance</th>\n",
       "      <th>trip_purpose</th>\n",
       "    </tr>\n",
       "  </thead>\n",
       "  <tbody>\n",
       "    <tr>\n",
       "      <th>0</th>\n",
       "      <td>0</td>\n",
       "      <td>26-35</td>\n",
       "      <td>female</td>\n",
       "      <td>7.727921</td>\n",
       "      <td>work</td>\n",
       "    </tr>\n",
       "    <tr>\n",
       "      <th>1</th>\n",
       "      <td>1</td>\n",
       "      <td>36-45</td>\n",
       "      <td>male</td>\n",
       "      <td>6.529161</td>\n",
       "      <td>work</td>\n",
       "    </tr>\n",
       "    <tr>\n",
       "      <th>2</th>\n",
       "      <td>2</td>\n",
       "      <td>18-25</td>\n",
       "      <td>female</td>\n",
       "      <td>9.302396</td>\n",
       "      <td>personal</td>\n",
       "    </tr>\n",
       "  </tbody>\n",
       "</table>\n",
       "</div>"
      ],
      "text/plain": [
       "   id    age  gender  distance trip_purpose\n",
       "0   0  26-35  female  7.727921         work\n",
       "1   1  36-45    male  6.529161         work\n",
       "2   2  18-25  female  9.302396     personal"
      ]
     },
     "execution_count": 42,
     "metadata": {},
     "output_type": "execute_result"
    }
   ],
   "source": [
    "trips.head(3)"
   ]
  },
  {
   "cell_type": "code",
   "execution_count": 144,
   "id": "8f1dbca4",
   "metadata": {},
   "outputs": [
    {
     "data": {
      "text/plain": [
       "work        4111\n",
       "home        3361\n",
       "personal    3313\n",
       "edu          660\n",
       "shopping     440\n",
       "Name: trip_purpose, dtype: int64"
      ]
     },
     "execution_count": 144,
     "metadata": {},
     "output_type": "execute_result"
    }
   ],
   "source": [
    "trips['trip_purpose'].value_counts()"
   ]
  },
  {
   "cell_type": "code",
   "execution_count": 43,
   "id": "b41cbab6",
   "metadata": {},
   "outputs": [
    {
     "data": {
      "image/png": "[encoded data removed]",
      "text/plain": [
       "<Figure size 432x288 with 1 Axes>"
      ]
     },
     "metadata": {
      "needs_background": "light"
     },
     "output_type": "display_data"
    }
   ],
   "source": [
    "# Set the parameters\n",
    "mean_minutes = 9 * 60  # 9 AM expressed in minutes from midnight\n",
    "std_minutes = 60      # Standard deviation of 60 minutes\n",
    "num_samples = 1000    # Number of random draws\n",
    "\n",
    "# Generate random draws from a normal distribution\n",
    "random_minutes = np.random.normal(mean_minutes, std_minutes, num_samples)\n",
    "\n",
    "# Ensure the generated times are within the valid range (0 to 24*60)\n",
    "random_minutes = np.clip(random_minutes, 0, 24 * 60)\n",
    "\n",
    "# Convert minutes to hours and minutes format\n",
    "random_hours = random_minutes // 60\n",
    "random_mins = random_minutes % 60\n",
    "\n",
    "# Visualize the distribution\n",
    "bin_size = 6  # Bin size of 6 minutes\n",
    "num_bins = int((24 * 60) / bin_size)\n",
    "\n",
    "plt.hist(random_minutes, bins=num_bins, color='skyblue', edgecolor='black')\n",
    "plt.xlabel('Time (minutes from midnight)')\n",
    "plt.ylabel('Frequency')\n",
    "plt.title('Random Times Distribution around 9 AM')\n",
    "plt.xticks(range(0, 24*60+1, 60), ['0:00', '1:00', '2:00', '3:00', '4:00', '5:00',\n",
    "                                  '6:00', '7:00', '8:00', '9:00', '10:00', '11:00',\n",
    "                                  '12:00', '13:00', '14:00', '15:00', '16:00', '17:00',\n",
    "                                  '18:00', '19:00', '20:00', '21:00', '22:00', '23:00', '24:00'])\n",
    "plt.xticks(rotation=45)\n",
    "plt.show()"
   ]
  },
  {
   "cell_type": "markdown",
   "id": "3ba3d02f",
   "metadata": {},
   "source": [
    "### One trip activity chains"
   ]
  },
  {
   "cell_type": "code",
   "execution_count": 44,
   "id": "f714336f",
   "metadata": {},
   "outputs": [],
   "source": [
    "one_trip = {0: [[10, 30], [11, 30]], 1: [[15, 30], [16, 30]]}"
   ]
  },
  {
   "cell_type": "code",
   "execution_count": 46,
   "id": "2d2cf48c",
   "metadata": {},
   "outputs": [],
   "source": [
    "df = one_trip\n",
    "df_fin = []\n",
    "\n",
    "for x in range(len(one_trip)):\n",
    "    df_chains = {}\n",
    "    df_chains['start_1'] = np.round(np.random.normal(df[x][0][0] * 60, df[x][0][1], 1000))\n",
    "    df_chains['end_1'] = np.round(np.random.normal(df[x][1][0] * 60, df[x][1][1], 1000))    \n",
    "    df_chains = pd.DataFrame(df_chains)\n",
    "    df_chains = df_chains[df_chains['start_1'] < df_chains['end_1']]\n",
    "    df_chains = df_chains[(df_chains['start_1'] > 0) & (df_chains['start_1'] < 1440)]\n",
    "    df_chains = df_chains[(df_chains['end_1'] > 0) & (df_chains['end_1'] < 1440)]\n",
    "    df_fin.append(df_chains)\n",
    "\n",
    "one_trip_chains = pd.concat(df_fin)"
   ]
  },
  {
   "cell_type": "code",
   "execution_count": 47,
   "id": "d5bc77af",
   "metadata": {},
   "outputs": [
    {
     "name": "stdout",
     "output_type": "stream",
     "text": [
      "   start_1  end_1\n",
      "0    655.0  684.0\n",
      "1    643.0  679.0\n",
      "2    597.0  627.0\n",
      "___________________________________\n",
      "___________________________________\n",
      "<class 'pandas.core.frame.DataFrame'>\n",
      "Int64Index: 1855 entries, 0 to 999\n",
      "Data columns (total 2 columns):\n",
      " #   Column   Non-Null Count  Dtype  \n",
      "---  ------   --------------  -----  \n",
      " 0   start_1  1855 non-null   float64\n",
      " 1   end_1    1855 non-null   float64\n",
      "dtypes: float64(2)\n",
      "memory usage: 43.5 KB\n"
     ]
    }
   ],
   "source": [
    "print(one_trip_chains.head(3))\n",
    "print(\"___________________________________\")\n",
    "print(\"___________________________________\")\n",
    "one_trip_chains.info()"
   ]
  },
  {
   "cell_type": "markdown",
   "id": "81eb8e6a",
   "metadata": {},
   "source": [
    "### Two trips activity chains"
   ]
  },
  {
   "cell_type": "code",
   "execution_count": 48,
   "id": "8236b075",
   "metadata": {},
   "outputs": [],
   "source": [
    "two_trip = {0: [[9, 60], [13, 60]], 1: [[15, 60], [19, 60]], 2: [[9, 60], [18, 60]]}"
   ]
  },
  {
   "cell_type": "code",
   "execution_count": 49,
   "id": "1286ae1e",
   "metadata": {},
   "outputs": [],
   "source": [
    "df = two_trip\n",
    "df_fin = []\n",
    "\n",
    "for x in range(len(df)):\n",
    "    df_chains = {}\n",
    "    df_chains['start_1'] = np.round(np.random.normal(df[x][0][0] * 60, df[x][0][1], 1000))\n",
    "    df_chains['end_1'] = np.round(np.random.normal(df[x][1][0] * 60, df[x][1][1], 1000))    \n",
    "    df_chains = pd.DataFrame(df_chains)\n",
    "    df_chains = df_chains[df_chains['start_1'] < df_chains['end_1']]\n",
    "    df_chains = df_chains[(df_chains['start_1'] > 0) & (df_chains['start_1'] < 1440)]\n",
    "    df_chains = df_chains[(df_chains['end_1'] > 0) & (df_chains['end_1'] < 1440)]\n",
    "    df_fin.append(df_chains)\n",
    "\n",
    "two_trip_chains = pd.concat(df_fin)"
   ]
  },
  {
   "cell_type": "code",
   "execution_count": 50,
   "id": "eb30e70d",
   "metadata": {},
   "outputs": [
    {
     "name": "stdout",
     "output_type": "stream",
     "text": [
      "   start_1  end_1\n",
      "0    578.0  725.0\n",
      "1    622.0  746.0\n",
      "2    438.0  843.0\n",
      "___________________________________\n",
      "___________________________________\n",
      "<class 'pandas.core.frame.DataFrame'>\n",
      "Int64Index: 2997 entries, 0 to 999\n",
      "Data columns (total 2 columns):\n",
      " #   Column   Non-Null Count  Dtype  \n",
      "---  ------   --------------  -----  \n",
      " 0   start_1  2997 non-null   float64\n",
      " 1   end_1    2997 non-null   float64\n",
      "dtypes: float64(2)\n",
      "memory usage: 70.2 KB\n"
     ]
    }
   ],
   "source": [
    "print(two_trip_chains.head(3))\n",
    "print(\"___________________________________\")\n",
    "print(\"___________________________________\")\n",
    "two_trip_chains.info()"
   ]
  },
  {
   "cell_type": "markdown",
   "id": "62142236",
   "metadata": {},
   "source": [
    "### Three trips activity chains"
   ]
  },
  {
   "cell_type": "code",
   "execution_count": 51,
   "id": "351a78a4",
   "metadata": {},
   "outputs": [],
   "source": [
    "three_trip = {0: [[[8, 60], [12, 60]], [[14, 60], [18, 60]]], \n",
    "              1: [[[8, 60], [15, 60]], [[17, 60], [19, 60]]],\n",
    "              2: [[[9, 60], [11, 60]], [[13, 60], [20, 60]]],\n",
    "              3: [[[8, 60], [12, 30]], [[13, 30], [15, 60]]],\n",
    "              4: [[[13, 60], [15, 60]], [[18, 60], [20, 60]]]\n",
    "            }"
   ]
  },
  {
   "cell_type": "code",
   "execution_count": 52,
   "id": "43e815a8",
   "metadata": {},
   "outputs": [],
   "source": [
    "df = three_trip\n",
    "df_fin = []\n",
    "\n",
    "for x in range(len(df)):\n",
    "    df_chains = {}\n",
    "    for y in range(len(df[0])):\n",
    "        df_chains[f'start_{y}'] = np.round(np.random.normal(df[x][y][0][0] * 60, \n",
    "                                                            df[x][y][0][1], 1000))\n",
    "        df_chains[f'end_{y}'] = np.round(np.random.normal(df[x][y][1][0] * 60, \n",
    "                                                          df[x][y][0][1], 1000))    \n",
    "        df_chains = pd.DataFrame(df_chains)\n",
    "\n",
    "    # Validate internal trip relations\n",
    "    df_chains = df_chains[df_chains[f'start_{y}'] < df_chains[f'end_{y}']]\n",
    "    df_chains = df_chains[(df_chains[f'start_{y}'] > 0) & (df_chains[f'start_{y}'] < 1440)]\n",
    "    df_chains = df_chains[(df_chains[f'end_{y}'] > 0) & (df_chains[f'end_{y}'] < 1440)]\n",
    "\n",
    "    # Validate external trip relations (end time at least 15 min before start time of next act.)\n",
    "    for y in range(len(df[0])-1):\n",
    "        df_chains = df_chains[df_chains[f'end_{y}'] < (df_chains[f'start_{y+1}']-15)]\n",
    "    \n",
    "    df_fin.append(df_chains)\n",
    "\n",
    "three_trip_chains = pd.concat(df_fin)"
   ]
  },
  {
   "cell_type": "code",
   "execution_count": 53,
   "id": "b7e9370a",
   "metadata": {},
   "outputs": [
    {
     "name": "stdout",
     "output_type": "stream",
     "text": [
      "   start_0  end_0  start_1   end_1\n",
      "1    438.0  671.0    822.0  1022.0\n",
      "2    551.0  774.0    830.0  1042.0\n",
      "3    399.0  603.0    740.0  1014.0\n",
      "___________________________________\n",
      "___________________________________\n",
      "<class 'pandas.core.frame.DataFrame'>\n",
      "Int64Index: 4244 entries, 1 to 999\n",
      "Data columns (total 4 columns):\n",
      " #   Column   Non-Null Count  Dtype  \n",
      "---  ------   --------------  -----  \n",
      " 0   start_0  4244 non-null   float64\n",
      " 1   end_0    4244 non-null   float64\n",
      " 2   start_1  4244 non-null   float64\n",
      " 3   end_1    4244 non-null   float64\n",
      "dtypes: float64(4)\n",
      "memory usage: 165.8 KB\n"
     ]
    }
   ],
   "source": [
    "print(three_trip_chains.head(3))\n",
    "print(\"___________________________________\")\n",
    "print(\"___________________________________\")\n",
    "three_trip_chains.info()"
   ]
  },
  {
   "cell_type": "markdown",
   "id": "9efbd739",
   "metadata": {},
   "source": [
    "### Four trips activity chains"
   ]
  },
  {
   "cell_type": "code",
   "execution_count": 54,
   "id": "82c12fdb",
   "metadata": {},
   "outputs": [],
   "source": [
    "four_trip = {0: [[[8, 60], [11, 30]], [[12, 30], [15, 30]], [[16, 30], [19, 60]]],\n",
    "              1: [[[9, 60], [10, 30]], [[11, 30], [12, 30]], [[13, 30], [14, 60]]],\n",
    "              2: [[[9, 60], [10, 30]], [[11, 30], [12, 30]], [[13, 30], [20, 60]]],\n",
    "              3: [[[9, 60], [10, 30]], [[11, 30], [18, 30]], [[19, 30], [21, 60]]],\n",
    "              4: [[[8, 60], [15, 30]], [[16, 30], [18, 30]], [[19, 30], [21, 60]]]\n",
    "             }"
   ]
  },
  {
   "cell_type": "code",
   "execution_count": 55,
   "id": "6ac52076",
   "metadata": {},
   "outputs": [],
   "source": [
    "df = four_trip\n",
    "df_fin = []\n",
    "\n",
    "for x in range(len(df)):\n",
    "    df_chains = {}\n",
    "    for y in range(len(df[0])):\n",
    "        df_chains[f'start_{y}'] = np.round(np.random.normal(df[x][y][0][0] * 60, \n",
    "                                                            df[x][y][0][1], 1000))\n",
    "        df_chains[f'end_{y}'] = np.round(np.random.normal(df[x][y][1][0] * 60, \n",
    "                                                          df[x][y][0][1], 1000))    \n",
    "        df_chains = pd.DataFrame(df_chains)\n",
    "\n",
    "    # Validate internal trip relations\n",
    "    df_chains = df_chains[df_chains[f'start_{y}'] < df_chains[f'end_{y}']]\n",
    "    df_chains = df_chains[(df_chains[f'start_{y}'] > 0) & (df_chains[f'start_{y}'] < 1440)]\n",
    "    df_chains = df_chains[(df_chains[f'end_{y}'] > 0) & (df_chains[f'end_{y}'] < 1440)]\n",
    "\n",
    "    # Validate external trip relations (end time at least 15 min before start time of next act.)\n",
    "    for y in range(len(df[0])-1):\n",
    "        df_chains = df_chains[df_chains[f'end_{y}'] < (df_chains[f'start_{y+1}']-15)]\n",
    "    \n",
    "    df_fin.append(df_chains)\n",
    "\n",
    "four_trip_chains = pd.concat(df_fin)"
   ]
  },
  {
   "cell_type": "code",
   "execution_count": 56,
   "id": "1b7056c2",
   "metadata": {},
   "outputs": [
    {
     "name": "stdout",
     "output_type": "stream",
     "text": [
      "   start_0  end_0  start_1  end_1  start_2   end_2\n",
      "0    450.0  629.0    676.0  826.0    956.0  1131.0\n",
      "1    527.0  622.0    725.0  897.0    920.0  1129.0\n",
      "2    498.0  658.0    727.0  874.0    955.0  1142.0\n",
      "___________________________________\n",
      "___________________________________\n",
      "<class 'pandas.core.frame.DataFrame'>\n",
      "Int64Index: 3111 entries, 0 to 998\n",
      "Data columns (total 6 columns):\n",
      " #   Column   Non-Null Count  Dtype  \n",
      "---  ------   --------------  -----  \n",
      " 0   start_0  3111 non-null   float64\n",
      " 1   end_0    3111 non-null   float64\n",
      " 2   start_1  3111 non-null   float64\n",
      " 3   end_1    3111 non-null   float64\n",
      " 4   start_2  3111 non-null   float64\n",
      " 5   end_2    3111 non-null   float64\n",
      "dtypes: float64(6)\n",
      "memory usage: 170.1 KB\n"
     ]
    }
   ],
   "source": [
    "print(four_trip_chains.head(3))\n",
    "print(\"___________________________________\")\n",
    "print(\"___________________________________\")\n",
    "four_trip_chains.info()"
   ]
  },
  {
   "cell_type": "markdown",
   "id": "2ad506b6",
   "metadata": {},
   "source": [
    "### Five trips activity chains"
   ]
  },
  {
   "cell_type": "code",
   "execution_count": 57,
   "id": "7ee61d1d",
   "metadata": {},
   "outputs": [],
   "source": [
    "five_trip = {\n",
    "0: [[[8, 60], [16, 30]], [[17, 30], [18, 30]], [[19, 30], [20, 30]], [[21, 30], [22, 30]]],\n",
    "1: [[[8, 60], [12, 30]], [[13, 30], [15, 30]], [[16, 30], [19, 30]], [[20, 30], [21, 30]]],\n",
    "2: [[[6, 60], [10, 30]], [[11, 30], [16, 30]], [[17, 30], [19, 30]], [[20, 30], [21, 30]]],\n",
    "3: [[[9, 60], [14, 30]], [[15, 30], [19, 30]], [[20, 30], [21, 30]], [[22, 30], [23, 60]]],\n",
    "4: [[[9, 30], [10, 30]], [[11, 30], [12, 30]], [[13, 30], [20, 60]], [[21, 30], [23, 30]]],\n",
    "5: [[[9, 60], [17, 30]], [[18, 30], [19, 30]], [[20, 30], [21, 30]], [[22, 30], [23, 30]]],\n",
    "6: [[[12, 30], [13, 30]], [[14, 30], [15, 30]], [[16, 30], [17, 30]], [[18, 30], [19, 30]]],\n",
    "7: [[[11, 60], [13, 30]], [[17,30], [18, 30]], [[19, 30], [20, 30]], [[21, 30], [22, 30]]]\n",
    "}"
   ]
  },
  {
   "cell_type": "code",
   "execution_count": 58,
   "id": "a7d18ac1",
   "metadata": {},
   "outputs": [],
   "source": [
    "df = five_trip\n",
    "df_fin = []\n",
    "\n",
    "for x in range(len(df)):\n",
    "    df_chains = {}\n",
    "    for y in range(len(df[0])):\n",
    "        df_chains[f'start_{y}'] = np.round(np.random.normal(df[x][y][0][0] * 60, \n",
    "                                                            df[x][y][0][1], 1000))\n",
    "        df_chains[f'end_{y}'] = np.round(np.random.normal(df[x][y][1][0] * 60, \n",
    "                                                          df[x][y][0][1], 1000))    \n",
    "        df_chains = pd.DataFrame(df_chains)\n",
    "\n",
    "    # Validate internal trip relations\n",
    "    df_chains = df_chains[df_chains[f'start_{y}'] < df_chains[f'end_{y}']]\n",
    "    df_chains = df_chains[(df_chains[f'start_{y}'] > 0) & (df_chains[f'start_{y}'] < 1440)]\n",
    "    df_chains = df_chains[(df_chains[f'end_{y}'] > 0) & (df_chains[f'end_{y}'] < 1440)]\n",
    "\n",
    "    # Validate external trip relations (end time at least 15 min before start time of next act.)\n",
    "    for y in range(len(df[0])-1):\n",
    "        df_chains = df_chains[df_chains[f'end_{y}'] < (df_chains[f'start_{y+1}']-15)]\n",
    "    \n",
    "    df_fin.append(df_chains)\n",
    "\n",
    "five_trip_chains = pd.concat(df_fin)"
   ]
  },
  {
   "cell_type": "code",
   "execution_count": 59,
   "id": "fe16a10f",
   "metadata": {},
   "outputs": [
    {
     "name": "stdout",
     "output_type": "stream",
     "text": [
      "   start_0  end_0  start_1   end_1  start_2   end_2  start_3   end_3\n",
      "0    454.0  896.0   1011.0  1086.0   1140.0  1228.0   1276.0  1334.0\n",
      "1    379.0  980.0   1018.0  1059.0   1201.0  1188.0   1233.0  1252.0\n",
      "2    428.0  940.0    971.0  1062.0   1120.0  1206.0   1241.0  1285.0\n",
      "___________________________________\n",
      "___________________________________\n",
      "<class 'pandas.core.frame.DataFrame'>\n",
      "Int64Index: 4225 entries, 0 to 999\n",
      "Data columns (total 8 columns):\n",
      " #   Column   Non-Null Count  Dtype  \n",
      "---  ------   --------------  -----  \n",
      " 0   start_0  4225 non-null   float64\n",
      " 1   end_0    4225 non-null   float64\n",
      " 2   start_1  4225 non-null   float64\n",
      " 3   end_1    4225 non-null   float64\n",
      " 4   start_2  4225 non-null   float64\n",
      " 5   end_2    4225 non-null   float64\n",
      " 6   start_3  4225 non-null   float64\n",
      " 7   end_3    4225 non-null   float64\n",
      "dtypes: float64(8)\n",
      "memory usage: 297.1 KB\n"
     ]
    }
   ],
   "source": [
    "print(five_trip_chains.head(3))\n",
    "print(\"___________________________________\")\n",
    "print(\"___________________________________\")\n",
    "five_trip_chains.info()"
   ]
  },
  {
   "cell_type": "markdown",
   "id": "2343e17e",
   "metadata": {},
   "source": [
    "### Six trips activity chains"
   ]
  },
  {
   "cell_type": "code",
   "execution_count": 60,
   "id": "0c3d8226",
   "metadata": {},
   "outputs": [],
   "source": [
    "six_trip = {\n",
    "0: [[[7, 60], [15, 30]], [[16, 30], [17, 30]], [[18, 30], [19, 30]], [[20, 30], [21, 30]], [[22, 30], [23, 30]]],\n",
    "1: [[[7, 60], [9, 30]], [[10, 30], [12, 30]], [[13, 30], [14, 30]], [[15, 30], [16, 30]], [[17, 30], [19, 60]]],\n",
    "2: [[[8, 60], [15, 30]], [[16, 30], [17, 30]], [[18, 30], [19, 30]], [[20, 30], [21, 30]], [[22, 30], [23, 30]]],\n",
    "3: [[[8, 30], [9, 30]], [[10, 30], [16, 30]], [[17, 30], [18, 30]], [[19, 30], [20, 30]], [[21, 30], [22, 30]]],\n",
    "4: [[[9, 60], [15, 30]], [[16, 30], [17, 30]], [[18, 30], [19, 30]], [[20, 30], [21, 30]], [[22, 30], [23, 30]]],\n",
    "5: [[[9, 30], [10, 30]], [[11, 30], [16, 30]], [[17, 30], [18, 30]], [[19, 30], [20, 30]], [[21, 30], [22, 30]]]\n",
    "}"
   ]
  },
  {
   "cell_type": "code",
   "execution_count": 61,
   "id": "293ff58e",
   "metadata": {},
   "outputs": [],
   "source": [
    "df = six_trip\n",
    "df_fin = []\n",
    "\n",
    "for x in range(len(df)):\n",
    "    df_chains = {}\n",
    "    for y in range(len(df[0])):\n",
    "        df_chains[f'start_{y}'] = np.round(np.random.normal(df[x][y][0][0] * 60, \n",
    "                                                            df[x][y][0][1], 1000))\n",
    "        df_chains[f'end_{y}'] = np.round(np.random.normal(df[x][y][1][0] * 60, \n",
    "                                                          df[x][y][0][1], 1000))    \n",
    "        df_chains = pd.DataFrame(df_chains)\n",
    "\n",
    "    # Validate internal trip relations\n",
    "    df_chains = df_chains[df_chains[f'start_{y}'] < df_chains[f'end_{y}']]\n",
    "    df_chains = df_chains[(df_chains[f'start_{y}'] > 0) & (df_chains[f'start_{y}'] < 1440)]\n",
    "    df_chains = df_chains[(df_chains[f'end_{y}'] > 0) & (df_chains[f'end_{y}'] < 1440)]\n",
    "\n",
    "    # Validate external trip relations (end time at least 15 min before start time of next act.)\n",
    "    for y in range(len(df[0])-1):\n",
    "        df_chains = df_chains[df_chains[f'end_{y}'] < (df_chains[f'start_{y+1}']-15)]\n",
    "    \n",
    "    df_fin.append(df_chains)\n",
    "\n",
    "six_trip_chains = pd.concat(df_fin)"
   ]
  },
  {
   "cell_type": "code",
   "execution_count": 62,
   "id": "839fdf26",
   "metadata": {},
   "outputs": [
    {
     "name": "stdout",
     "output_type": "stream",
     "text": [
      "   start_0  end_0  start_1   end_1  start_2   end_2  start_3   end_3  start_4  \\\n",
      "0    469.0  861.0    918.0  1085.0   1120.0  1198.0   1221.0  1232.0   1320.0   \n",
      "1    294.0  928.0   1053.0  1023.0   1054.0  1091.0   1219.0  1235.0   1294.0   \n",
      "2    463.0  852.0    979.0  1036.0   1093.0  1153.0   1265.0  1264.0   1295.0   \n",
      "\n",
      "    end_4  \n",
      "0  1406.0  \n",
      "1  1373.0  \n",
      "2  1372.0  \n",
      "___________________________________\n",
      "___________________________________\n",
      "<class 'pandas.core.frame.DataFrame'>\n",
      "Int64Index: 2640 entries, 0 to 997\n",
      "Data columns (total 10 columns):\n",
      " #   Column   Non-Null Count  Dtype  \n",
      "---  ------   --------------  -----  \n",
      " 0   start_0  2640 non-null   float64\n",
      " 1   end_0    2640 non-null   float64\n",
      " 2   start_1  2640 non-null   float64\n",
      " 3   end_1    2640 non-null   float64\n",
      " 4   start_2  2640 non-null   float64\n",
      " 5   end_2    2640 non-null   float64\n",
      " 6   start_3  2640 non-null   float64\n",
      " 7   end_3    2640 non-null   float64\n",
      " 8   start_4  2640 non-null   float64\n",
      " 9   end_4    2640 non-null   float64\n",
      "dtypes: float64(10)\n",
      "memory usage: 226.9 KB\n"
     ]
    }
   ],
   "source": [
    "print(six_trip_chains.head(3))\n",
    "print(\"___________________________________\")\n",
    "print(\"___________________________________\")\n",
    "six_trip_chains.info()"
   ]
  },
  {
   "cell_type": "markdown",
   "id": "fdf9ccf1",
   "metadata": {},
   "source": [
    "## Export trip times"
   ]
  },
  {
   "cell_type": "code",
   "execution_count": 133,
   "id": "d8fd13b6",
   "metadata": {},
   "outputs": [],
   "source": [
    "# clean up names\n",
    "trips['trip_purpose'] = trips['trip_purpose'].replace('shoping', 'shopping')\n",
    "trips['trip_purpose'] = trips['trip_purpose'].replace('school/university', 'edu')"
   ]
  },
  {
   "cell_type": "code",
   "execution_count": 135,
   "id": "65d73c81",
   "metadata": {},
   "outputs": [],
   "source": [
    "trips['age'] = trips['age'].replace('>18', '<18')\n",
    "trips['age'] = trips['age'].replace('<75', '>75')"
   ]
  },
  {
   "cell_type": "code",
   "execution_count": 139,
   "id": "f69fc188",
   "metadata": {},
   "outputs": [],
   "source": [
    "scaled_base_profiles.head()\n",
    "scaled_base_profiles.to_csv('data/interim/activitychains/scaled_base_profiles.csv')"
   ]
  },
  {
   "cell_type": "code",
   "execution_count": 140,
   "id": "0d2f3f0f",
   "metadata": {},
   "outputs": [],
   "source": [
    "trips.head(3)\n",
    "trips.to_csv('data/interim/activitychains/trips.csv')"
   ]
  },
  {
   "cell_type": "code",
   "execution_count": 141,
   "id": "c80638f0",
   "metadata": {},
   "outputs": [
    {
     "data": {
      "text/html": [
       "<div>\n",
       "<style scoped>\n",
       "    .dataframe tbody tr th:only-of-type {\n",
       "        vertical-align: middle;\n",
       "    }\n",
       "\n",
       "    .dataframe tbody tr th {\n",
       "        vertical-align: top;\n",
       "    }\n",
       "\n",
       "    .dataframe thead th {\n",
       "        text-align: right;\n",
       "    }\n",
       "</style>\n",
       "<table border=\"1\" class=\"dataframe\">\n",
       "  <thead>\n",
       "    <tr style=\"text-align: right;\">\n",
       "      <th></th>\n",
       "      <th>start_0</th>\n",
       "      <th>end_0</th>\n",
       "      <th>start_1</th>\n",
       "      <th>end_1</th>\n",
       "    </tr>\n",
       "  </thead>\n",
       "  <tbody>\n",
       "    <tr>\n",
       "      <th>1</th>\n",
       "      <td>438.0</td>\n",
       "      <td>671.0</td>\n",
       "      <td>822.0</td>\n",
       "      <td>1022.0</td>\n",
       "    </tr>\n",
       "    <tr>\n",
       "      <th>2</th>\n",
       "      <td>551.0</td>\n",
       "      <td>774.0</td>\n",
       "      <td>830.0</td>\n",
       "      <td>1042.0</td>\n",
       "    </tr>\n",
       "    <tr>\n",
       "      <th>3</th>\n",
       "      <td>399.0</td>\n",
       "      <td>603.0</td>\n",
       "      <td>740.0</td>\n",
       "      <td>1014.0</td>\n",
       "    </tr>\n",
       "  </tbody>\n",
       "</table>\n",
       "</div>"
      ],
      "text/plain": [
       "   start_0  end_0  start_1   end_1\n",
       "1    438.0  671.0    822.0  1022.0\n",
       "2    551.0  774.0    830.0  1042.0\n",
       "3    399.0  603.0    740.0  1014.0"
      ]
     },
     "execution_count": 141,
     "metadata": {},
     "output_type": "execute_result"
    }
   ],
   "source": [
    "three_trip_chains.head(3)"
   ]
  },
  {
   "cell_type": "code",
   "execution_count": 142,
   "id": "96050b6d",
   "metadata": {},
   "outputs": [],
   "source": [
    "one_trip_chains.to_csv('data/interim/activitychains/one_trip_chains.csv')\n",
    "two_trip_chains.to_csv('data/interim/activitychains/two_trip_chains.csv')\n",
    "three_trip_chains.to_csv('data/interim/activitychains/three_trip_chains.csv')\n",
    "four_trip_chains.to_csv('data/interim/activitychains/four_trip_chains.csv')\n",
    "five_trip_chains.to_csv('data/interim/activitychains/five_trip_chains.csv')\n",
    "six_trip_chains.to_csv('data/interim/activitychains/six_trip_chains.csv')"
   ]
  },
  {
   "cell_type": "code",
   "execution_count": null,
   "id": "3f5679b6",
   "metadata": {},
   "outputs": [],
   "source": []
  },
  {
   "cell_type": "markdown",
   "id": "94133c79",
   "metadata": {},
   "source": [
    "## Visualisation of trip starts and end"
   ]
  },
  {
   "cell_type": "code",
   "execution_count": null,
   "id": "0c2c12b9",
   "metadata": {},
   "outputs": [],
   "source": [
    "# Make sure that they are scaled by number of variants of\n",
    "# each type before scaling by distribution"
   ]
  },
  {
   "cell_type": "code",
   "execution_count": 63,
   "id": "a45806aa",
   "metadata": {},
   "outputs": [
    {
     "data": {
      "text/html": [
       "<div>\n",
       "<style scoped>\n",
       "    .dataframe tbody tr th:only-of-type {\n",
       "        vertical-align: middle;\n",
       "    }\n",
       "\n",
       "    .dataframe tbody tr th {\n",
       "        vertical-align: top;\n",
       "    }\n",
       "\n",
       "    .dataframe thead th {\n",
       "        text-align: right;\n",
       "    }\n",
       "</style>\n",
       "<table border=\"1\" class=\"dataframe\">\n",
       "  <thead>\n",
       "    <tr style=\"text-align: right;\">\n",
       "      <th></th>\n",
       "      <th>Occurrences</th>\n",
       "      <th>Perc</th>\n",
       "    </tr>\n",
       "  </thead>\n",
       "  <tbody>\n",
       "    <tr>\n",
       "      <th>0</th>\n",
       "      <td>227</td>\n",
       "      <td>0.141433</td>\n",
       "    </tr>\n",
       "    <tr>\n",
       "      <th>1</th>\n",
       "      <td>168</td>\n",
       "      <td>0.104673</td>\n",
       "    </tr>\n",
       "    <tr>\n",
       "      <th>2</th>\n",
       "      <td>741</td>\n",
       "      <td>0.461682</td>\n",
       "    </tr>\n",
       "    <tr>\n",
       "      <th>3</th>\n",
       "      <td>181</td>\n",
       "      <td>0.112773</td>\n",
       "    </tr>\n",
       "    <tr>\n",
       "      <th>4</th>\n",
       "      <td>225</td>\n",
       "      <td>0.140187</td>\n",
       "    </tr>\n",
       "    <tr>\n",
       "      <th>5</th>\n",
       "      <td>37</td>\n",
       "      <td>0.023053</td>\n",
       "    </tr>\n",
       "    <tr>\n",
       "      <th>6</th>\n",
       "      <td>26</td>\n",
       "      <td>0.016199</td>\n",
       "    </tr>\n",
       "  </tbody>\n",
       "</table>\n",
       "</div>"
      ],
      "text/plain": [
       "   Occurrences      Perc\n",
       "0          227  0.141433\n",
       "1          168  0.104673\n",
       "2          741  0.461682\n",
       "3          181  0.112773\n",
       "4          225  0.140187\n",
       "5           37  0.023053\n",
       "6           26  0.016199"
      ]
     },
     "execution_count": 63,
     "metadata": {},
     "output_type": "execute_result"
    }
   ],
   "source": [
    "ac_lengths = [227, 168, 741, 181, 225, 37, 26]\n",
    "ac_lengths = pd.DataFrame(ac_lengths, columns=['Occurrences'])\n",
    "ac_total = ac_lengths['Occurrences'].sum()\n",
    "ac_lengths['Perc'] = ac_lengths['Occurrences'] / ac_total\n",
    "ac_lengths"
   ]
  },
  {
   "cell_type": "markdown",
   "id": "e31154a2",
   "metadata": {},
   "source": [
    "### Scale up all dfs to have the same length"
   ]
  },
  {
   "cell_type": "code",
   "execution_count": 64,
   "id": "4f1585a5",
   "metadata": {},
   "outputs": [],
   "source": [
    "dfs = [one_trip_chains, two_trip_chains, three_trip_chains, four_trip_chains, five_trip_chains, six_trip_chains]"
   ]
  },
  {
   "cell_type": "code",
   "execution_count": 65,
   "id": "8b9b5ef2",
   "metadata": {},
   "outputs": [],
   "source": [
    "max_length = max(len(df) for df in dfs)"
   ]
  },
  {
   "cell_type": "code",
   "execution_count": 66,
   "id": "b6e01661",
   "metadata": {},
   "outputs": [],
   "source": [
    "one_trip_chains_scaled = one_trip_chains.sample(n=max_length, replace=True)\n",
    "two_trip_chains_scaled = two_trip_chains.sample(n=max_length, replace=True)\n",
    "three_trip_chains_scaled = three_trip_chains.sample(n=max_length, replace=True)\n",
    "four_trip_chains_scaled = four_trip_chains.sample(n=max_length, replace=True)\n",
    "five_trip_chains_scaled = five_trip_chains.sample(n=max_length, replace=True)\n",
    "six_trip_chains_scaled = six_trip_chains.sample(n=max_length, replace=True)"
   ]
  },
  {
   "cell_type": "markdown",
   "id": "a9a0d5c9",
   "metadata": {},
   "source": [
    "### Scale to represent distribution of trip lengths"
   ]
  },
  {
   "cell_type": "code",
   "execution_count": 67,
   "id": "088f6b1f",
   "metadata": {},
   "outputs": [
    {
     "data": {
      "text/html": [
       "<div>\n",
       "<style scoped>\n",
       "    .dataframe tbody tr th:only-of-type {\n",
       "        vertical-align: middle;\n",
       "    }\n",
       "\n",
       "    .dataframe tbody tr th {\n",
       "        vertical-align: top;\n",
       "    }\n",
       "\n",
       "    .dataframe thead th {\n",
       "        text-align: right;\n",
       "    }\n",
       "</style>\n",
       "<table border=\"1\" class=\"dataframe\">\n",
       "  <thead>\n",
       "    <tr style=\"text-align: right;\">\n",
       "      <th></th>\n",
       "      <th>Occurrences</th>\n",
       "      <th>Perc</th>\n",
       "      <th>Factor</th>\n",
       "    </tr>\n",
       "  </thead>\n",
       "  <tbody>\n",
       "    <tr>\n",
       "      <th>0</th>\n",
       "      <td>227</td>\n",
       "      <td>0.141433</td>\n",
       "      <td>8.730769</td>\n",
       "    </tr>\n",
       "    <tr>\n",
       "      <th>1</th>\n",
       "      <td>168</td>\n",
       "      <td>0.104673</td>\n",
       "      <td>6.461538</td>\n",
       "    </tr>\n",
       "    <tr>\n",
       "      <th>2</th>\n",
       "      <td>741</td>\n",
       "      <td>0.461682</td>\n",
       "      <td>28.500000</td>\n",
       "    </tr>\n",
       "    <tr>\n",
       "      <th>3</th>\n",
       "      <td>181</td>\n",
       "      <td>0.112773</td>\n",
       "      <td>6.961538</td>\n",
       "    </tr>\n",
       "    <tr>\n",
       "      <th>4</th>\n",
       "      <td>225</td>\n",
       "      <td>0.140187</td>\n",
       "      <td>8.653846</td>\n",
       "    </tr>\n",
       "    <tr>\n",
       "      <th>5</th>\n",
       "      <td>37</td>\n",
       "      <td>0.023053</td>\n",
       "      <td>1.423077</td>\n",
       "    </tr>\n",
       "    <tr>\n",
       "      <th>6</th>\n",
       "      <td>26</td>\n",
       "      <td>0.016199</td>\n",
       "      <td>1.000000</td>\n",
       "    </tr>\n",
       "  </tbody>\n",
       "</table>\n",
       "</div>"
      ],
      "text/plain": [
       "   Occurrences      Perc     Factor\n",
       "0          227  0.141433   8.730769\n",
       "1          168  0.104673   6.461538\n",
       "2          741  0.461682  28.500000\n",
       "3          181  0.112773   6.961538\n",
       "4          225  0.140187   8.653846\n",
       "5           37  0.023053   1.423077\n",
       "6           26  0.016199   1.000000"
      ]
     },
     "execution_count": 67,
     "metadata": {},
     "output_type": "execute_result"
    }
   ],
   "source": [
    "# Define scaling factors so that no values are deleted\n",
    "ac_lengths['Factor'] = ac_lengths['Perc'] * 1 / min(ac_lengths['Perc'])\n",
    "ac_lengths"
   ]
  },
  {
   "cell_type": "code",
   "execution_count": 68,
   "id": "f1c66e0d",
   "metadata": {},
   "outputs": [],
   "source": [
    "one_trip_chains_total = one_trip_chains_scaled.sample(n=round(max_length*6.461538), replace=True)\n",
    "two_trip_chains_total = two_trip_chains_scaled.sample(n=round(max_length*28.5), replace=True)\n",
    "three_trip_chains_total = three_trip_chains_scaled.sample(n=round(max_length*6.961538), replace=True)\n",
    "four_trip_chains_total = four_trip_chains_scaled.sample(n=round(max_length*8.6538468), replace=True)\n",
    "five_trip_chains_total = five_trip_chains_scaled.sample(n=round(max_length*1.423077), replace=True)\n",
    "six_trip_chains_total = six_trip_chains_scaled.sample(n=round(max_length*1), replace=True)"
   ]
  },
  {
   "cell_type": "markdown",
   "id": "fdcb2a8a",
   "metadata": {},
   "source": [
    "### Create one df with all start times and one with all end times"
   ]
  },
  {
   "cell_type": "code",
   "execution_count": 69,
   "id": "f903fad8",
   "metadata": {},
   "outputs": [],
   "source": [
    "dfs = [one_trip_chains_total, two_trip_chains_total, three_trip_chains_total, four_trip_chains_total, five_trip_chains_total, six_trip_chains_total]"
   ]
  },
  {
   "cell_type": "code",
   "execution_count": 71,
   "id": "14495271",
   "metadata": {},
   "outputs": [],
   "source": [
    "start_times = []\n",
    "end_times = []\n",
    "\n",
    "for df in dfs:\n",
    "    # Select the columns starting with 'start'\n",
    "    start_columns = [col for col in df.columns if col.startswith('start')]\n",
    "    # Select the columns starting with 'end'\n",
    "    end_columns = [col for col in df.columns if col.startswith('end')]\n",
    "    # Combine the 'start' columns into a single column\n",
    "    start_df = pd.concat([df[col] for col in start_columns], ignore_index=True)\n",
    "    # Combine the 'end' columns into a single column\n",
    "    end_df = pd.concat([df[col] for col in end_columns], ignore_index=True)\n",
    "    start_times.append(start_df)\n",
    "    end_times.append(end_df)\n",
    "    \n",
    "start_times = pd.concat(start_times)\n",
    "end_times = pd.concat(end_times)"
   ]
  },
  {
   "cell_type": "code",
   "execution_count": 72,
   "id": "e07b053d",
   "metadata": {},
   "outputs": [
    {
     "data": {
      "image/png": "[encoded data removed]",
      "text/plain": [
       "<Figure size 648x360 with 1 Axes>"
      ]
     },
     "metadata": {
      "needs_background": "light"
     },
     "output_type": "display_data"
    }
   ],
   "source": [
    "# Create a figure and axis with adjusted aspect ratio\n",
    "fig, ax = plt.subplots(figsize=(9, 5))\n",
    "\n",
    "\n",
    "# Create a histogram for DataFrame 1\n",
    "ax.hist(start_times, bins=range(0, 1441, 30), color='blue', alpha=0.7, label='Start of trips')\n",
    "\n",
    "# Create a histogram for DataFrame 2\n",
    "ax.hist(end_times, bins=range(0, 1441, 30), color='red', alpha=0.7, label='End of trips')\n",
    "\n",
    "# Set x-axis ticks and labels for each hour\n",
    "ax.set_xticks(range(0, 1441, 60))\n",
    "ax.set_xticklabels(range(0, 25))\n",
    "\n",
    "# Remove y-axis tick marks\n",
    "ax.set_yticks([])\n",
    "\n",
    "# Add labels and title\n",
    "ax.set_xlabel('Time (hours)')\n",
    "ax.set_ylabel('Number of Trips')\n",
    "ax.set_title('Distribution of Trips')\n",
    "\n",
    "# Add a legend\n",
    "ax.legend()\n",
    "\n",
    "# Display the plot\n",
    "plt.tight_layout()\n",
    "plt.savefig('data/interim/distribution_graph.png', dpi=300, facecolor='white') \n",
    "plt.show()"
   ]
  }
 ],
 "metadata": {
  "kernelspec": {
   "display_name": "Python 3 (ipykernel)",
   "language": "python",
   "name": "python3"
  },
  "language_info": {
   "codemirror_mode": {
    "name": "ipython",
    "version": 3
   },
   "file_extension": ".py",
   "mimetype": "text/x-python",
   "name": "python",
   "nbconvert_exporter": "python",
   "pygments_lexer": "ipython3",
   "version": "3.9.13"
  }
 },
 "nbformat": 4,
 "nbformat_minor": 5
}
