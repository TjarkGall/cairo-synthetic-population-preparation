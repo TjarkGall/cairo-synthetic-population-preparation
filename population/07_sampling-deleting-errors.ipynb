{
 "cells": [
  {
   "cell_type": "markdown",
   "id": "7ceb6e28",
   "metadata": {},
   "source": [
    "# Create populations samples outside of MATSim"
   ]
  },
  {
   "cell_type": "markdown",
   "id": "66edb277",
   "metadata": {},
   "source": [
    "### Import packages and data"
   ]
  },
  {
   "cell_type": "code",
   "execution_count": 2,
   "id": "771e0fda",
   "metadata": {},
   "outputs": [
    {
     "name": "stderr",
     "output_type": "stream",
     "text": [
      "/Users/tjark/opt/anaconda3/lib/python3.9/site-packages/geopandas/_compat.py:123: UserWarning: The Shapely GEOS version (3.8.0-CAPI-1.13.1) is incompatible with the GEOS version PyGEOS was compiled with (3.10.1-CAPI-1.16.0). Conversions between both will be slow.\n",
      "  warnings.warn(\n",
      "/var/folders/93/smcvnv_s04v84f_dnqvd4xkw0000gn/T/ipykernel_73239/3683359160.py:3: UserWarning: Shapely 2.0 is installed, but because PyGEOS is also installed, GeoPandas will still use PyGEOS by default for now. To force to use and test Shapely 2.0, you have to set the environment variable USE_PYGEOS=0. You can do this before starting the Python process, or in your code before importing geopandas:\n",
      "\n",
      "import os\n",
      "os.environ['USE_PYGEOS'] = '0'\n",
      "import geopandas\n",
      "\n",
      "In a future release, GeoPandas will switch to using Shapely by default. If you are using PyGEOS directly (calling PyGEOS functions on geometries from GeoPandas), this will then stop working and you are encouraged to migrate from PyGEOS to Shapely 2.0 (https://shapely.readthedocs.io/en/latest/migration_pygeos.html).\n",
      "  import geopandas as gpd\n"
     ]
    }
   ],
   "source": [
    "import pandas as pd\n",
    "import numpy as np\n",
    "import geopandas as gpd\n",
    "import gzip\n",
    "import shutil"
   ]
  },
  {
   "cell_type": "markdown",
   "id": "ba6be257",
   "metadata": {},
   "source": [
    "## Population part"
   ]
  },
  {
   "cell_type": "code",
   "execution_count": 35,
   "id": "716de0b3",
   "metadata": {},
   "outputs": [],
   "source": [
    "df_raw = pd.read_csv('/Users/tjark/Documents/Python/CairoPopulation.nosync/tfc-git/data/interim/activitychains/population+home-act_100perc.csv')"
   ]
  },
  {
   "cell_type": "code",
   "execution_count": 5,
   "id": "cbaf8db1",
   "metadata": {},
   "outputs": [],
   "source": [
    "# df_raw = df_raw.drop('Unnamed: 0', axis=1)"
   ]
  },
  {
   "cell_type": "code",
   "execution_count": 36,
   "id": "1b19bfb7",
   "metadata": {},
   "outputs": [
    {
     "data": {
      "text/html": [
       "<div>\n",
       "<style scoped>\n",
       "    .dataframe tbody tr th:only-of-type {\n",
       "        vertical-align: middle;\n",
       "    }\n",
       "\n",
       "    .dataframe tbody tr th {\n",
       "        vertical-align: top;\n",
       "    }\n",
       "\n",
       "    .dataframe thead th {\n",
       "        text-align: right;\n",
       "    }\n",
       "</style>\n",
       "<table border=\"1\" class=\"dataframe\">\n",
       "  <thead>\n",
       "    <tr style=\"text-align: right;\">\n",
       "      <th></th>\n",
       "      <th>Unnamed: 0</th>\n",
       "      <th>person_id</th>\n",
       "      <th>age</th>\n",
       "      <th>gender</th>\n",
       "      <th>home_loc</th>\n",
       "      <th>car</th>\n",
       "      <th>activities</th>\n",
       "      <th>act_no</th>\n",
       "      <th>act_id</th>\n",
       "      <th>activity</th>\n",
       "      <th>distance</th>\n",
       "      <th>start</th>\n",
       "      <th>end</th>\n",
       "    </tr>\n",
       "  </thead>\n",
       "  <tbody>\n",
       "    <tr>\n",
       "      <th>0</th>\n",
       "      <td>0</td>\n",
       "      <td>0</td>\n",
       "      <td>&gt;75</td>\n",
       "      <td>female</td>\n",
       "      <td>POINT (31.331430700000002 29.845431899999987)</td>\n",
       "      <td>1</td>\n",
       "      <td>3</td>\n",
       "      <td>0</td>\n",
       "      <td>0.0</td>\n",
       "      <td>home</td>\n",
       "      <td>0.000000</td>\n",
       "      <td>-inf</td>\n",
       "      <td>575.0</td>\n",
       "    </tr>\n",
       "    <tr>\n",
       "      <th>1</th>\n",
       "      <td>1</td>\n",
       "      <td>0</td>\n",
       "      <td>&gt;75</td>\n",
       "      <td>female</td>\n",
       "      <td>POINT (31.331430700000002 29.845431899999987)</td>\n",
       "      <td>1</td>\n",
       "      <td>3</td>\n",
       "      <td>1</td>\n",
       "      <td>0.1</td>\n",
       "      <td>personal</td>\n",
       "      <td>5.902421</td>\n",
       "      <td>589.0</td>\n",
       "      <td>1132.0</td>\n",
       "    </tr>\n",
       "    <tr>\n",
       "      <th>2</th>\n",
       "      <td>2</td>\n",
       "      <td>0</td>\n",
       "      <td>&gt;75</td>\n",
       "      <td>female</td>\n",
       "      <td>POINT (31.331430700000002 29.845431899999987)</td>\n",
       "      <td>1</td>\n",
       "      <td>3</td>\n",
       "      <td>2</td>\n",
       "      <td>0.2</td>\n",
       "      <td>home</td>\n",
       "      <td>5.902421</td>\n",
       "      <td>1146.0</td>\n",
       "      <td>inf</td>\n",
       "    </tr>\n",
       "    <tr>\n",
       "      <th>3</th>\n",
       "      <td>3</td>\n",
       "      <td>1</td>\n",
       "      <td>26-35</td>\n",
       "      <td>female</td>\n",
       "      <td>POINT (31.313874 29.8144589)</td>\n",
       "      <td>1</td>\n",
       "      <td>3</td>\n",
       "      <td>0</td>\n",
       "      <td>1.0</td>\n",
       "      <td>home</td>\n",
       "      <td>0.000000</td>\n",
       "      <td>-inf</td>\n",
       "      <td>535.0</td>\n",
       "    </tr>\n",
       "    <tr>\n",
       "      <th>4</th>\n",
       "      <td>4</td>\n",
       "      <td>1</td>\n",
       "      <td>26-35</td>\n",
       "      <td>female</td>\n",
       "      <td>POINT (31.313874 29.8144589)</td>\n",
       "      <td>1</td>\n",
       "      <td>3</td>\n",
       "      <td>1</td>\n",
       "      <td>1.1</td>\n",
       "      <td>work</td>\n",
       "      <td>14.937200</td>\n",
       "      <td>571.0</td>\n",
       "      <td>731.0</td>\n",
       "    </tr>\n",
       "  </tbody>\n",
       "</table>\n",
       "</div>"
      ],
      "text/plain": [
       "   Unnamed: 0  person_id    age  gender  \\\n",
       "0           0          0    >75  female   \n",
       "1           1          0    >75  female   \n",
       "2           2          0    >75  female   \n",
       "3           3          1  26-35  female   \n",
       "4           4          1  26-35  female   \n",
       "\n",
       "                                        home_loc  car  activities  act_no  \\\n",
       "0  POINT (31.331430700000002 29.845431899999987)    1           3       0   \n",
       "1  POINT (31.331430700000002 29.845431899999987)    1           3       1   \n",
       "2  POINT (31.331430700000002 29.845431899999987)    1           3       2   \n",
       "3                   POINT (31.313874 29.8144589)    1           3       0   \n",
       "4                   POINT (31.313874 29.8144589)    1           3       1   \n",
       "\n",
       "   act_id  activity   distance   start     end  \n",
       "0     0.0      home   0.000000    -inf   575.0  \n",
       "1     0.1  personal   5.902421   589.0  1132.0  \n",
       "2     0.2      home   5.902421  1146.0     inf  \n",
       "3     1.0      home   0.000000    -inf   535.0  \n",
       "4     1.1      work  14.937200   571.0   731.0  "
      ]
     },
     "execution_count": 36,
     "metadata": {},
     "output_type": "execute_result"
    }
   ],
   "source": [
    "df_raw.head()"
   ]
  },
  {
   "cell_type": "code",
   "execution_count": 37,
   "id": "eb61b880",
   "metadata": {},
   "outputs": [
    {
     "data": {
      "text/html": [
       "<div>\n",
       "<style scoped>\n",
       "    .dataframe tbody tr th:only-of-type {\n",
       "        vertical-align: middle;\n",
       "    }\n",
       "\n",
       "    .dataframe tbody tr th {\n",
       "        vertical-align: top;\n",
       "    }\n",
       "\n",
       "    .dataframe thead th {\n",
       "        text-align: right;\n",
       "    }\n",
       "</style>\n",
       "<table border=\"1\" class=\"dataframe\">\n",
       "  <thead>\n",
       "    <tr style=\"text-align: right;\">\n",
       "      <th></th>\n",
       "      <th>Unnamed: 0</th>\n",
       "      <th>person_id</th>\n",
       "      <th>age</th>\n",
       "      <th>gender</th>\n",
       "      <th>home_loc</th>\n",
       "      <th>car</th>\n",
       "      <th>activities</th>\n",
       "      <th>act_no</th>\n",
       "      <th>act_id</th>\n",
       "      <th>activity</th>\n",
       "      <th>distance</th>\n",
       "      <th>start</th>\n",
       "      <th>end</th>\n",
       "    </tr>\n",
       "  </thead>\n",
       "  <tbody>\n",
       "    <tr>\n",
       "      <th>0</th>\n",
       "      <td>0</td>\n",
       "      <td>0</td>\n",
       "      <td>&gt;75</td>\n",
       "      <td>female</td>\n",
       "      <td>POINT (31.331430700000002 29.845431899999987)</td>\n",
       "      <td>1</td>\n",
       "      <td>3</td>\n",
       "      <td>0</td>\n",
       "      <td>0.0</td>\n",
       "      <td>home</td>\n",
       "      <td>0.000000</td>\n",
       "      <td>-inf</td>\n",
       "      <td>575.0</td>\n",
       "    </tr>\n",
       "    <tr>\n",
       "      <th>1</th>\n",
       "      <td>1</td>\n",
       "      <td>0</td>\n",
       "      <td>&gt;75</td>\n",
       "      <td>female</td>\n",
       "      <td>POINT (31.331430700000002 29.845431899999987)</td>\n",
       "      <td>1</td>\n",
       "      <td>3</td>\n",
       "      <td>1</td>\n",
       "      <td>0.1</td>\n",
       "      <td>personal</td>\n",
       "      <td>5.902421</td>\n",
       "      <td>589.0</td>\n",
       "      <td>1132.0</td>\n",
       "    </tr>\n",
       "    <tr>\n",
       "      <th>2</th>\n",
       "      <td>2</td>\n",
       "      <td>0</td>\n",
       "      <td>&gt;75</td>\n",
       "      <td>female</td>\n",
       "      <td>POINT (31.331430700000002 29.845431899999987)</td>\n",
       "      <td>1</td>\n",
       "      <td>3</td>\n",
       "      <td>2</td>\n",
       "      <td>0.2</td>\n",
       "      <td>home</td>\n",
       "      <td>5.902421</td>\n",
       "      <td>1146.0</td>\n",
       "      <td>inf</td>\n",
       "    </tr>\n",
       "    <tr>\n",
       "      <th>3</th>\n",
       "      <td>3</td>\n",
       "      <td>1</td>\n",
       "      <td>26-35</td>\n",
       "      <td>female</td>\n",
       "      <td>POINT (31.313874 29.8144589)</td>\n",
       "      <td>1</td>\n",
       "      <td>3</td>\n",
       "      <td>0</td>\n",
       "      <td>1.0</td>\n",
       "      <td>home</td>\n",
       "      <td>0.000000</td>\n",
       "      <td>-inf</td>\n",
       "      <td>535.0</td>\n",
       "    </tr>\n",
       "    <tr>\n",
       "      <th>4</th>\n",
       "      <td>4</td>\n",
       "      <td>1</td>\n",
       "      <td>26-35</td>\n",
       "      <td>female</td>\n",
       "      <td>POINT (31.313874 29.8144589)</td>\n",
       "      <td>1</td>\n",
       "      <td>3</td>\n",
       "      <td>1</td>\n",
       "      <td>1.1</td>\n",
       "      <td>work</td>\n",
       "      <td>14.937200</td>\n",
       "      <td>571.0</td>\n",
       "      <td>731.0</td>\n",
       "    </tr>\n",
       "  </tbody>\n",
       "</table>\n",
       "</div>"
      ],
      "text/plain": [
       "   Unnamed: 0  person_id    age  gender  \\\n",
       "0           0          0    >75  female   \n",
       "1           1          0    >75  female   \n",
       "2           2          0    >75  female   \n",
       "3           3          1  26-35  female   \n",
       "4           4          1  26-35  female   \n",
       "\n",
       "                                        home_loc  car  activities  act_no  \\\n",
       "0  POINT (31.331430700000002 29.845431899999987)    1           3       0   \n",
       "1  POINT (31.331430700000002 29.845431899999987)    1           3       1   \n",
       "2  POINT (31.331430700000002 29.845431899999987)    1           3       2   \n",
       "3                   POINT (31.313874 29.8144589)    1           3       0   \n",
       "4                   POINT (31.313874 29.8144589)    1           3       1   \n",
       "\n",
       "   act_id  activity   distance   start     end  \n",
       "0     0.0      home   0.000000    -inf   575.0  \n",
       "1     0.1  personal   5.902421   589.0  1132.0  \n",
       "2     0.2      home   5.902421  1146.0     inf  \n",
       "3     1.0      home   0.000000    -inf   535.0  \n",
       "4     1.1      work  14.937200   571.0   731.0  "
      ]
     },
     "execution_count": 37,
     "metadata": {},
     "output_type": "execute_result"
    }
   ],
   "source": [
    "df_raw.head()"
   ]
  },
  {
   "cell_type": "markdown",
   "id": "966fda31",
   "metadata": {},
   "source": [
    "### Delete entries where missing first activtiy"
   ]
  },
  {
   "cell_type": "code",
   "execution_count": 38,
   "id": "f6f555a9",
   "metadata": {},
   "outputs": [],
   "source": [
    "# Check where person has no first activity with 0\n",
    "all_person_ids = set(df_raw['person_id'].unique())\n",
    "filtered_person_ids = set(df_raw[df_raw['act_no'] < 1]['person_id'].unique())\n",
    "\n",
    "# Entries only in df_raw['person_id'] but not in df_raw[df_raw['act_no'] < 1]['person_id']\n",
    "only_in_all = all_person_ids - filtered_person_ids"
   ]
  },
  {
   "cell_type": "code",
   "execution_count": 39,
   "id": "4474351a",
   "metadata": {},
   "outputs": [],
   "source": [
    "# Create a mask for locations where person is saved without 0 activity\n",
    "mask0 = df_raw['person_id'].isin(only_in_all)\n",
    "# delete entries where no first activity\n",
    "df_raw = df_raw[~mask0]"
   ]
  },
  {
   "cell_type": "code",
   "execution_count": 40,
   "id": "ddd27b5f",
   "metadata": {},
   "outputs": [
    {
     "data": {
      "text/plain": [
       "53524392"
      ]
     },
     "execution_count": 40,
     "metadata": {},
     "output_type": "execute_result"
    }
   ],
   "source": [
    "len(df_raw)"
   ]
  },
  {
   "cell_type": "code",
   "execution_count": 41,
   "id": "3c67d258",
   "metadata": {},
   "outputs": [
    {
     "data": {
      "text/html": [
       "<div>\n",
       "<style scoped>\n",
       "    .dataframe tbody tr th:only-of-type {\n",
       "        vertical-align: middle;\n",
       "    }\n",
       "\n",
       "    .dataframe tbody tr th {\n",
       "        vertical-align: top;\n",
       "    }\n",
       "\n",
       "    .dataframe thead th {\n",
       "        text-align: right;\n",
       "    }\n",
       "</style>\n",
       "<table border=\"1\" class=\"dataframe\">\n",
       "  <thead>\n",
       "    <tr style=\"text-align: right;\">\n",
       "      <th></th>\n",
       "      <th>Unnamed: 0</th>\n",
       "      <th>person_id</th>\n",
       "      <th>age</th>\n",
       "      <th>gender</th>\n",
       "      <th>home_loc</th>\n",
       "      <th>car</th>\n",
       "      <th>activities</th>\n",
       "      <th>act_no</th>\n",
       "      <th>act_id</th>\n",
       "      <th>activity</th>\n",
       "      <th>distance</th>\n",
       "      <th>start</th>\n",
       "      <th>end</th>\n",
       "    </tr>\n",
       "  </thead>\n",
       "  <tbody>\n",
       "    <tr>\n",
       "      <th>0</th>\n",
       "      <td>0</td>\n",
       "      <td>0</td>\n",
       "      <td>&gt;75</td>\n",
       "      <td>female</td>\n",
       "      <td>POINT (31.331430700000002 29.845431899999987)</td>\n",
       "      <td>1</td>\n",
       "      <td>3</td>\n",
       "      <td>0</td>\n",
       "      <td>0.0</td>\n",
       "      <td>home</td>\n",
       "      <td>0.000000</td>\n",
       "      <td>-inf</td>\n",
       "      <td>575.0</td>\n",
       "    </tr>\n",
       "    <tr>\n",
       "      <th>1</th>\n",
       "      <td>1</td>\n",
       "      <td>0</td>\n",
       "      <td>&gt;75</td>\n",
       "      <td>female</td>\n",
       "      <td>POINT (31.331430700000002 29.845431899999987)</td>\n",
       "      <td>1</td>\n",
       "      <td>3</td>\n",
       "      <td>1</td>\n",
       "      <td>0.1</td>\n",
       "      <td>personal</td>\n",
       "      <td>5.902421</td>\n",
       "      <td>589.0</td>\n",
       "      <td>1132.0</td>\n",
       "    </tr>\n",
       "    <tr>\n",
       "      <th>2</th>\n",
       "      <td>2</td>\n",
       "      <td>0</td>\n",
       "      <td>&gt;75</td>\n",
       "      <td>female</td>\n",
       "      <td>POINT (31.331430700000002 29.845431899999987)</td>\n",
       "      <td>1</td>\n",
       "      <td>3</td>\n",
       "      <td>2</td>\n",
       "      <td>0.2</td>\n",
       "      <td>home</td>\n",
       "      <td>5.902421</td>\n",
       "      <td>1146.0</td>\n",
       "      <td>inf</td>\n",
       "    </tr>\n",
       "  </tbody>\n",
       "</table>\n",
       "</div>"
      ],
      "text/plain": [
       "   Unnamed: 0  person_id  age  gender  \\\n",
       "0           0          0  >75  female   \n",
       "1           1          0  >75  female   \n",
       "2           2          0  >75  female   \n",
       "\n",
       "                                        home_loc  car  activities  act_no  \\\n",
       "0  POINT (31.331430700000002 29.845431899999987)    1           3       0   \n",
       "1  POINT (31.331430700000002 29.845431899999987)    1           3       1   \n",
       "2  POINT (31.331430700000002 29.845431899999987)    1           3       2   \n",
       "\n",
       "   act_id  activity  distance   start     end  \n",
       "0     0.0      home  0.000000    -inf   575.0  \n",
       "1     0.1  personal  5.902421   589.0  1132.0  \n",
       "2     0.2      home  5.902421  1146.0     inf  "
      ]
     },
     "execution_count": 41,
     "metadata": {},
     "output_type": "execute_result"
    }
   ],
   "source": [
    "df_raw.head(3)"
   ]
  },
  {
   "cell_type": "markdown",
   "id": "69572977",
   "metadata": {},
   "source": [
    "### Verify NAs etc."
   ]
  },
  {
   "cell_type": "code",
   "execution_count": 42,
   "id": "5f818bb0",
   "metadata": {},
   "outputs": [
    {
     "name": "stdout",
     "output_type": "stream",
     "text": [
      "all good\n"
     ]
    }
   ],
   "source": [
    "if len(df_raw[(df_raw['start'].isna() & df_raw['act_no'] != 0)]) == 0:\n",
    "    # Replace NaN values in 'start' column with -inf\n",
    "    # df_raw['start'].fillna(-np.inf, inplace=True)\n",
    "    print('all good')\n",
    "else:\n",
    "    print('Ensure that NAs are only at start of first trip of day.')"
   ]
  },
  {
   "cell_type": "code",
   "execution_count": 43,
   "id": "1b4e3d47",
   "metadata": {},
   "outputs": [
    {
     "name": "stdout",
     "output_type": "stream",
     "text": [
      "all good\n"
     ]
    }
   ],
   "source": [
    "if len(df_raw[(df_raw['end'].isna() & (df_raw['act_no'] == (df_raw['activities']+1)))]) == 0:\n",
    "    # Replace NaN values in 'start' column with -inf\n",
    "    # df_raw['end'].fillna(np.inf, inplace=True)\n",
    "    print('all good')\n",
    "else:\n",
    "    print('Ensure that NAs are only at end of last trip of day.')"
   ]
  },
  {
   "cell_type": "markdown",
   "id": "c5ccb6dd",
   "metadata": {},
   "source": [
    "### Create reproducible sample indices at 0.1, 1, and 5%"
   ]
  },
  {
   "cell_type": "code",
   "execution_count": 44,
   "id": "bdb8c98d",
   "metadata": {},
   "outputs": [],
   "source": [
    "person_ids = df_raw['person_id'].unique()"
   ]
  },
  {
   "cell_type": "code",
   "execution_count": 45,
   "id": "1dcf17d3",
   "metadata": {},
   "outputs": [],
   "source": [
    "frac = 0.001  # Fraction to sample\n",
    "random_state = 1234  # Random state for reproducibility\n",
    "\n",
    "# Set the random seed\n",
    "np.random.seed(random_state)\n",
    "\n",
    "# Generate random indices\n",
    "num_samples = int(len(person_ids) * frac)\n",
    "sample_indices = np.random.choice(len(person_ids), num_samples, replace=False)\n",
    "\n",
    "# Select the corresponding elements from the array\n",
    "person_ids_0p1perc = person_ids[sample_indices]"
   ]
  },
  {
   "cell_type": "code",
   "execution_count": 46,
   "id": "4a286a5c",
   "metadata": {},
   "outputs": [],
   "source": [
    "# frac = 0.01  # Fraction to sample\n",
    "# random_state = 1234  # Random state for reproducibility\n",
    "\n",
    "# # Set the random seed\n",
    "# np.random.seed(random_state)\n",
    "\n",
    "# # Generate random indices\n",
    "# num_samples = int(len(person_ids) * frac)\n",
    "# sample_indices = np.random.choice(len(person_ids), num_samples, replace=False)\n",
    "\n",
    "# # Select the corresponding elements from the array\n",
    "# person_ids_1perc = person_ids[sample_indices]"
   ]
  },
  {
   "cell_type": "code",
   "execution_count": 47,
   "id": "45325642",
   "metadata": {},
   "outputs": [],
   "source": [
    "# frac = 0.05  # Fraction to sample\n",
    "# random_state = 1234  # Random state for reproducibility\n",
    "\n",
    "# # Set the random seed\n",
    "# np.random.seed(random_state)\n",
    "\n",
    "# # Generate random indices\n",
    "# num_samples = int(len(person_ids) * frac)\n",
    "# sample_indices = np.random.choice(len(person_ids), num_samples, replace=False)\n",
    "\n",
    "# # Select the corresponding elements from the array\n",
    "# person_ids_5perc = person_ids[sample_indices]"
   ]
  },
  {
   "cell_type": "markdown",
   "id": "a2c3f79b",
   "metadata": {},
   "source": [
    "### Sample underlying database"
   ]
  },
  {
   "cell_type": "code",
   "execution_count": 48,
   "id": "99161f71",
   "metadata": {},
   "outputs": [],
   "source": [
    "# 0.001 sample\n",
    "\n",
    "# Create a boolean mask to check if 'person_id' is in 'person_ids_0p001'\n",
    "mask1 = df_raw['person_id'].isin(person_ids_0p1perc)\n",
    "\n",
    "# Apply the mask to filter the DataFrame\n",
    "df1 = df_raw[mask1]"
   ]
  },
  {
   "cell_type": "code",
   "execution_count": 49,
   "id": "5d41412f",
   "metadata": {},
   "outputs": [],
   "source": [
    "# # 0.01 sample\n",
    "\n",
    "# # Create a boolean mask to check if 'person_id' is in 'person_ids_0p001'\n",
    "# mask2 = df_raw['person_id'].isin(person_ids_1perc)\n",
    "\n",
    "# # Apply the mask to filter the DataFrame\n",
    "# df2 = df_raw[mask2]"
   ]
  },
  {
   "cell_type": "code",
   "execution_count": 50,
   "id": "64f0d7de",
   "metadata": {},
   "outputs": [],
   "source": [
    "# # 0.05 sample\n",
    "\n",
    "# # Create a boolean mask to check if 'person_id' is in 'person_ids_0p001'\n",
    "# mask3 = df_raw['person_id'].isin(person_ids_5perc)\n",
    "\n",
    "# # Apply the mask to filter the DataFrame\n",
    "# df3 = df_raw[mask3]"
   ]
  },
  {
   "cell_type": "markdown",
   "id": "1aa1afd9",
   "metadata": {},
   "source": [
    "### Working"
   ]
  },
  {
   "cell_type": "code",
   "execution_count": 51,
   "id": "12cb05aa",
   "metadata": {},
   "outputs": [
    {
     "name": "stdout",
     "output_type": "stream",
     "text": [
      "Verification for           Unnamed: 0  person_id    age  gender  \\\n",
      "3550            3550       1395  18-25  female   \n",
      "3551            3551       1395  18-25  female   \n",
      "3552            3552       1395  18-25  female   \n",
      "7125            7125       2764  26-35  female   \n",
      "7126            7126       2764  26-35  female   \n",
      "...              ...        ...    ...     ...   \n",
      "53504860    53504895   20644054    <18  female   \n",
      "53504861    53504896   20644054    <18  female   \n",
      "53518255    53518290   20649335    <18    male   \n",
      "53518256    53518291   20649335    <18    male   \n",
      "53518257    53518292   20649335    <18    male   \n",
      "\n",
      "                                               home_loc  car  activities  \\\n",
      "3550              POINT (31.300326400000003 29.8105904)    0           3   \n",
      "3551              POINT (31.300326400000003 29.8105904)    0           3   \n",
      "3552              POINT (31.300326400000003 29.8105904)    0           3   \n",
      "7125      POINT (31.305176800000005 29.840169799999998)    1           3   \n",
      "7126      POINT (31.305176800000005 29.840169799999998)    1           3   \n",
      "...                                                 ...  ...         ...   \n",
      "53504860          POINT (31.255907700000005 30.0473021)    0           4   \n",
      "53504861          POINT (31.255907700000005 30.0473021)    0           4   \n",
      "53518255  POINT (31.257661899999995 30.044654100000006)    0           3   \n",
      "53518256  POINT (31.257661899999995 30.044654100000006)    0           3   \n",
      "53518257  POINT (31.257661899999995 30.044654100000006)    0           3   \n",
      "\n",
      "          act_no      act_id   activity   distance   start     end  \n",
      "3550           0      1395.0       home   0.000000    -inf   468.0  \n",
      "3551           1      1395.1       work  25.669545   530.0  1000.0  \n",
      "3552           2      1395.2       home  25.669545  1062.0     inf  \n",
      "7125           0      2764.0       home   0.000000    -inf   519.0  \n",
      "7126           1      2764.1   personal   7.995127   538.0   752.0  \n",
      "...          ...         ...        ...        ...     ...     ...  \n",
      "53504860       2  20644054.2  secondary  13.419047   773.0   919.0  \n",
      "53504861       3  20644054.3       home   2.181599   924.0     inf  \n",
      "53518255       0  20649335.0       home   0.000000    -inf   471.0  \n",
      "53518256       1  20649335.1   personal   1.143275   474.0  1177.0  \n",
      "53518257       2  20649335.2       home   1.143275  1180.0     inf  \n",
      "\n",
      "[53722 rows x 13 columns]\n",
      "––––––––––––––––\n",
      "Same length for 0 and 1: True\n"
     ]
    },
    {
     "name": "stderr",
     "output_type": "stream",
     "text": [
      "/var/folders/93/smcvnv_s04v84f_dnqvd4xkw0000gn/T/ipykernel_73239/979637361.py:7: SettingWithCopyWarning: \n",
      "A value is trying to be set on a copy of a slice from a DataFrame.\n",
      "Try using .loc[row_indexer,col_indexer] = value instead\n",
      "\n",
      "See the caveats in the documentation: https://pandas.pydata.org/pandas-docs/stable/user_guide/indexing.html#returning-a-view-versus-a-copy\n",
      "  df1['person_id_old'] = df1['person_id']\n"
     ]
    }
   ],
   "source": [
    "# For 0.1 % \n",
    "print(f'Verification for {df1}')\n",
    "print('––––––––––––––––')\n",
    "print(f\"Same length for 0 and 1: {len(df1[df1['act_no'] == 0]) == len(df1[df1['act_no'] == 0])}\")\n",
    "df_temp = df1[df1['act_no'] == 0]\n",
    "df_temp = df_temp.reset_index()\n",
    "df1['person_id_old'] = df1['person_id']\n",
    "df_temp = df_temp[['index','person_id']]\n",
    "df1 = pd.merge(df1, df_temp, on='person_id')\n",
    "df1['person_id'] = df1['index']\n",
    "df1 = df1.drop('index', axis=1)"
   ]
  },
  {
   "cell_type": "code",
   "execution_count": 52,
   "id": "7700820a",
   "metadata": {},
   "outputs": [],
   "source": [
    "# # For 1 % \n",
    "# print(f'Verification for {df2}')\n",
    "# print('––––––––––––––––')\n",
    "# print(f\"Same length for 0 and 1: {len(df2[df2['act_no'] == 0]) == len(df2[df2['act_no'] == 0])}\")\n",
    "# df_temp = df2[df2['act_no'] == 0]\n",
    "# df_temp = df_temp.reset_index()\n",
    "# df2['person_id_old'] = df2['person_id']\n",
    "# df_temp = df_temp[['index','person_id']]\n",
    "# df2 = pd.merge(df2, df_temp, on='person_id')\n",
    "# df2['person_id'] = df2['index']\n",
    "# df2 = df2.drop('index', axis=1)"
   ]
  },
  {
   "cell_type": "code",
   "execution_count": 53,
   "id": "1de6b82c",
   "metadata": {},
   "outputs": [],
   "source": [
    "# # For 5 % \n",
    "# print(f'Verification for {df3}')\n",
    "# print('––––––––––––––––')\n",
    "# print(f\"Same length for 0 and 1: {len(df3[df3['act_no'] == 0]) == len(df3[df3['act_no'] == 0])}\")\n",
    "# df_temp = df3[df3['act_no'] == 0]\n",
    "# df_temp = df_temp.reset_index()\n",
    "# df3['person_id_old'] = df3['person_id']\n",
    "# df_temp = df_temp[['index','person_id']]\n",
    "# df3 = pd.merge(df3, df_temp, on='person_id')\n",
    "# df3['person_id'] = df3['index']\n",
    "# df3 = df3.drop('index', axis=1)"
   ]
  },
  {
   "cell_type": "code",
   "execution_count": 54,
   "id": "b7f71028",
   "metadata": {},
   "outputs": [
    {
     "data": {
      "text/html": [
       "<div>\n",
       "<style scoped>\n",
       "    .dataframe tbody tr th:only-of-type {\n",
       "        vertical-align: middle;\n",
       "    }\n",
       "\n",
       "    .dataframe tbody tr th {\n",
       "        vertical-align: top;\n",
       "    }\n",
       "\n",
       "    .dataframe thead th {\n",
       "        text-align: right;\n",
       "    }\n",
       "</style>\n",
       "<table border=\"1\" class=\"dataframe\">\n",
       "  <thead>\n",
       "    <tr style=\"text-align: right;\">\n",
       "      <th></th>\n",
       "      <th>Unnamed: 0</th>\n",
       "      <th>person_id</th>\n",
       "      <th>age</th>\n",
       "      <th>gender</th>\n",
       "      <th>home_loc</th>\n",
       "      <th>car</th>\n",
       "      <th>activities</th>\n",
       "      <th>act_no</th>\n",
       "      <th>act_id</th>\n",
       "      <th>activity</th>\n",
       "      <th>distance</th>\n",
       "      <th>start</th>\n",
       "      <th>end</th>\n",
       "      <th>person_id_old</th>\n",
       "    </tr>\n",
       "  </thead>\n",
       "  <tbody>\n",
       "    <tr>\n",
       "      <th>0</th>\n",
       "      <td>3550</td>\n",
       "      <td>3550</td>\n",
       "      <td>18-25</td>\n",
       "      <td>female</td>\n",
       "      <td>POINT (31.300326400000003 29.8105904)</td>\n",
       "      <td>0</td>\n",
       "      <td>3</td>\n",
       "      <td>0</td>\n",
       "      <td>1395.0</td>\n",
       "      <td>home</td>\n",
       "      <td>0.000000</td>\n",
       "      <td>-inf</td>\n",
       "      <td>468.0</td>\n",
       "      <td>1395</td>\n",
       "    </tr>\n",
       "    <tr>\n",
       "      <th>1</th>\n",
       "      <td>3551</td>\n",
       "      <td>3550</td>\n",
       "      <td>18-25</td>\n",
       "      <td>female</td>\n",
       "      <td>POINT (31.300326400000003 29.8105904)</td>\n",
       "      <td>0</td>\n",
       "      <td>3</td>\n",
       "      <td>1</td>\n",
       "      <td>1395.1</td>\n",
       "      <td>work</td>\n",
       "      <td>25.669545</td>\n",
       "      <td>530.0</td>\n",
       "      <td>1000.0</td>\n",
       "      <td>1395</td>\n",
       "    </tr>\n",
       "    <tr>\n",
       "      <th>2</th>\n",
       "      <td>3552</td>\n",
       "      <td>3550</td>\n",
       "      <td>18-25</td>\n",
       "      <td>female</td>\n",
       "      <td>POINT (31.300326400000003 29.8105904)</td>\n",
       "      <td>0</td>\n",
       "      <td>3</td>\n",
       "      <td>2</td>\n",
       "      <td>1395.2</td>\n",
       "      <td>home</td>\n",
       "      <td>25.669545</td>\n",
       "      <td>1062.0</td>\n",
       "      <td>inf</td>\n",
       "      <td>1395</td>\n",
       "    </tr>\n",
       "  </tbody>\n",
       "</table>\n",
       "</div>"
      ],
      "text/plain": [
       "   Unnamed: 0  person_id    age  gender  \\\n",
       "0        3550       3550  18-25  female   \n",
       "1        3551       3550  18-25  female   \n",
       "2        3552       3550  18-25  female   \n",
       "\n",
       "                                home_loc  car  activities  act_no  act_id  \\\n",
       "0  POINT (31.300326400000003 29.8105904)    0           3       0  1395.0   \n",
       "1  POINT (31.300326400000003 29.8105904)    0           3       1  1395.1   \n",
       "2  POINT (31.300326400000003 29.8105904)    0           3       2  1395.2   \n",
       "\n",
       "  activity   distance   start     end  person_id_old  \n",
       "0     home   0.000000    -inf   468.0           1395  \n",
       "1     work  25.669545   530.0  1000.0           1395  \n",
       "2     home  25.669545  1062.0     inf           1395  "
      ]
     },
     "execution_count": 54,
     "metadata": {},
     "output_type": "execute_result"
    }
   ],
   "source": [
    "df1.head(3)"
   ]
  },
  {
   "cell_type": "code",
   "execution_count": 55,
   "id": "04a475f7",
   "metadata": {},
   "outputs": [],
   "source": [
    "# df2.head(3)"
   ]
  },
  {
   "cell_type": "code",
   "execution_count": 56,
   "id": "1f88b2a8",
   "metadata": {},
   "outputs": [],
   "source": [
    "# df3.head(3)"
   ]
  },
  {
   "cell_type": "code",
   "execution_count": 57,
   "id": "e6697234",
   "metadata": {},
   "outputs": [],
   "source": [
    "df1['start'] = df1['start'].replace(-np.inf, np.nan)\n",
    "df1['end'] = df1['end'].replace(np.inf, np.nan)"
   ]
  },
  {
   "cell_type": "code",
   "execution_count": 58,
   "id": "eec788a3",
   "metadata": {},
   "outputs": [],
   "source": [
    "# df2['start'] = df2['start'].replace(-np.inf, np.nan)\n",
    "# df2['end'] = df2['end'].replace(np.inf, np.nan)"
   ]
  },
  {
   "cell_type": "code",
   "execution_count": 59,
   "id": "6af7e571",
   "metadata": {},
   "outputs": [],
   "source": [
    "# df3['start'] = df3['start'].replace(-np.inf, np.nan)\n",
    "# df3['end'] = df3['end'].replace(np.inf, np.nan)"
   ]
  },
  {
   "cell_type": "code",
   "execution_count": 2,
   "id": "fd283e87",
   "metadata": {},
   "outputs": [],
   "source": [
    "df1.head(3)"
   ]
  },
  {
   "cell_type": "code",
   "execution_count": 149,
   "id": "24201d35",
   "metadata": {},
   "outputs": [],
   "source": [
    "# df1 = df1.drop(['pop2022','pop2030-densif','pop2030-sprawl'], axis=1)"
   ]
  },
  {
   "cell_type": "markdown",
   "id": "7da24e7b",
   "metadata": {},
   "source": [
    "### Lines below were needed for s0a 1 and 5% only"
   ]
  },
  {
   "cell_type": "code",
   "execution_count": null,
   "id": "c3ddd65d",
   "metadata": {},
   "outputs": [],
   "source": [
    "# df = data[(data['start'].isna()) & (data['act_no'] != 0)]['person_id']\n",
    "# df = df.reset_index()\n",
    "# df.drop(columns=['index'], inplace=True)\n",
    "# data = data[~data['person_id'].isin(df['person_id'])]\n",
    "# data.drop(columns=['Unnamed: 0'], inplace=True)"
   ]
  },
  {
   "cell_type": "markdown",
   "id": "ac8a2de0",
   "metadata": {},
   "source": [
    "### Export files"
   ]
  },
  {
   "cell_type": "code",
   "execution_count": 67,
   "id": "c5678eaf",
   "metadata": {},
   "outputs": [],
   "source": [
    "df1.to_csv('/Users/tjark/Documents/MATSim/Cairo.nosync/ile-de-france/data/data_cairo/population+home-act_0p1perc.csv')"
   ]
  },
  {
   "cell_type": "code",
   "execution_count": 61,
   "id": "dd848195",
   "metadata": {},
   "outputs": [],
   "source": [
    "# df2.to_csv('/Users/tjark/Documents/MATSim/Cairo.nosync/ile-de-france/data/data_cairo/pop2030_sprawl_car_1perc.csv')"
   ]
  },
  {
   "cell_type": "code",
   "execution_count": 34,
   "id": "75e9ea90",
   "metadata": {},
   "outputs": [],
   "source": [
    "# df3.to_csv('/Users/tjark/Documents/MATSim/Cairo.nosync/ile-de-france/data/data_cairo/pop2030_sprawl_car_5perc.csv')"
   ]
  },
  {
   "cell_type": "code",
   "execution_count": 109,
   "id": "ced62871",
   "metadata": {},
   "outputs": [],
   "source": [
    "# df_raw.to_csv('/Users/tjark/Documents/MATSim/Cairo.nosync/ile-de-france/data/data_cairo/population+home-act_100perc.csv')"
   ]
  }
 ],
 "metadata": {
  "kernelspec": {
   "display_name": "Python 3 (ipykernel)",
   "language": "python",
   "name": "python3"
  },
  "language_info": {
   "codemirror_mode": {
    "name": "ipython",
    "version": 3
   },
   "file_extension": ".py",
   "mimetype": "text/x-python",
   "name": "python",
   "nbconvert_exporter": "python",
   "pygments_lexer": "ipython3",
   "version": "3.9.13"
  }
 },
 "nbformat": 4,
 "nbformat_minor": 5
}
