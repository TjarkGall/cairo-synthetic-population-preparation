{
 "cells": [
  {
   "cell_type": "markdown",
   "id": "a0b00e23",
   "metadata": {},
   "source": [
    "# Proto-persona reweighting process"
   ]
  },
  {
   "cell_type": "markdown",
   "id": "75d6670e",
   "metadata": {},
   "source": [
    "This notebook is shorter version of a clustering approach for persona development as described here: https://github.com/TjarkGall/proto-persona-clustering"
   ]
  },
  {
   "cell_type": "markdown",
   "id": "65ad5c9b",
   "metadata": {},
   "source": [
    "## Notebook set up"
   ]
  },
  {
   "cell_type": "code",
   "execution_count": 2,
   "id": "1a615b18",
   "metadata": {},
   "outputs": [
    {
     "name": "stderr",
     "output_type": "stream",
     "text": [
      "/Users/tjark/opt/anaconda3/lib/python3.9/site-packages/geopandas/_compat.py:123: UserWarning: The Shapely GEOS version (3.8.0-CAPI-1.13.1) is incompatible with the GEOS version PyGEOS was compiled with (3.10.1-CAPI-1.16.0). Conversions between both will be slow.\n",
      "  warnings.warn(\n",
      "/var/folders/93/smcvnv_s04v84f_dnqvd4xkw0000gn/T/ipykernel_31230/1390835971.py:10: UserWarning: Shapely 2.0 is installed, but because PyGEOS is also installed, GeoPandas will still use PyGEOS by default for now. To force to use and test Shapely 2.0, you have to set the environment variable USE_PYGEOS=0. You can do this before starting the Python process, or in your code before importing geopandas:\n",
      "\n",
      "import os\n",
      "os.environ['USE_PYGEOS'] = '0'\n",
      "import geopandas\n",
      "\n",
      "In a future release, GeoPandas will switch to using Shapely by default. If you are using PyGEOS directly (calling PyGEOS functions on geometries from GeoPandas), this will then stop working and you are encouraged to migrate from PyGEOS to Shapely 2.0 (https://shapely.readthedocs.io/en/latest/migration_pygeos.html).\n",
      "  import geopandas as gpd\n"
     ]
    }
   ],
   "source": [
    "# Load packages (if you get errors, you can install them, for example, by using typing:\n",
    "# conda install [package name] \n",
    "# pip install [package name] \n",
    "# in the terminal. \n",
    "\n",
    "import os\n",
    "import random\n",
    "import numpy as np\n",
    "import pandas as pd\n",
    "import geopandas as gpd\n",
    "from geopandas.tools import sjoin\n",
    "from shapely import wkt"
   ]
  },
  {
   "cell_type": "code",
   "execution_count": 3,
   "id": "908ae902",
   "metadata": {},
   "outputs": [
    {
     "data": {
      "application/javascript": [
       "IPython.notebook.set_autosave_interval(180000)"
      ]
     },
     "metadata": {},
     "output_type": "display_data"
    },
    {
     "name": "stdout",
     "output_type": "stream",
     "text": [
      "Autosaving every 180 seconds\n"
     ]
    }
   ],
   "source": [
    "# Activate autosaving every 180 seconds to ensure that no data is lost\n",
    "%autosave 180"
   ]
  },
  {
   "cell_type": "code",
   "execution_count": 4,
   "id": "13dd9544",
   "metadata": {},
   "outputs": [
    {
     "data": {
      "text/plain": [
       "'/Users/tjark/Documents/Python/CairoPopulation.nosync/tfc-git'"
      ]
     },
     "execution_count": 4,
     "metadata": {},
     "output_type": "execute_result"
    }
   ],
   "source": [
    "# Move working directory one level up to be in overall folder\n",
    "# ATTENTION: If this is run more than once, it always moves on level up\n",
    "os.chdir(\"..\")\n",
    "\n",
    "# Print working directory. It should be the folder in which there is the data folder\n",
    "os.getcwd()"
   ]
  },
  {
   "cell_type": "markdown",
   "id": "9950b376",
   "metadata": {},
   "source": [
    "# Step 1: Data loading and preparation"
   ]
  },
  {
   "cell_type": "markdown",
   "id": "65c7399b",
   "metadata": {},
   "source": [
    "#### 2022 population"
   ]
  },
  {
   "cell_type": "code",
   "execution_count": 6,
   "id": "40983566",
   "metadata": {},
   "outputs": [],
   "source": [
    "df_pop2022 = pd.read_csv('data/interim/activitychains/population+home-act_100perc.csv')"
   ]
  },
  {
   "cell_type": "code",
   "execution_count": 7,
   "id": "0fa33096",
   "metadata": {},
   "outputs": [],
   "source": [
    "df_pop2022 = df_pop2022.drop(labels=['Unnamed: 0'], axis=1)"
   ]
  },
  {
   "cell_type": "code",
   "execution_count": 8,
   "id": "a5c43df4",
   "metadata": {},
   "outputs": [
    {
     "data": {
      "text/html": [
       "<div>\n",
       "<style scoped>\n",
       "    .dataframe tbody tr th:only-of-type {\n",
       "        vertical-align: middle;\n",
       "    }\n",
       "\n",
       "    .dataframe tbody tr th {\n",
       "        vertical-align: top;\n",
       "    }\n",
       "\n",
       "    .dataframe thead th {\n",
       "        text-align: right;\n",
       "    }\n",
       "</style>\n",
       "<table border=\"1\" class=\"dataframe\">\n",
       "  <thead>\n",
       "    <tr style=\"text-align: right;\">\n",
       "      <th></th>\n",
       "      <th>person_id</th>\n",
       "      <th>age</th>\n",
       "      <th>gender</th>\n",
       "      <th>home_loc</th>\n",
       "      <th>car</th>\n",
       "      <th>activities</th>\n",
       "      <th>act_no</th>\n",
       "      <th>act_id</th>\n",
       "      <th>activity</th>\n",
       "      <th>distance</th>\n",
       "      <th>start</th>\n",
       "      <th>end</th>\n",
       "    </tr>\n",
       "  </thead>\n",
       "  <tbody>\n",
       "    <tr>\n",
       "      <th>0</th>\n",
       "      <td>0</td>\n",
       "      <td>&gt;75</td>\n",
       "      <td>female</td>\n",
       "      <td>POINT (31.331430700000002 29.845431899999987)</td>\n",
       "      <td>1</td>\n",
       "      <td>3</td>\n",
       "      <td>0</td>\n",
       "      <td>0.0</td>\n",
       "      <td>home</td>\n",
       "      <td>0.000000</td>\n",
       "      <td>-inf</td>\n",
       "      <td>575.0</td>\n",
       "    </tr>\n",
       "    <tr>\n",
       "      <th>1</th>\n",
       "      <td>0</td>\n",
       "      <td>&gt;75</td>\n",
       "      <td>female</td>\n",
       "      <td>POINT (31.331430700000002 29.845431899999987)</td>\n",
       "      <td>1</td>\n",
       "      <td>3</td>\n",
       "      <td>1</td>\n",
       "      <td>0.1</td>\n",
       "      <td>personal</td>\n",
       "      <td>5.902421</td>\n",
       "      <td>589.0</td>\n",
       "      <td>1132.0</td>\n",
       "    </tr>\n",
       "    <tr>\n",
       "      <th>2</th>\n",
       "      <td>0</td>\n",
       "      <td>&gt;75</td>\n",
       "      <td>female</td>\n",
       "      <td>POINT (31.331430700000002 29.845431899999987)</td>\n",
       "      <td>1</td>\n",
       "      <td>3</td>\n",
       "      <td>2</td>\n",
       "      <td>0.2</td>\n",
       "      <td>home</td>\n",
       "      <td>5.902421</td>\n",
       "      <td>1146.0</td>\n",
       "      <td>inf</td>\n",
       "    </tr>\n",
       "  </tbody>\n",
       "</table>\n",
       "</div>"
      ],
      "text/plain": [
       "   person_id  age  gender                                       home_loc  car  \\\n",
       "0          0  >75  female  POINT (31.331430700000002 29.845431899999987)    1   \n",
       "1          0  >75  female  POINT (31.331430700000002 29.845431899999987)    1   \n",
       "2          0  >75  female  POINT (31.331430700000002 29.845431899999987)    1   \n",
       "\n",
       "   activities  act_no  act_id  activity  distance   start     end  \n",
       "0           3       0     0.0      home  0.000000    -inf   575.0  \n",
       "1           3       1     0.1  personal  5.902421   589.0  1132.0  \n",
       "2           3       2     0.2      home  5.902421  1146.0     inf  "
      ]
     },
     "execution_count": 8,
     "metadata": {},
     "output_type": "execute_result"
    }
   ],
   "source": [
    "df_pop2022.head(3)"
   ]
  },
  {
   "cell_type": "markdown",
   "id": "de57bb91",
   "metadata": {},
   "source": [
    "#### 2022 population only keeping one row per person"
   ]
  },
  {
   "cell_type": "code",
   "execution_count": 8,
   "id": "70a990dd",
   "metadata": {},
   "outputs": [],
   "source": [
    "df_pop2022_ind = df_pop2022[df_pop2022['act_no'] == 0]"
   ]
  },
  {
   "cell_type": "code",
   "execution_count": 9,
   "id": "bba9a15a",
   "metadata": {},
   "outputs": [],
   "source": [
    "df = df_pop2022_ind.drop(labels=['age','gender','car','activities','act_no','act_id','activity',\n",
    "                            'distance', 'start', 'end'], axis=1)"
   ]
  },
  {
   "cell_type": "code",
   "execution_count": 10,
   "id": "2cfb02e5",
   "metadata": {},
   "outputs": [],
   "source": [
    "# Parse the geometry objects using wkt.loads\n",
    "df['geometry'] = df['home_loc'].apply(wkt.loads)"
   ]
  },
  {
   "cell_type": "code",
   "execution_count": 11,
   "id": "ded6c15f",
   "metadata": {},
   "outputs": [],
   "source": [
    "gdf = gpd.GeoDataFrame(df, geometry='geometry')"
   ]
  },
  {
   "cell_type": "markdown",
   "id": "184fb0df",
   "metadata": {},
   "source": [
    "#### Areas including population density data"
   ]
  },
  {
   "cell_type": "code",
   "execution_count": 9,
   "id": "4a9be037",
   "metadata": {},
   "outputs": [],
   "source": [
    "areas = gpd.read_file('data/raw/eg_admin_boundaries/tfc_adm2_bounds_gcr.geojson')"
   ]
  },
  {
   "cell_type": "code",
   "execution_count": 10,
   "id": "d25d47a0",
   "metadata": {},
   "outputs": [],
   "source": [
    "areas['pop2022'] = areas['dens2022-scaled']*areas['area_hect']\n",
    "areas['pop2030-densif'] = areas['dens2030-densif']*areas['area_hect']\n",
    "areas['pop2030-sprawl'] = areas['dens2030-sprawl']*areas['area_hect']"
   ]
  },
  {
   "cell_type": "code",
   "execution_count": 11,
   "id": "e66f8a29",
   "metadata": {},
   "outputs": [],
   "source": [
    "areas = areas.drop(labels=['gov_name','sec_name_a', 'name', 'density', 'area_hect', \n",
    "                           'population','pop_percent','dens2022-scaled','dens2030-densif',\n",
    "                          'dens2030-sprawl'], axis=1)"
   ]
  },
  {
   "cell_type": "markdown",
   "id": "91696c1c",
   "metadata": {},
   "source": [
    "# Step 2: Without car ownership rate changes"
   ]
  },
  {
   "cell_type": "markdown",
   "id": "720b1d99",
   "metadata": {},
   "source": [
    "#### Join areas and individuals"
   ]
  },
  {
   "cell_type": "code",
   "execution_count": 15,
   "id": "2e1354dc",
   "metadata": {},
   "outputs": [
    {
     "name": "stderr",
     "output_type": "stream",
     "text": [
      "/Users/tjark/opt/anaconda3/lib/python3.9/site-packages/IPython/core/interactiveshell.py:3338: FutureWarning: The `op` parameter is deprecated and will be removed in a future release. Please use the `predicate` parameter instead.\n",
      "  if await self.run_code(code, result, async_=asy):\n",
      "/var/folders/93/smcvnv_s04v84f_dnqvd4xkw0000gn/T/ipykernel_18914/1519388609.py:1: UserWarning: CRS mismatch between the CRS of left geometries and the CRS of right geometries.\n",
      "Use `to_crs()` to reproject one of the input geometries to match the CRS of the other.\n",
      "\n",
      "Left CRS: None\n",
      "Right CRS: EPSG:4326\n",
      "\n",
      "  join_result = sjoin(gdf, areas, how='left', op='within')\n"
     ]
    }
   ],
   "source": [
    "join_result = sjoin(gdf, areas, how='left', op='within')"
   ]
  },
  {
   "cell_type": "code",
   "execution_count": 26,
   "id": "aa9f2f63",
   "metadata": {},
   "outputs": [],
   "source": [
    "join_result = join_result.drop(labels=['home_loc','geometry','index_right'], axis=1)"
   ]
  },
  {
   "cell_type": "markdown",
   "id": "f12a8e8a",
   "metadata": {},
   "source": [
    "## Population scaling\n",
    "This section scales the population df_j by its scaling factor resulting from the difference in population between the 2022 and 2030 population."
   ]
  },
  {
   "cell_type": "code",
   "execution_count": 27,
   "id": "90c8b9af",
   "metadata": {},
   "outputs": [],
   "source": [
    "# Create copy of joining resutl\n",
    "df_j = join_result.copy()\n",
    "# Assign occ 1 to base value\n",
    "df_j['occ'] = 1\n",
    "# Define gids as array of all unique ids\n",
    "gids = join_result['gid'].unique()"
   ]
  },
  {
   "cell_type": "markdown",
   "id": "366792d1",
   "metadata": {},
   "source": [
    "### Scaling for 2030 population with densification scenario"
   ]
  },
  {
   "cell_type": "code",
   "execution_count": 251,
   "id": "e52c1487",
   "metadata": {},
   "outputs": [],
   "source": [
    "# Define empty df\n",
    "df_scaled = pd.DataFrame()\n",
    "# Iterate through each area\n",
    "for g in gids:\n",
    "    # Filter df to only include values within area h\n",
    "    filtered_df = df_j[df_j['gid'] == g]\n",
    "    # Calculate scaling factor base by dividing 2030 population with 2022 population for area g\n",
    "    scaling_factor = (areas.loc[areas['gid'] == g, 'pop2030-densif'].item()) / areas.loc[areas['gid'] == g, 'pop2022'].item()\n",
    "    # Temporary scoring scaling factor to assign it to last scaling iterations\n",
    "    temp = int(scaling_factor)\n",
    "    # Empty df for each iterations\n",
    "    random_sample = pd.DataFrame()\n",
    "    # Empty df for each iterations\n",
    "    random_sample_temp = pd.DataFrame()\n",
    "    # Loop through scaling if and while scaling factor is over 2\n",
    "    while scaling_factor > 2:\n",
    "        # Define sample at 100%\n",
    "        sample_size = len(filtered_df)\n",
    "        # Sample 100% without replacement\n",
    "        random_sample_temp = filtered_df.sample(n=sample_size, replace=False, random_state=42)\n",
    "        # Name occurrence depending on while iteration\n",
    "        random_sample_temp['occ'] = int(scaling_factor)\n",
    "        # Concat dfs\n",
    "        random_sample = pd.concat([random_sample, random_sample_temp], ignore_index=True)\n",
    "        # Decrease scaling factor by one for next iteration \n",
    "        scaling_factor -= 1\n",
    "    # Set sample size based on remaining scaling factor -1 of filtered_df length\n",
    "    sample_size = round(len(filtered_df)*(scaling_factor-1))\n",
    "    # Sample without replacement\n",
    "    random_sample_temp = filtered_df.sample(n=sample_size, replace=False, random_state=42)\n",
    "    # Assign new id to occ number based on prior defined temp variable\n",
    "    random_sample_temp['occ'] = temp+1\n",
    "    # Concat original df_scaled df, the while df, and the leftover sample df \n",
    "    df_scaled = pd.concat([df_scaled, random_sample, random_sample_temp], ignore_index=True)\n",
    "    \n",
    "# Concat the original df with the scaled df\n",
    "df_scaled = pd.concat([df_j, df_scaled], ignore_index=True)"
   ]
  },
  {
   "cell_type": "code",
   "execution_count": 253,
   "id": "5acbc19d",
   "metadata": {},
   "outputs": [],
   "source": [
    "df_factors = df_scaled.groupby('person_id').max()"
   ]
  },
  {
   "cell_type": "markdown",
   "id": "54533e1d",
   "metadata": {},
   "source": [
    "### Attach scaling factor to population"
   ]
  },
  {
   "cell_type": "code",
   "execution_count": 293,
   "id": "50ffe4f0",
   "metadata": {},
   "outputs": [],
   "source": [
    "df_pop_factors = df_pop2022.merge(df_factors, on='person_id', how='left')"
   ]
  },
  {
   "cell_type": "code",
   "execution_count": 302,
   "id": "33532f22",
   "metadata": {},
   "outputs": [],
   "source": [
    "# Duplicate each row by the factor in 'occ' column\n",
    "duplicated_df = df_pop_factors.loc[df_pop_factors.index.repeat(df_pop_factors['occ'])].reset_index(drop=True)\n",
    "\n",
    "# Add a column to indicate the number of duplicates\n",
    "duplicated_df['no'] = duplicated_df.groupby(['person_id','act_no']).cumcount() + 1\n",
    "\n",
    "# Convert 'person_id' and 'no' columns to strings\n",
    "duplicated_df['person_id'] = duplicated_df['person_id'].astype(str)\n",
    "duplicated_df['no'] = duplicated_df['no'].astype(str)\n",
    "\n",
    "# Concatenate 'person_id' and 'no' columns\n",
    "duplicated_df['person_id'] = duplicated_df['person_id'] + '.' + duplicated_df['no']"
   ]
  },
  {
   "cell_type": "code",
   "execution_count": 318,
   "id": "d7fcb96d",
   "metadata": {},
   "outputs": [],
   "source": [
    "pop2030_densif = duplicated_df.drop(labels=['gid', 'occ', 'no'], axis=1)"
   ]
  },
  {
   "cell_type": "code",
   "execution_count": 319,
   "id": "b14ade3c",
   "metadata": {},
   "outputs": [
    {
     "data": {
      "text/html": [
       "<div>\n",
       "<style scoped>\n",
       "    .dataframe tbody tr th:only-of-type {\n",
       "        vertical-align: middle;\n",
       "    }\n",
       "\n",
       "    .dataframe tbody tr th {\n",
       "        vertical-align: top;\n",
       "    }\n",
       "\n",
       "    .dataframe thead th {\n",
       "        text-align: right;\n",
       "    }\n",
       "</style>\n",
       "<table border=\"1\" class=\"dataframe\">\n",
       "  <thead>\n",
       "    <tr style=\"text-align: right;\">\n",
       "      <th></th>\n",
       "      <th>person_id</th>\n",
       "      <th>age</th>\n",
       "      <th>gender</th>\n",
       "      <th>home_loc</th>\n",
       "      <th>car</th>\n",
       "      <th>activities</th>\n",
       "      <th>act_no</th>\n",
       "      <th>act_id</th>\n",
       "      <th>activity</th>\n",
       "      <th>distance</th>\n",
       "      <th>start</th>\n",
       "      <th>end</th>\n",
       "    </tr>\n",
       "  </thead>\n",
       "  <tbody>\n",
       "    <tr>\n",
       "      <th>0</th>\n",
       "      <td>0.1</td>\n",
       "      <td>&gt;75</td>\n",
       "      <td>female</td>\n",
       "      <td>POINT (31.331430700000002 29.845431899999987)</td>\n",
       "      <td>1</td>\n",
       "      <td>3</td>\n",
       "      <td>0</td>\n",
       "      <td>0.0</td>\n",
       "      <td>home</td>\n",
       "      <td>0.000000</td>\n",
       "      <td>-inf</td>\n",
       "      <td>575.0</td>\n",
       "    </tr>\n",
       "    <tr>\n",
       "      <th>1</th>\n",
       "      <td>0.1</td>\n",
       "      <td>&gt;75</td>\n",
       "      <td>female</td>\n",
       "      <td>POINT (31.331430700000002 29.845431899999987)</td>\n",
       "      <td>1</td>\n",
       "      <td>3</td>\n",
       "      <td>1</td>\n",
       "      <td>0.1</td>\n",
       "      <td>personal</td>\n",
       "      <td>5.902421</td>\n",
       "      <td>589.0</td>\n",
       "      <td>1132.0</td>\n",
       "    </tr>\n",
       "    <tr>\n",
       "      <th>2</th>\n",
       "      <td>0.1</td>\n",
       "      <td>&gt;75</td>\n",
       "      <td>female</td>\n",
       "      <td>POINT (31.331430700000002 29.845431899999987)</td>\n",
       "      <td>1</td>\n",
       "      <td>3</td>\n",
       "      <td>2</td>\n",
       "      <td>0.2</td>\n",
       "      <td>home</td>\n",
       "      <td>5.902421</td>\n",
       "      <td>1146.0</td>\n",
       "      <td>inf</td>\n",
       "    </tr>\n",
       "  </tbody>\n",
       "</table>\n",
       "</div>"
      ],
      "text/plain": [
       "  person_id  age  gender                                       home_loc  car  \\\n",
       "0       0.1  >75  female  POINT (31.331430700000002 29.845431899999987)    1   \n",
       "1       0.1  >75  female  POINT (31.331430700000002 29.845431899999987)    1   \n",
       "2       0.1  >75  female  POINT (31.331430700000002 29.845431899999987)    1   \n",
       "\n",
       "   activities  act_no  act_id  activity  distance   start     end  \n",
       "0           3       0     0.0      home  0.000000    -inf   575.0  \n",
       "1           3       1     0.1  personal  5.902421   589.0  1132.0  \n",
       "2           3       2     0.2      home  5.902421  1146.0     inf  "
      ]
     },
     "execution_count": 319,
     "metadata": {},
     "output_type": "execute_result"
    }
   ],
   "source": [
    "pop2030_densif.head(3)"
   ]
  },
  {
   "cell_type": "code",
   "execution_count": 320,
   "id": "2ccd9335",
   "metadata": {},
   "outputs": [],
   "source": [
    "# Export \n",
    "pop2030_densif.to_csv('data/interim/activitychains/pop2030_densif_100perc.csv', index=False)"
   ]
  },
  {
   "cell_type": "markdown",
   "id": "d37df05d",
   "metadata": {},
   "source": [
    "### Scaling for 2030 population with sprawl scenario"
   ]
  },
  {
   "cell_type": "code",
   "execution_count": 29,
   "id": "6f3aee4f",
   "metadata": {},
   "outputs": [],
   "source": [
    "# Define empty df\n",
    "df_scaled = pd.DataFrame()\n",
    "under1 = []\n",
    "# Iterate through each area\n",
    "for g in gids:\n",
    "    # Filter df to only include values within area h\n",
    "    filtered_df = df_j[df_j['gid'] == g]\n",
    "    # Calculate scaling factor base by dividing 2030 population with 2022 population for area g\n",
    "    scaling_factor = (areas.loc[areas['gid'] == g, 'pop2030-sprawl'].item()) / areas.loc[areas['gid'] == g, 'pop2022'].item()\n",
    "    # Temporary scoring scaling factor to assign it to last scaling iterations\n",
    "    temp = int(scaling_factor)\n",
    "    # Empty df for each iterations\n",
    "    random_sample = pd.DataFrame()\n",
    "    # Empty df for each iterations\n",
    "    random_sample_temp = pd.DataFrame()\n",
    "    if scaling_factor > 1:\n",
    "        # Loop through scaling if and while scaling factor is over 2\n",
    "        while scaling_factor > 2:\n",
    "            # Define sample at 100%\n",
    "            sample_size = len(filtered_df)\n",
    "            # Sample 100% without replacement\n",
    "            random_sample_temp = filtered_df.sample(n=sample_size, replace=False, random_state=42)\n",
    "            # Name occurrence depending on while iteration\n",
    "            random_sample_temp['occ'] = int(scaling_factor)\n",
    "            # Concat dfs\n",
    "            random_sample = pd.concat([random_sample, random_sample_temp], ignore_index=True)\n",
    "            # Decrease scaling factor by one for next iteration \n",
    "            scaling_factor -= 1\n",
    "        # Set sample size based on remaining scaling factor -1 of filtered_df length\n",
    "        sample_size = round(len(filtered_df)*(scaling_factor-1))\n",
    "        # Sample without replacement\n",
    "        random_sample_temp = filtered_df.sample(n=sample_size, replace=False, random_state=42)\n",
    "        # Assign new id to occ number based on prior defined temp variable\n",
    "        random_sample_temp['occ'] = temp+1\n",
    "        # Concat original df_scaled df, the while df, and the leftover sample df \n",
    "        df_scaled = pd.concat([df_scaled, random_sample, random_sample_temp], ignore_index=True)\n",
    "    else: \n",
    "         # Set sample size based on remaining scaling factor -1 of filtered_df length\n",
    "        sample_size = round(len(filtered_df)*(scaling_factor))\n",
    "        # Sample without replacement\n",
    "        random_sample_temp = filtered_df.sample(n=sample_size, replace=False, random_state=42)\n",
    "        # Assign new id to occ number based on prior defined temp variable\n",
    "        random_sample_temp['occ'] = temp+1\n",
    "        # Concat original df_scaled df, the while df, and the leftover sample df \n",
    "        df_scaled = pd.concat([df_scaled, random_sample, random_sample_temp], ignore_index=True)\n",
    "        under1.append(g)\n",
    "\n",
    "# Create a mask to filter the DataFrame\n",
    "mask = df_j['gid'].apply(lambda x: x in under1)\n",
    "# Apply the mask to create a new DataFrame\n",
    "df_j_temp = df_j[~(mask)]\n",
    "\n",
    "# Concat the original df with the scaled df\n",
    "df_scaled = pd.concat([df_j_temp, df_scaled], ignore_index=True)"
   ]
  },
  {
   "cell_type": "code",
   "execution_count": 30,
   "id": "415013cc",
   "metadata": {},
   "outputs": [],
   "source": [
    "df_factors = df_scaled.groupby('person_id').max()"
   ]
  },
  {
   "cell_type": "markdown",
   "id": "4ee295fd",
   "metadata": {},
   "source": [
    "### Attach scaling factor to population"
   ]
  },
  {
   "cell_type": "code",
   "execution_count": 31,
   "id": "a5abeb54",
   "metadata": {},
   "outputs": [],
   "source": [
    "df_pop_factors = df_pop2022.merge(df_factors, on='person_id', how='inner')"
   ]
  },
  {
   "cell_type": "code",
   "execution_count": 32,
   "id": "3ee7098a",
   "metadata": {},
   "outputs": [],
   "source": [
    "# Duplicate each row by the factor in 'occ' column\n",
    "duplicated_df = df_pop_factors.loc[df_pop_factors.index.repeat(df_pop_factors['occ'])].reset_index(drop=True)\n",
    "\n",
    "# Add a column to indicate the number of duplicates\n",
    "duplicated_df['no'] = duplicated_df.groupby(['person_id','act_no']).cumcount() + 1\n",
    "\n",
    "# Convert 'person_id' and 'no' columns to strings\n",
    "duplicated_df['person_id'] = duplicated_df['person_id'].astype(str)\n",
    "duplicated_df['no'] = duplicated_df['no'].astype(str)\n",
    "\n",
    "# Concatenate 'person_id' and 'no' columns\n",
    "duplicated_df['person_id'] = duplicated_df['person_id'] + '.' + duplicated_df['no']"
   ]
  },
  {
   "cell_type": "code",
   "execution_count": 33,
   "id": "f9a973df",
   "metadata": {},
   "outputs": [],
   "source": [
    "pop2030_sprawl = duplicated_df.drop(labels=['gid', 'occ', 'no'], axis=1)"
   ]
  },
  {
   "cell_type": "code",
   "execution_count": 34,
   "id": "3f256ce8",
   "metadata": {},
   "outputs": [
    {
     "data": {
      "text/html": [
       "<div>\n",
       "<style scoped>\n",
       "    .dataframe tbody tr th:only-of-type {\n",
       "        vertical-align: middle;\n",
       "    }\n",
       "\n",
       "    .dataframe tbody tr th {\n",
       "        vertical-align: top;\n",
       "    }\n",
       "\n",
       "    .dataframe thead th {\n",
       "        text-align: right;\n",
       "    }\n",
       "</style>\n",
       "<table border=\"1\" class=\"dataframe\">\n",
       "  <thead>\n",
       "    <tr style=\"text-align: right;\">\n",
       "      <th></th>\n",
       "      <th>person_id</th>\n",
       "      <th>age</th>\n",
       "      <th>gender</th>\n",
       "      <th>home_loc</th>\n",
       "      <th>car</th>\n",
       "      <th>activities</th>\n",
       "      <th>act_no</th>\n",
       "      <th>act_id</th>\n",
       "      <th>activity</th>\n",
       "      <th>distance</th>\n",
       "      <th>start</th>\n",
       "      <th>end</th>\n",
       "      <th>pop2022</th>\n",
       "      <th>pop2030-densif</th>\n",
       "      <th>pop2030-sprawl</th>\n",
       "    </tr>\n",
       "  </thead>\n",
       "  <tbody>\n",
       "    <tr>\n",
       "      <th>0</th>\n",
       "      <td>0.1</td>\n",
       "      <td>&gt;75</td>\n",
       "      <td>female</td>\n",
       "      <td>POINT (31.331430700000002 29.845431899999987)</td>\n",
       "      <td>1</td>\n",
       "      <td>3</td>\n",
       "      <td>0</td>\n",
       "      <td>0.0</td>\n",
       "      <td>home</td>\n",
       "      <td>0.000000</td>\n",
       "      <td>-inf</td>\n",
       "      <td>575.0</td>\n",
       "      <td>682752</td>\n",
       "      <td>731584</td>\n",
       "      <td>716408</td>\n",
       "    </tr>\n",
       "    <tr>\n",
       "      <th>1</th>\n",
       "      <td>0.1</td>\n",
       "      <td>&gt;75</td>\n",
       "      <td>female</td>\n",
       "      <td>POINT (31.331430700000002 29.845431899999987)</td>\n",
       "      <td>1</td>\n",
       "      <td>3</td>\n",
       "      <td>1</td>\n",
       "      <td>0.1</td>\n",
       "      <td>personal</td>\n",
       "      <td>5.902421</td>\n",
       "      <td>589.0</td>\n",
       "      <td>1132.0</td>\n",
       "      <td>682752</td>\n",
       "      <td>731584</td>\n",
       "      <td>716408</td>\n",
       "    </tr>\n",
       "    <tr>\n",
       "      <th>2</th>\n",
       "      <td>0.1</td>\n",
       "      <td>&gt;75</td>\n",
       "      <td>female</td>\n",
       "      <td>POINT (31.331430700000002 29.845431899999987)</td>\n",
       "      <td>1</td>\n",
       "      <td>3</td>\n",
       "      <td>2</td>\n",
       "      <td>0.2</td>\n",
       "      <td>home</td>\n",
       "      <td>5.902421</td>\n",
       "      <td>1146.0</td>\n",
       "      <td>inf</td>\n",
       "      <td>682752</td>\n",
       "      <td>731584</td>\n",
       "      <td>716408</td>\n",
       "    </tr>\n",
       "  </tbody>\n",
       "</table>\n",
       "</div>"
      ],
      "text/plain": [
       "  person_id  age  gender                                       home_loc  car  \\\n",
       "0       0.1  >75  female  POINT (31.331430700000002 29.845431899999987)    1   \n",
       "1       0.1  >75  female  POINT (31.331430700000002 29.845431899999987)    1   \n",
       "2       0.1  >75  female  POINT (31.331430700000002 29.845431899999987)    1   \n",
       "\n",
       "   activities  act_no  act_id  activity  distance   start     end  pop2022  \\\n",
       "0           3       0     0.0      home  0.000000    -inf   575.0   682752   \n",
       "1           3       1     0.1  personal  5.902421   589.0  1132.0   682752   \n",
       "2           3       2     0.2      home  5.902421  1146.0     inf   682752   \n",
       "\n",
       "   pop2030-densif  pop2030-sprawl  \n",
       "0          731584          716408  \n",
       "1          731584          716408  \n",
       "2          731584          716408  "
      ]
     },
     "execution_count": 34,
     "metadata": {},
     "output_type": "execute_result"
    }
   ],
   "source": [
    "pop2030_sprawl.head(3)"
   ]
  },
  {
   "cell_type": "code",
   "execution_count": 38,
   "id": "499d0dff",
   "metadata": {},
   "outputs": [],
   "source": [
    "# Export \n",
    "pop2030_sprawl.to_csv('data/interim/activitychains/pop2030_sprawl_100perc.csv', index=False)"
   ]
  },
  {
   "cell_type": "markdown",
   "id": "6e57c240",
   "metadata": {},
   "source": [
    "At this stage, two of the four scenarios are prepared. Missing are the two with changes in the car ownership"
   ]
  },
  {
   "cell_type": "markdown",
   "id": "fc94f094",
   "metadata": {},
   "source": [
    "# Step 3: With changing car ownership rates"
   ]
  },
  {
   "cell_type": "markdown",
   "id": "7e35791f",
   "metadata": {},
   "source": [
    "The idea is to replicate the above process but add a step before which scales the individuals with cars proportionally to their occurrence before repeating the other steps."
   ]
  },
  {
   "cell_type": "code",
   "execution_count": 13,
   "id": "d3c99ae7",
   "metadata": {},
   "outputs": [],
   "source": [
    "# Set target percentage of car ownership\n",
    "target_perc = 0.29"
   ]
  },
  {
   "cell_type": "code",
   "execution_count": 14,
   "id": "5393a561",
   "metadata": {},
   "outputs": [],
   "source": [
    "df_clustered = pd.read_csv('data/interim/clustering/person_ids_clustered.csv')"
   ]
  },
  {
   "cell_type": "code",
   "execution_count": 15,
   "id": "9a95da34",
   "metadata": {},
   "outputs": [],
   "source": [
    "df = df_pop2022.merge(df_clustered, on='person_id', how='left')"
   ]
  },
  {
   "cell_type": "code",
   "execution_count": 16,
   "id": "5e884ebd",
   "metadata": {},
   "outputs": [],
   "source": [
    "df_grouped = df.groupby('person_id').first().reset_index()"
   ]
  },
  {
   "cell_type": "code",
   "execution_count": 17,
   "id": "7dea6c4a",
   "metadata": {},
   "outputs": [
    {
     "name": "stdout",
     "output_type": "stream",
     "text": [
      "0.20072404110403938\n"
     ]
    }
   ],
   "source": [
    "current_perc = len(df_grouped[df_grouped['car'] == 1])/len(df_grouped)\n",
    "print(current_perc)"
   ]
  },
  {
   "cell_type": "code",
   "execution_count": 18,
   "id": "a8a43a8d",
   "metadata": {},
   "outputs": [],
   "source": [
    "pop_no = len(df_grouped)\n",
    "car_no = len(df_grouped[df_grouped['car'] == 1])"
   ]
  },
  {
   "cell_type": "code",
   "execution_count": 19,
   "id": "b0eeddb6",
   "metadata": {},
   "outputs": [
    {
     "name": "stdout",
     "output_type": "stream",
     "text": [
      "Final number of people with cars is 4991292\n",
      "––––––––––––––––––––––––––––––––––––––––\n",
      "This means addition 1922440\n"
     ]
    }
   ],
   "source": [
    "perc = current_perc\n",
    "while perc < .29:\n",
    "    pop_no += 1\n",
    "    car_no += 1\n",
    "    perc = car_no/pop_no\n",
    "    \n",
    "add_cars = car_no-len(df_grouped[df_grouped[\"car\"] == 1])\n",
    "print(f'Final number of people with cars is {car_no}')\n",
    "print('––––––––––––––––––––––––––––––––––––––––')\n",
    "print(f'This means addition {add_cars}')"
   ]
  },
  {
   "cell_type": "code",
   "execution_count": 20,
   "id": "302e4424",
   "metadata": {},
   "outputs": [],
   "source": [
    "new_car_people = df_grouped[df_grouped['car'] == 1].sample(n=add_cars, replace=False, random_state=42)"
   ]
  },
  {
   "cell_type": "code",
   "execution_count": 21,
   "id": "b108c2dd",
   "metadata": {},
   "outputs": [],
   "source": [
    "new_car_people_ids = new_car_people['person_id'].unique()"
   ]
  },
  {
   "cell_type": "code",
   "execution_count": 22,
   "id": "b3b24875",
   "metadata": {},
   "outputs": [],
   "source": [
    "new_car_people_ids_set = set(new_car_people_ids)"
   ]
  },
  {
   "cell_type": "code",
   "execution_count": 23,
   "id": "bb88a0f7",
   "metadata": {},
   "outputs": [],
   "source": [
    "df['person_id'] = df['person_id'].astype(int)"
   ]
  },
  {
   "cell_type": "code",
   "execution_count": 24,
   "id": "d18cc924",
   "metadata": {},
   "outputs": [],
   "source": [
    "new_car_people_ids_set = {int(value) for value in new_car_people_ids_set}"
   ]
  },
  {
   "cell_type": "code",
   "execution_count": 25,
   "id": "131c85da",
   "metadata": {},
   "outputs": [
    {
     "name": "stdout",
     "output_type": "stream",
     "text": [
      "7058758\n"
     ]
    }
   ],
   "source": [
    "# # Create a mask to filter the DataFrame\n",
    "mask = df['person_id'].isin(new_car_people_ids_set)\n",
    "print(mask.sum())"
   ]
  },
  {
   "cell_type": "code",
   "execution_count": 26,
   "id": "79b38c27",
   "metadata": {},
   "outputs": [],
   "source": [
    "# Apply the mask to create a new DataFrame\n",
    "df_temp = df[mask]"
   ]
  },
  {
   "cell_type": "code",
   "execution_count": 27,
   "id": "ba2cb09b",
   "metadata": {},
   "outputs": [
    {
     "name": "stderr",
     "output_type": "stream",
     "text": [
      "/var/folders/93/smcvnv_s04v84f_dnqvd4xkw0000gn/T/ipykernel_31230/4259117529.py:2: SettingWithCopyWarning: \n",
      "A value is trying to be set on a copy of a slice from a DataFrame.\n",
      "Try using .loc[row_indexer,col_indexer] = value instead\n",
      "\n",
      "See the caveats in the documentation: https://pandas.pydata.org/pandas-docs/stable/user_guide/indexing.html#returning-a-view-versus-a-copy\n",
      "  df_temp['person_id'] = df_temp['person_id'].astype(str)\n",
      "/var/folders/93/smcvnv_s04v84f_dnqvd4xkw0000gn/T/ipykernel_31230/4259117529.py:5: SettingWithCopyWarning: \n",
      "A value is trying to be set on a copy of a slice from a DataFrame.\n",
      "Try using .loc[row_indexer,col_indexer] = value instead\n",
      "\n",
      "See the caveats in the documentation: https://pandas.pydata.org/pandas-docs/stable/user_guide/indexing.html#returning-a-view-versus-a-copy\n",
      "  df_temp['person_id'] = df_temp['person_id'] + \"b\"\n"
     ]
    }
   ],
   "source": [
    "# Convert the 'person_id' column to string type\n",
    "df_temp['person_id'] = df_temp['person_id'].astype(str)\n",
    "\n",
    "# Add a suffix \"b\" to the 'person_id' column\n",
    "df_temp['person_id'] = df_temp['person_id'] + \"b\""
   ]
  },
  {
   "cell_type": "code",
   "execution_count": 28,
   "id": "f0cae1cf",
   "metadata": {},
   "outputs": [
    {
     "data": {
      "text/plain": [
       "1922440"
      ]
     },
     "execution_count": 28,
     "metadata": {},
     "output_type": "execute_result"
    }
   ],
   "source": [
    "df_temp['person_id'].nunique() # should be add_cars, here 1922441"
   ]
  },
  {
   "cell_type": "code",
   "execution_count": 29,
   "id": "cd118248",
   "metadata": {},
   "outputs": [],
   "source": [
    "# Concat the original df with the car df\n",
    "df_pop2022_car = pd.concat([df, df_temp], ignore_index=True)"
   ]
  },
  {
   "cell_type": "code",
   "execution_count": 31,
   "id": "67b27ca3",
   "metadata": {},
   "outputs": [
    {
     "data": {
      "text/html": [
       "<div>\n",
       "<style scoped>\n",
       "    .dataframe tbody tr th:only-of-type {\n",
       "        vertical-align: middle;\n",
       "    }\n",
       "\n",
       "    .dataframe tbody tr th {\n",
       "        vertical-align: top;\n",
       "    }\n",
       "\n",
       "    .dataframe thead th {\n",
       "        text-align: right;\n",
       "    }\n",
       "</style>\n",
       "<table border=\"1\" class=\"dataframe\">\n",
       "  <thead>\n",
       "    <tr style=\"text-align: right;\">\n",
       "      <th></th>\n",
       "      <th>person_id</th>\n",
       "      <th>age</th>\n",
       "      <th>gender</th>\n",
       "      <th>home_loc</th>\n",
       "      <th>car</th>\n",
       "      <th>activities</th>\n",
       "      <th>act_no</th>\n",
       "      <th>act_id</th>\n",
       "      <th>activity</th>\n",
       "      <th>distance</th>\n",
       "      <th>start</th>\n",
       "      <th>end</th>\n",
       "      <th>CLUSTER</th>\n",
       "    </tr>\n",
       "  </thead>\n",
       "  <tbody>\n",
       "    <tr>\n",
       "      <th>0</th>\n",
       "      <td>0</td>\n",
       "      <td>&gt;75</td>\n",
       "      <td>female</td>\n",
       "      <td>POINT (31.331430700000002 29.845431899999987)</td>\n",
       "      <td>1</td>\n",
       "      <td>3</td>\n",
       "      <td>0</td>\n",
       "      <td>0.0</td>\n",
       "      <td>home</td>\n",
       "      <td>0.000000</td>\n",
       "      <td>-inf</td>\n",
       "      <td>575.0</td>\n",
       "      <td>5</td>\n",
       "    </tr>\n",
       "    <tr>\n",
       "      <th>1</th>\n",
       "      <td>0</td>\n",
       "      <td>&gt;75</td>\n",
       "      <td>female</td>\n",
       "      <td>POINT (31.331430700000002 29.845431899999987)</td>\n",
       "      <td>1</td>\n",
       "      <td>3</td>\n",
       "      <td>1</td>\n",
       "      <td>0.1</td>\n",
       "      <td>personal</td>\n",
       "      <td>5.902421</td>\n",
       "      <td>589.0</td>\n",
       "      <td>1132.0</td>\n",
       "      <td>5</td>\n",
       "    </tr>\n",
       "    <tr>\n",
       "      <th>2</th>\n",
       "      <td>0</td>\n",
       "      <td>&gt;75</td>\n",
       "      <td>female</td>\n",
       "      <td>POINT (31.331430700000002 29.845431899999987)</td>\n",
       "      <td>1</td>\n",
       "      <td>3</td>\n",
       "      <td>2</td>\n",
       "      <td>0.2</td>\n",
       "      <td>home</td>\n",
       "      <td>5.902421</td>\n",
       "      <td>1146.0</td>\n",
       "      <td>inf</td>\n",
       "      <td>5</td>\n",
       "    </tr>\n",
       "  </tbody>\n",
       "</table>\n",
       "</div>"
      ],
      "text/plain": [
       "  person_id  age  gender                                       home_loc  car  \\\n",
       "0         0  >75  female  POINT (31.331430700000002 29.845431899999987)    1   \n",
       "1         0  >75  female  POINT (31.331430700000002 29.845431899999987)    1   \n",
       "2         0  >75  female  POINT (31.331430700000002 29.845431899999987)    1   \n",
       "\n",
       "   activities  act_no  act_id  activity  distance   start     end  CLUSTER  \n",
       "0           3       0     0.0      home  0.000000    -inf   575.0        5  \n",
       "1           3       1     0.1  personal  5.902421   589.0  1132.0        5  \n",
       "2           3       2     0.2      home  5.902421  1146.0     inf        5  "
      ]
     },
     "execution_count": 31,
     "metadata": {},
     "output_type": "execute_result"
    }
   ],
   "source": [
    "df_pop2022_car.head(3)"
   ]
  },
  {
   "cell_type": "markdown",
   "id": "f0abaf26",
   "metadata": {},
   "source": [
    "## Repeat adpated previous steps for geographical scaling"
   ]
  },
  {
   "cell_type": "markdown",
   "id": "cd5f5784",
   "metadata": {},
   "source": [
    "#### 2022 population with car reweighting only keeping one row per person"
   ]
  },
  {
   "cell_type": "code",
   "execution_count": 32,
   "id": "913350a1",
   "metadata": {},
   "outputs": [],
   "source": [
    "df_ind = df_pop2022_car[df_pop2022_car['act_no'] == 0]"
   ]
  },
  {
   "cell_type": "code",
   "execution_count": 33,
   "id": "9aa32e3f",
   "metadata": {},
   "outputs": [],
   "source": [
    "df = df_ind.drop(labels=['age','gender','car','activities','act_no','act_id','activity',\n",
    "                            'distance', 'start', 'end'], axis=1)"
   ]
  },
  {
   "cell_type": "code",
   "execution_count": 34,
   "id": "e2354065",
   "metadata": {},
   "outputs": [],
   "source": [
    "# Parse the geometry objects using wkt.loads\n",
    "df['geometry'] = df['home_loc'].apply(wkt.loads)"
   ]
  },
  {
   "cell_type": "code",
   "execution_count": 35,
   "id": "0bfeeaaf",
   "metadata": {},
   "outputs": [],
   "source": [
    "gdf = gpd.GeoDataFrame(df, geometry='geometry')"
   ]
  },
  {
   "cell_type": "markdown",
   "id": "e2cecae6",
   "metadata": {},
   "source": [
    "#### Join areas and individuals"
   ]
  },
  {
   "cell_type": "code",
   "execution_count": 36,
   "id": "c65bf5c1",
   "metadata": {},
   "outputs": [
    {
     "name": "stderr",
     "output_type": "stream",
     "text": [
      "/Users/tjark/opt/anaconda3/lib/python3.9/site-packages/IPython/core/interactiveshell.py:3338: FutureWarning: The `op` parameter is deprecated and will be removed in a future release. Please use the `predicate` parameter instead.\n",
      "  if await self.run_code(code, result, async_=asy):\n",
      "/var/folders/93/smcvnv_s04v84f_dnqvd4xkw0000gn/T/ipykernel_31230/1519388609.py:1: UserWarning: CRS mismatch between the CRS of left geometries and the CRS of right geometries.\n",
      "Use `to_crs()` to reproject one of the input geometries to match the CRS of the other.\n",
      "\n",
      "Left CRS: None\n",
      "Right CRS: EPSG:4326\n",
      "\n",
      "  join_result = sjoin(gdf, areas, how='left', op='within')\n"
     ]
    }
   ],
   "source": [
    "join_result = sjoin(gdf, areas, how='left', op='within')"
   ]
  },
  {
   "cell_type": "code",
   "execution_count": 37,
   "id": "e6f127c0",
   "metadata": {},
   "outputs": [
    {
     "data": {
      "text/html": [
       "<div>\n",
       "<style scoped>\n",
       "    .dataframe tbody tr th:only-of-type {\n",
       "        vertical-align: middle;\n",
       "    }\n",
       "\n",
       "    .dataframe tbody tr th {\n",
       "        vertical-align: top;\n",
       "    }\n",
       "\n",
       "    .dataframe thead th {\n",
       "        text-align: right;\n",
       "    }\n",
       "</style>\n",
       "<table border=\"1\" class=\"dataframe\">\n",
       "  <thead>\n",
       "    <tr style=\"text-align: right;\">\n",
       "      <th></th>\n",
       "      <th>person_id</th>\n",
       "      <th>home_loc</th>\n",
       "      <th>CLUSTER</th>\n",
       "      <th>geometry</th>\n",
       "      <th>index_right</th>\n",
       "      <th>gid</th>\n",
       "      <th>pop2022</th>\n",
       "      <th>pop2030-densif</th>\n",
       "      <th>pop2030-sprawl</th>\n",
       "    </tr>\n",
       "  </thead>\n",
       "  <tbody>\n",
       "    <tr>\n",
       "      <th>0</th>\n",
       "      <td>0</td>\n",
       "      <td>POINT (31.331430700000002 29.845431899999987)</td>\n",
       "      <td>5</td>\n",
       "      <td>POINT (31.33143 29.84543)</td>\n",
       "      <td>0</td>\n",
       "      <td>2</td>\n",
       "      <td>682752</td>\n",
       "      <td>731584</td>\n",
       "      <td>716408</td>\n",
       "    </tr>\n",
       "    <tr>\n",
       "      <th>3</th>\n",
       "      <td>1</td>\n",
       "      <td>POINT (31.313874 29.8144589)</td>\n",
       "      <td>2</td>\n",
       "      <td>POINT (31.31387 29.81446)</td>\n",
       "      <td>0</td>\n",
       "      <td>2</td>\n",
       "      <td>682752</td>\n",
       "      <td>731584</td>\n",
       "      <td>716408</td>\n",
       "    </tr>\n",
       "    <tr>\n",
       "      <th>6</th>\n",
       "      <td>2</td>\n",
       "      <td>POINT (31.3075189 29.860689800000003)</td>\n",
       "      <td>8</td>\n",
       "      <td>POINT (31.30752 29.86069)</td>\n",
       "      <td>0</td>\n",
       "      <td>2</td>\n",
       "      <td>682752</td>\n",
       "      <td>731584</td>\n",
       "      <td>716408</td>\n",
       "    </tr>\n",
       "  </tbody>\n",
       "</table>\n",
       "</div>"
      ],
      "text/plain": [
       "  person_id                                       home_loc  CLUSTER  \\\n",
       "0         0  POINT (31.331430700000002 29.845431899999987)        5   \n",
       "3         1                   POINT (31.313874 29.8144589)        2   \n",
       "6         2          POINT (31.3075189 29.860689800000003)        8   \n",
       "\n",
       "                    geometry  index_right  gid  pop2022  pop2030-densif  \\\n",
       "0  POINT (31.33143 29.84543)            0    2   682752          731584   \n",
       "3  POINT (31.31387 29.81446)            0    2   682752          731584   \n",
       "6  POINT (31.30752 29.86069)            0    2   682752          731584   \n",
       "\n",
       "   pop2030-sprawl  \n",
       "0          716408  \n",
       "3          716408  \n",
       "6          716408  "
      ]
     },
     "execution_count": 37,
     "metadata": {},
     "output_type": "execute_result"
    }
   ],
   "source": [
    "join_result.head(3)"
   ]
  },
  {
   "cell_type": "code",
   "execution_count": 38,
   "id": "2b23db04",
   "metadata": {},
   "outputs": [],
   "source": [
    "join_result = join_result.drop(labels=['home_loc','geometry','index_right'], axis=1)"
   ]
  },
  {
   "cell_type": "markdown",
   "id": "a3a35363",
   "metadata": {},
   "source": [
    "## Population scaling\n",
    "This section scales the population df_j by its scaling factor resulting from the difference in population between the 2022 and 2030 population."
   ]
  },
  {
   "cell_type": "code",
   "execution_count": 39,
   "id": "fffa8178",
   "metadata": {},
   "outputs": [],
   "source": [
    "# Create copy of joining resutl\n",
    "df_j = join_result.copy()\n",
    "# Assign occ 1 to base value\n",
    "df_j['occ'] = 1\n",
    "# Define gids as array of all unique ids\n",
    "gids = join_result['gid'].unique()"
   ]
  },
  {
   "cell_type": "markdown",
   "id": "0e829039",
   "metadata": {},
   "source": [
    "### Scaling for 2030 population with densification scenario"
   ]
  },
  {
   "cell_type": "code",
   "execution_count": 40,
   "id": "7af87b73",
   "metadata": {},
   "outputs": [],
   "source": [
    "df_j_grouped = df_j.groupby('gid').count()"
   ]
  },
  {
   "cell_type": "code",
   "execution_count": 41,
   "id": "e879059f",
   "metadata": {},
   "outputs": [],
   "source": [
    "df_j_grouped = df_j_grouped.drop(labels=['person_id','CLUSTER','pop2030-densif',\n",
    "                                         'pop2030-sprawl', 'occ'], axis=1)"
   ]
  },
  {
   "cell_type": "code",
   "execution_count": 42,
   "id": "6c36c99b",
   "metadata": {},
   "outputs": [],
   "source": [
    "df_j_grouped = df_j_grouped.reset_index()"
   ]
  },
  {
   "cell_type": "code",
   "execution_count": 131,
   "id": "19451058",
   "metadata": {},
   "outputs": [],
   "source": [
    "# Define empty df\n",
    "df_scaled = pd.DataFrame()\n",
    "under1 = []\n",
    "# Iterate through each area\n",
    "for g in gids:\n",
    "   # Filter df to only include values within area h\n",
    "    filtered_df = df_j[df_j['gid'] == g]\n",
    "    # Calculate scaling factor base by dividing 2030 population with 2022 population for area g\n",
    "    scaling_factor = (areas.loc[areas['gid'] == g, 'pop2030-densif'].item()) / (df_j_grouped.loc[df_j_grouped['gid'] == g, 'pop2022'].item()/0.675)\n",
    "    # Temporary scoring scaling factor to assign it to last scaling iterations\n",
    "    temp = int(scaling_factor)\n",
    "    # Empty df for each iterations\n",
    "    random_sample = pd.DataFrame()\n",
    "    # Empty df for each iterations\n",
    "    random_sample_temp = pd.DataFrame()\n",
    "    if scaling_factor > 1:\n",
    "        # Loop through scaling if and while scaling factor is over 2\n",
    "        while scaling_factor > 2:\n",
    "            # Define sample at 100%\n",
    "            sample_size = len(filtered_df)\n",
    "            # Sample 100% without replacement\n",
    "            random_sample_temp = filtered_df.sample(n=sample_size, replace=False, random_state=42)\n",
    "            # Name occurrence depending on while iteration\n",
    "            random_sample_temp['occ'] = int(scaling_factor)\n",
    "            # Concat dfs\n",
    "            random_sample = pd.concat([random_sample, random_sample_temp], ignore_index=True)\n",
    "            # Decrease scaling factor by one for next iteration \n",
    "            scaling_factor -= 1\n",
    "        # Set sample size based on remaining scaling factor -1 of filtered_df length\n",
    "        sample_size = round(len(filtered_df)*(scaling_factor-1))\n",
    "        # Sample without replacement\n",
    "        random_sample_temp = filtered_df.sample(n=sample_size, replace=False, random_state=42)\n",
    "        # Assign new id to occ number based on prior defined temp variable\n",
    "        random_sample_temp['occ'] = temp+1\n",
    "        # Concat original df_scaled df, the while df, and the leftover sample df \n",
    "        df_scaled = pd.concat([df_scaled, random_sample, random_sample_temp], ignore_index=True)\n",
    "    else: \n",
    "        # Set sample size based on remaining scaling factor -1 of filtered_df length\n",
    "        sample_size = round(len(filtered_df)*(scaling_factor))\n",
    "        # Sample without replacement\n",
    "        random_sample_temp = filtered_df.sample(n=sample_size, replace=False, random_state=42)\n",
    "        # Assign new id to occ number based on prior defined temp variable\n",
    "        random_sample_temp['occ'] = temp+1\n",
    "        # Concat original df_scaled df, the while df, and the leftover sample df \n",
    "        df_scaled = pd.concat([df_scaled, random_sample, random_sample_temp], ignore_index=True)\n",
    "        under1.append(g)\n",
    "\n",
    "# Create a mask to filter the DataFrame\n",
    "mask = df_j['gid'].apply(lambda x: x in under1)\n",
    "# Apply the mask to create a new DataFrame\n",
    "df_j_temp = df_j[~(mask)]\n",
    "\n",
    "# Concat the original df with the scaled df\n",
    "df_scaled = pd.concat([df_j_temp, df_scaled], ignore_index=True)"
   ]
  },
  {
   "cell_type": "code",
   "execution_count": 132,
   "id": "df654c7d",
   "metadata": {},
   "outputs": [
    {
     "data": {
      "text/plain": [
       "17188337"
      ]
     },
     "execution_count": 132,
     "metadata": {},
     "output_type": "execute_result"
    }
   ],
   "source": [
    "len(df_scaled)"
   ]
  },
  {
   "cell_type": "code",
   "execution_count": 133,
   "id": "82ef40ba",
   "metadata": {},
   "outputs": [],
   "source": [
    "df_factors = df_scaled.groupby('person_id').max()"
   ]
  },
  {
   "cell_type": "markdown",
   "id": "4f172a39",
   "metadata": {},
   "source": [
    "### Attach scaling factor to population"
   ]
  },
  {
   "cell_type": "code",
   "execution_count": 134,
   "id": "fa420390",
   "metadata": {},
   "outputs": [
    {
     "data": {
      "text/plain": [
       "17211351"
      ]
     },
     "execution_count": 134,
     "metadata": {},
     "output_type": "execute_result"
    }
   ],
   "source": [
    "df_pop2022_car['person_id'].nunique()"
   ]
  },
  {
   "cell_type": "code",
   "execution_count": 135,
   "id": "f0f75481",
   "metadata": {},
   "outputs": [],
   "source": [
    "df_factors = df_factors.reset_index()"
   ]
  },
  {
   "cell_type": "code",
   "execution_count": 137,
   "id": "094d1f28",
   "metadata": {},
   "outputs": [],
   "source": [
    "df_pop_factors = df_pop2022_car.merge(df_factors, on='person_id', how='inner')"
   ]
  },
  {
   "cell_type": "code",
   "execution_count": 138,
   "id": "55046f4a",
   "metadata": {},
   "outputs": [],
   "source": [
    "# Duplicate each row by the factor in 'occ' column\n",
    "duplicated_df = df_pop_factors.loc[df_pop_factors.index.repeat(df_pop_factors['occ'])].reset_index(drop=True)"
   ]
  },
  {
   "cell_type": "code",
   "execution_count": 140,
   "id": "9bbf8ee2",
   "metadata": {},
   "outputs": [],
   "source": [
    "# Add a column to indicate the number of duplicates\n",
    "duplicated_df['no'] = duplicated_df.groupby(['person_id','act_no']).cumcount() + 1\n",
    "\n",
    "# Convert 'person_id' and 'no' columns to strings\n",
    "duplicated_df['person_id'] = duplicated_df['person_id'].astype(str)\n",
    "duplicated_df['no'] = duplicated_df['no'].astype(str)\n",
    "\n",
    "# Concatenate 'person_id' and 'no' columns\n",
    "duplicated_df['person_id'] = duplicated_df['person_id'] + '.' + duplicated_df['no']"
   ]
  },
  {
   "cell_type": "code",
   "execution_count": 141,
   "id": "b2d3db15",
   "metadata": {},
   "outputs": [],
   "source": [
    "pop2030_densif_car = duplicated_df.drop(labels=['CLUSTER_y', 'gid', 'pop2022', \n",
    "                                                'pop2030-densif', 'pop2030-sprawl',\n",
    "                                                'occ', 'no'], axis=1)\n",
    "pop2030_densif_car = pop2030_densif_car.rename(columns={'CLUSTER_x': 'CLUSTER'})"
   ]
  },
  {
   "cell_type": "code",
   "execution_count": 142,
   "id": "2cd671a2",
   "metadata": {},
   "outputs": [],
   "source": [
    "pop2030_densif_car_grouped = pop2030_densif_car.groupby('person_id').first()"
   ]
  },
  {
   "cell_type": "code",
   "execution_count": 143,
   "id": "06ebc8a4",
   "metadata": {},
   "outputs": [
    {
     "name": "stdout",
     "output_type": "stream",
     "text": [
      "17188337\n",
      "9    3934007\n",
      "8    2694784\n",
      "6    2524357\n",
      "5    1949368\n",
      "7    1448380\n",
      "1    1441868\n",
      "3    1306511\n",
      "2    1176338\n",
      "0     708332\n",
      "4       4392\n",
      "Name: CLUSTER, dtype: int64\n"
     ]
    }
   ],
   "source": [
    "print(len(pop2030_densif_car_grouped))\n",
    "print(pop2030_densif_car_grouped['CLUSTER'].value_counts())"
   ]
  },
  {
   "cell_type": "code",
   "execution_count": 144,
   "id": "382ddd6a",
   "metadata": {},
   "outputs": [],
   "source": [
    "pop2030_densif_car = pop2030_densif_car.drop(labels=['CLUSTER'], axis=1)"
   ]
  },
  {
   "cell_type": "code",
   "execution_count": 145,
   "id": "0e19a4af",
   "metadata": {},
   "outputs": [
    {
     "data": {
      "text/html": [
       "<div>\n",
       "<style scoped>\n",
       "    .dataframe tbody tr th:only-of-type {\n",
       "        vertical-align: middle;\n",
       "    }\n",
       "\n",
       "    .dataframe tbody tr th {\n",
       "        vertical-align: top;\n",
       "    }\n",
       "\n",
       "    .dataframe thead th {\n",
       "        text-align: right;\n",
       "    }\n",
       "</style>\n",
       "<table border=\"1\" class=\"dataframe\">\n",
       "  <thead>\n",
       "    <tr style=\"text-align: right;\">\n",
       "      <th></th>\n",
       "      <th>person_id</th>\n",
       "      <th>age</th>\n",
       "      <th>gender</th>\n",
       "      <th>home_loc</th>\n",
       "      <th>car</th>\n",
       "      <th>activities</th>\n",
       "      <th>act_no</th>\n",
       "      <th>act_id</th>\n",
       "      <th>activity</th>\n",
       "      <th>distance</th>\n",
       "      <th>start</th>\n",
       "      <th>end</th>\n",
       "    </tr>\n",
       "  </thead>\n",
       "  <tbody>\n",
       "    <tr>\n",
       "      <th>0</th>\n",
       "      <td>0.1</td>\n",
       "      <td>&gt;75</td>\n",
       "      <td>female</td>\n",
       "      <td>POINT (31.331430700000002 29.845431899999987)</td>\n",
       "      <td>1</td>\n",
       "      <td>3</td>\n",
       "      <td>0</td>\n",
       "      <td>0.0</td>\n",
       "      <td>home</td>\n",
       "      <td>0.000000</td>\n",
       "      <td>-inf</td>\n",
       "      <td>575.0</td>\n",
       "    </tr>\n",
       "    <tr>\n",
       "      <th>1</th>\n",
       "      <td>0.1</td>\n",
       "      <td>&gt;75</td>\n",
       "      <td>female</td>\n",
       "      <td>POINT (31.331430700000002 29.845431899999987)</td>\n",
       "      <td>1</td>\n",
       "      <td>3</td>\n",
       "      <td>1</td>\n",
       "      <td>0.1</td>\n",
       "      <td>personal</td>\n",
       "      <td>5.902421</td>\n",
       "      <td>589.0</td>\n",
       "      <td>1132.0</td>\n",
       "    </tr>\n",
       "    <tr>\n",
       "      <th>2</th>\n",
       "      <td>0.1</td>\n",
       "      <td>&gt;75</td>\n",
       "      <td>female</td>\n",
       "      <td>POINT (31.331430700000002 29.845431899999987)</td>\n",
       "      <td>1</td>\n",
       "      <td>3</td>\n",
       "      <td>2</td>\n",
       "      <td>0.2</td>\n",
       "      <td>home</td>\n",
       "      <td>5.902421</td>\n",
       "      <td>1146.0</td>\n",
       "      <td>inf</td>\n",
       "    </tr>\n",
       "  </tbody>\n",
       "</table>\n",
       "</div>"
      ],
      "text/plain": [
       "  person_id  age  gender                                       home_loc  car  \\\n",
       "0       0.1  >75  female  POINT (31.331430700000002 29.845431899999987)    1   \n",
       "1       0.1  >75  female  POINT (31.331430700000002 29.845431899999987)    1   \n",
       "2       0.1  >75  female  POINT (31.331430700000002 29.845431899999987)    1   \n",
       "\n",
       "   activities  act_no  act_id  activity  distance   start     end  \n",
       "0           3       0     0.0      home  0.000000    -inf   575.0  \n",
       "1           3       1     0.1  personal  5.902421   589.0  1132.0  \n",
       "2           3       2     0.2      home  5.902421  1146.0     inf  "
      ]
     },
     "execution_count": 145,
     "metadata": {},
     "output_type": "execute_result"
    }
   ],
   "source": [
    "pop2030_densif_car.head(3)"
   ]
  },
  {
   "cell_type": "code",
   "execution_count": 146,
   "id": "fd21dbca",
   "metadata": {},
   "outputs": [
    {
     "data": {
      "text/plain": [
       "17188337"
      ]
     },
     "execution_count": 146,
     "metadata": {},
     "output_type": "execute_result"
    }
   ],
   "source": [
    "pop2030_densif_car['person_id'].nunique()"
   ]
  },
  {
   "cell_type": "code",
   "execution_count": 147,
   "id": "881fad46",
   "metadata": {},
   "outputs": [],
   "source": [
    "# Export \n",
    "pop2030_densif_car.to_csv('data/interim/activitychains/pop2030_densif_car_100perc.csv', index=False)"
   ]
  },
  {
   "cell_type": "markdown",
   "id": "55b2f611",
   "metadata": {},
   "source": [
    "### Repeating steps for sprawl scenario with car ownership rate change"
   ]
  },
  {
   "cell_type": "code",
   "execution_count": 148,
   "id": "78f77da9",
   "metadata": {},
   "outputs": [],
   "source": [
    "# Define empty df\n",
    "df_scaled = pd.DataFrame()\n",
    "under1 = []\n",
    "# Iterate through each area\n",
    "for g in gids:\n",
    "   # Filter df to only include values within area h\n",
    "    filtered_df = df_j[df_j['gid'] == g]\n",
    "    # Calculate scaling factor base by dividing 2030 population with 2022 population for area g\n",
    "    scaling_factor = (areas.loc[areas['gid'] == g, 'pop2030-sprawl'].item()) / (df_j_grouped.loc[df_j_grouped['gid'] == g, 'pop2022'].item()/0.675)\n",
    "    # Temporary scoring scaling factor to assign it to last scaling iterations\n",
    "    temp = int(scaling_factor)\n",
    "    # Empty df for each iterations\n",
    "    random_sample = pd.DataFrame()\n",
    "    # Empty df for each iterations\n",
    "    random_sample_temp = pd.DataFrame()\n",
    "    if scaling_factor > 1:\n",
    "        # Loop through scaling if and while scaling factor is over 2\n",
    "        while scaling_factor > 2:\n",
    "            # Define sample at 100%\n",
    "            sample_size = len(filtered_df)\n",
    "            # Sample 100% without replacement\n",
    "            random_sample_temp = filtered_df.sample(n=sample_size, replace=False, random_state=42)\n",
    "            # Name occurrence depending on while iteration\n",
    "            random_sample_temp['occ'] = int(scaling_factor)\n",
    "            # Concat dfs\n",
    "            random_sample = pd.concat([random_sample, random_sample_temp], ignore_index=True)\n",
    "            # Decrease scaling factor by one for next iteration \n",
    "            scaling_factor -= 1\n",
    "        # Set sample size based on remaining scaling factor -1 of filtered_df length\n",
    "        sample_size = round(len(filtered_df)*(scaling_factor-1))\n",
    "        # Sample without replacement\n",
    "        random_sample_temp = filtered_df.sample(n=sample_size, replace=False, random_state=42)\n",
    "        # Assign new id to occ number based on prior defined temp variable\n",
    "        random_sample_temp['occ'] = temp+1\n",
    "        # Concat original df_scaled df, the while df, and the leftover sample df \n",
    "        df_scaled = pd.concat([df_scaled, random_sample, random_sample_temp], ignore_index=True)\n",
    "    else: \n",
    "        # Set sample size based on remaining scaling factor -1 of filtered_df length\n",
    "        sample_size = round(len(filtered_df)*(scaling_factor))\n",
    "        # Sample without replacement\n",
    "        random_sample_temp = filtered_df.sample(n=sample_size, replace=False, random_state=42)\n",
    "        # Assign new id to occ number based on prior defined temp variable\n",
    "        random_sample_temp['occ'] = temp+1\n",
    "        # Concat original df_scaled df, the while df, and the leftover sample df \n",
    "        df_scaled = pd.concat([df_scaled, random_sample, random_sample_temp], ignore_index=True)\n",
    "        under1.append(g)\n",
    "\n",
    "# Create a mask to filter the DataFrame\n",
    "mask = df_j['gid'].apply(lambda x: x in under1)\n",
    "# Apply the mask to create a new DataFrame\n",
    "df_j_temp = df_j[~(mask)]\n",
    "\n",
    "# Concat the original df with the scaled df\n",
    "df_scaled = pd.concat([df_j_temp, df_scaled], ignore_index=True)"
   ]
  },
  {
   "cell_type": "code",
   "execution_count": 149,
   "id": "49579949",
   "metadata": {},
   "outputs": [
    {
     "data": {
      "text/plain": [
       "17189369"
      ]
     },
     "execution_count": 149,
     "metadata": {},
     "output_type": "execute_result"
    }
   ],
   "source": [
    "len(df_scaled)"
   ]
  },
  {
   "cell_type": "code",
   "execution_count": 150,
   "id": "2059f692",
   "metadata": {},
   "outputs": [],
   "source": [
    "df_factors = df_scaled.groupby('person_id').max()"
   ]
  },
  {
   "cell_type": "markdown",
   "id": "f998c582",
   "metadata": {},
   "source": [
    "### Attach scaling factor to population"
   ]
  },
  {
   "cell_type": "code",
   "execution_count": 151,
   "id": "8c5734ba",
   "metadata": {},
   "outputs": [
    {
     "data": {
      "text/plain": [
       "17211351"
      ]
     },
     "execution_count": 151,
     "metadata": {},
     "output_type": "execute_result"
    }
   ],
   "source": [
    "df_pop2022_car['person_id'].nunique()"
   ]
  },
  {
   "cell_type": "code",
   "execution_count": 152,
   "id": "afdde350",
   "metadata": {},
   "outputs": [],
   "source": [
    "df_factors = df_factors.reset_index()"
   ]
  },
  {
   "cell_type": "code",
   "execution_count": 153,
   "id": "b55f4a3d",
   "metadata": {},
   "outputs": [],
   "source": [
    "df_pop_factors = df_pop2022_car.merge(df_factors, on='person_id', how='inner')"
   ]
  },
  {
   "cell_type": "code",
   "execution_count": 155,
   "id": "ff3c85cc",
   "metadata": {},
   "outputs": [],
   "source": [
    "# Duplicate each row by the factor in 'occ' column\n",
    "duplicated_df = df_pop_factors.loc[df_pop_factors.index.repeat(df_pop_factors['occ'])].reset_index(drop=True)"
   ]
  },
  {
   "cell_type": "code",
   "execution_count": 156,
   "id": "d2cc36a4",
   "metadata": {},
   "outputs": [],
   "source": [
    "# Add a column to indicate the number of duplicates\n",
    "duplicated_df['no'] = duplicated_df.groupby(['person_id','act_no']).cumcount() + 1\n",
    "\n",
    "# Convert 'person_id' and 'no' columns to strings\n",
    "duplicated_df['person_id'] = duplicated_df['person_id'].astype(str)\n",
    "duplicated_df['no'] = duplicated_df['no'].astype(str)\n",
    "\n",
    "# Concatenate 'person_id' and 'no' columns\n",
    "duplicated_df['person_id'] = duplicated_df['person_id'] + '.' + duplicated_df['no']"
   ]
  },
  {
   "cell_type": "code",
   "execution_count": 157,
   "id": "b06f77a0",
   "metadata": {},
   "outputs": [],
   "source": [
    "pop2030_sprawl_car = duplicated_df.drop(labels=['CLUSTER_y', 'gid', 'pop2022', \n",
    "                                                'pop2030-densif', 'pop2030-sprawl',\n",
    "                                                'occ', 'no'], axis=1)\n",
    "pop2030_sprawl_car = pop2030_sprawl_car.rename(columns={'CLUSTER_x': 'CLUSTER'})"
   ]
  },
  {
   "cell_type": "code",
   "execution_count": 158,
   "id": "cdc74374",
   "metadata": {},
   "outputs": [],
   "source": [
    "pop2030_sprawl_car_grouped = pop2030_sprawl_car.groupby('person_id').first()"
   ]
  },
  {
   "cell_type": "code",
   "execution_count": 159,
   "id": "dfa24b6e",
   "metadata": {},
   "outputs": [
    {
     "name": "stdout",
     "output_type": "stream",
     "text": [
      "17189369\n",
      "9    3941460\n",
      "8    2700034\n",
      "6    2523523\n",
      "5    1942833\n",
      "7    1444597\n",
      "1    1443080\n",
      "3    1298339\n",
      "2    1179395\n",
      "0     711735\n",
      "4       4373\n",
      "Name: CLUSTER, dtype: int64\n"
     ]
    }
   ],
   "source": [
    "print(len(pop2030_sprawl_car_grouped))\n",
    "print(pop2030_sprawl_car_grouped['CLUSTER'].value_counts())"
   ]
  },
  {
   "cell_type": "code",
   "execution_count": 160,
   "id": "a5e4026f",
   "metadata": {},
   "outputs": [],
   "source": [
    "pop2030_sprawl_car = pop2030_sprawl_car.drop(labels=['CLUSTER'], axis=1)"
   ]
  },
  {
   "cell_type": "code",
   "execution_count": 162,
   "id": "e8c76a4c",
   "metadata": {},
   "outputs": [
    {
     "data": {
      "text/html": [
       "<div>\n",
       "<style scoped>\n",
       "    .dataframe tbody tr th:only-of-type {\n",
       "        vertical-align: middle;\n",
       "    }\n",
       "\n",
       "    .dataframe tbody tr th {\n",
       "        vertical-align: top;\n",
       "    }\n",
       "\n",
       "    .dataframe thead th {\n",
       "        text-align: right;\n",
       "    }\n",
       "</style>\n",
       "<table border=\"1\" class=\"dataframe\">\n",
       "  <thead>\n",
       "    <tr style=\"text-align: right;\">\n",
       "      <th></th>\n",
       "      <th>person_id</th>\n",
       "      <th>age</th>\n",
       "      <th>gender</th>\n",
       "      <th>home_loc</th>\n",
       "      <th>car</th>\n",
       "      <th>activities</th>\n",
       "      <th>act_no</th>\n",
       "      <th>act_id</th>\n",
       "      <th>activity</th>\n",
       "      <th>distance</th>\n",
       "      <th>start</th>\n",
       "      <th>end</th>\n",
       "    </tr>\n",
       "  </thead>\n",
       "  <tbody>\n",
       "    <tr>\n",
       "      <th>0</th>\n",
       "      <td>0.1</td>\n",
       "      <td>&gt;75</td>\n",
       "      <td>female</td>\n",
       "      <td>POINT (31.331430700000002 29.845431899999987)</td>\n",
       "      <td>1</td>\n",
       "      <td>3</td>\n",
       "      <td>0</td>\n",
       "      <td>0.0</td>\n",
       "      <td>home</td>\n",
       "      <td>0.000000</td>\n",
       "      <td>-inf</td>\n",
       "      <td>575.0</td>\n",
       "    </tr>\n",
       "    <tr>\n",
       "      <th>1</th>\n",
       "      <td>0.1</td>\n",
       "      <td>&gt;75</td>\n",
       "      <td>female</td>\n",
       "      <td>POINT (31.331430700000002 29.845431899999987)</td>\n",
       "      <td>1</td>\n",
       "      <td>3</td>\n",
       "      <td>1</td>\n",
       "      <td>0.1</td>\n",
       "      <td>personal</td>\n",
       "      <td>5.902421</td>\n",
       "      <td>589.0</td>\n",
       "      <td>1132.0</td>\n",
       "    </tr>\n",
       "    <tr>\n",
       "      <th>2</th>\n",
       "      <td>0.1</td>\n",
       "      <td>&gt;75</td>\n",
       "      <td>female</td>\n",
       "      <td>POINT (31.331430700000002 29.845431899999987)</td>\n",
       "      <td>1</td>\n",
       "      <td>3</td>\n",
       "      <td>2</td>\n",
       "      <td>0.2</td>\n",
       "      <td>home</td>\n",
       "      <td>5.902421</td>\n",
       "      <td>1146.0</td>\n",
       "      <td>inf</td>\n",
       "    </tr>\n",
       "  </tbody>\n",
       "</table>\n",
       "</div>"
      ],
      "text/plain": [
       "  person_id  age  gender                                       home_loc  car  \\\n",
       "0       0.1  >75  female  POINT (31.331430700000002 29.845431899999987)    1   \n",
       "1       0.1  >75  female  POINT (31.331430700000002 29.845431899999987)    1   \n",
       "2       0.1  >75  female  POINT (31.331430700000002 29.845431899999987)    1   \n",
       "\n",
       "   activities  act_no  act_id  activity  distance   start     end  \n",
       "0           3       0     0.0      home  0.000000    -inf   575.0  \n",
       "1           3       1     0.1  personal  5.902421   589.0  1132.0  \n",
       "2           3       2     0.2      home  5.902421  1146.0     inf  "
      ]
     },
     "execution_count": 162,
     "metadata": {},
     "output_type": "execute_result"
    }
   ],
   "source": [
    "pop2030_sprawl_car.head(3)"
   ]
  },
  {
   "cell_type": "code",
   "execution_count": 161,
   "id": "7e8f1b49",
   "metadata": {},
   "outputs": [
    {
     "data": {
      "text/plain": [
       "17189369"
      ]
     },
     "execution_count": 161,
     "metadata": {},
     "output_type": "execute_result"
    }
   ],
   "source": [
    "pop2030_sprawl_car['person_id'].nunique()"
   ]
  },
  {
   "cell_type": "code",
   "execution_count": 163,
   "id": "0610cc53",
   "metadata": {},
   "outputs": [],
   "source": [
    "# Export \n",
    "pop2030_sprawl_car.to_csv('data/interim/activitychains/pop2030_sprawl_car_100perc.csv', index=False)"
   ]
  }
 ],
 "metadata": {
  "kernelspec": {
   "display_name": "Python 3 (ipykernel)",
   "language": "python",
   "name": "python3"
  },
  "language_info": {
   "codemirror_mode": {
    "name": "ipython",
    "version": 3
   },
   "file_extension": ".py",
   "mimetype": "text/x-python",
   "name": "python",
   "nbconvert_exporter": "python",
   "pygments_lexer": "ipython3",
   "version": "3.9.13"
  }
 },
 "nbformat": 4,
 "nbformat_minor": 5
}
